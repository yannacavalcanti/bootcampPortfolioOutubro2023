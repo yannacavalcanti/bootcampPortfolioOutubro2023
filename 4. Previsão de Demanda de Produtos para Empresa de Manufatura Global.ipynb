{
 "cells": [
  {
   "cell_type": "markdown",
   "id": "dd1a4f43",
   "metadata": {
    "tags": []
   },
   "source": [
    "# Bootcamp: Construa seu Portfólio em Ciência de Dados\n",
    "\n",
    "### Autora: Yanna Cavalcanti\n",
    "\n",
    "### Data: August 2023\n",
    "\n",
    "---\n",
    "\n",
    "## Projeto: Previsão de Demanda de Produtos para Empresa de Manufatura Global\n",
    "\n",
    "#### Indústria e mercado\n",
    "\n",
    "Este projeto está inserido na indústria de manufatura e logística, com foco em demanda de produtos. Pode se enquadrar em diversos setores e possuem diversos exemplos no Brasil. Aqui destacamos Whirpool (dona da Brastemp e Consul), Eletrolux, LG, Samsung, dentre outras.\n",
    "\n",
    "#### Contexto\n",
    "\n",
    "Como cientista de dados, você foi contratado por uma empresa de manufatura com operações globais. A empresa fornece uma variedade de produtos em várias categorias e possui quatro centros de distribuição principais para atender diferentes regiões. Devido à diversidade de locais de fabricação ao redor do mundo, o processo de envio de produtos da fábrica para os centros de distribuição pode levar mais de um mês. A empresa busca melhorar suas previsões de demanda para os próximos meses nos diferentes centros de distribuição, com o objetivo de otimizar o planejamento e a logística de distribuição.\n",
    "\n",
    "#### Objetivo\n",
    "Seu objetivo é desenvolver um modelo de previsão (ou *forecasting*) de demanda que permita à empresa estimar a demanda mensal de produtos com precisão para os próximos 12 meses. O foco está em prever a demanda de cada produto **nos diferentes centros de distribuição**. A empresa acredita que previsões precisas podem trazer diversos benefícios, incluindo otimização de estoque, planejamento de produção mais eficiente e redução de custos operacionais.\n",
    "\n",
    "Uma vez que os dados podem ser muito ruidosos e de baixa qualidade, você vai testar dois tipos de abordagem para a solução desse problema:\n",
    "\n",
    "* 1) Previsão do total de produtos para todos os centros e distribuição proporcional dessa previsão geral por centro: nessa abordagem, tentamos reduzir o ruído através da agregação, mas podemos perder informação granular dos específicas de cada centro\n",
    "* 2) Previsão com um modelo por centro: nesse caso, ganhamos em especificidade, mas estamos mais sujeitos a dados ruidosos que possam vir a comprometer o desempenho em algum centro.\n",
    "\n",
    "Cada vez que um produto falta em um centro, a empresa avalia um custo médio de 10 USD. Cada vez que um produto sobra, o custo é de 5 USD. Basicamente, a empresa prefere prevenir a falta mais que a superproducão, já que os produtos não são perecíveis. Você vai estimar os custos de cada uma das abordagens para escolher a que proporciona menor custo para cada centro de distribuição. Esses custos incluem transporte, armazenamento, possíveis perdas de venda, segurança, avarias, etc.\n",
    "\n",
    "#### Dataset\n",
    "\n",
    "- **Dataset Source:** [Kaggle](https://www.kaggle.com/datasets/felixzhao/productdemandforecasting)\n",
    "\n",
    "- **Dataset Description:**\n",
    "\n",
    "Cada registro no banco de dados descreve a ordem de venda de um produto. Os atributos são definidos da seguinte forma:\n",
    "\n",
    "\n",
    "* Product_Code: O código unico de cada produto\n",
    "* Warehouse: Centro de Distibuição\n",
    "* Product_Category: Categoria, ao qual o produto se refere.\n",
    "* Date: A data ao qual o cliente precida do produto\n",
    "* Order_Demand: Quantidade de produtos necessários\n"
   ]
  },
  {
   "cell_type": "markdown",
   "id": "1af97079",
   "metadata": {
    "toc": true
   },
   "source": [
    "<h1>Table of Contents<span class=\"tocSkip\"></span></h1>\n",
    "<div class=\"toc\"><ul class=\"toc-item\"><li><span><a href=\"#Bootcamp:-Construa-seu-Portfólio-em-Ciência-de-Dados\" data-toc-modified-id=\"Bootcamp:-Construa-seu-Portfólio-em-Ciência-de-Dados-1\">Bootcamp: Construa seu Portfólio em Ciência de Dados</a></span><ul class=\"toc-item\"><li><ul class=\"toc-item\"><li><span><a href=\"#Autora:-Yanna-Cavalcanti\" data-toc-modified-id=\"Autora:-Yanna-Cavalcanti-1.0.1\">Autora: Yanna Cavalcanti</a></span></li><li><span><a href=\"#Data:-August-2023\" data-toc-modified-id=\"Data:-August-2023-1.0.2\">Data: August 2023</a></span></li></ul></li><li><span><a href=\"#Projeto:-Previsão-de-Demanda-de-Produtos-para-Empresa-de-Manufatura-Global\" data-toc-modified-id=\"Projeto:-Previsão-de-Demanda-de-Produtos-para-Empresa-de-Manufatura-Global-1.1\">Projeto: Previsão de Demanda de Produtos para Empresa de Manufatura Global</a></span><ul class=\"toc-item\"><li><ul class=\"toc-item\"><li><span><a href=\"#Indústria-e-mercado\" data-toc-modified-id=\"Indústria-e-mercado-1.1.0.1\">Indústria e mercado</a></span></li><li><span><a href=\"#Contexto\" data-toc-modified-id=\"Contexto-1.1.0.2\">Contexto</a></span></li><li><span><a href=\"#Objetivo\" data-toc-modified-id=\"Objetivo-1.1.0.3\">Objetivo</a></span></li><li><span><a href=\"#Dataset\" data-toc-modified-id=\"Dataset-1.1.0.4\">Dataset</a></span></li></ul></li></ul></li><li><span><a href=\"#EDA-e-pré-processamento\" data-toc-modified-id=\"EDA-e-pré-processamento-1.2\">EDA e pré-processamento</a></span><ul class=\"toc-item\"><li><ul class=\"toc-item\"><li><span><a href=\"#Tarefa:-Obtenha-as-informações-tipo-e-quantidade-de-valores-não-nulos-por-coluna-com-.info()\" data-toc-modified-id=\"Tarefa:-Obtenha-as-informações-tipo-e-quantidade-de-valores-não-nulos-por-coluna-com-.info()-1.2.0.1\"><strong>Tarefa</strong>: Obtenha as informações tipo e quantidade de valores não-nulos por coluna com .info()</a></span></li><li><span><a href=\"#Tarefa:-Conte-quantos-NaNs-há-por-coluna-com-.isna().sum()\" data-toc-modified-id=\"Tarefa:-Conte-quantos-NaNs-há-por-coluna-com-.isna().sum()-1.2.0.2\"><strong>Tarefa</strong>: Conte quantos NaNs há por coluna com .isna().sum()</a></span></li><li><span><a href=\"#Pergunta:-Qual-é-o-resumo-da-situação-dos-dados-que-temos?\" data-toc-modified-id=\"Pergunta:-Qual-é-o-resumo-da-situação-dos-dados-que-temos?-1.2.0.3\"><strong>Pergunta</strong>: Qual é o resumo da situação dos dados que temos?</a></span></li><li><span><a href=\"#Resposta:\" data-toc-modified-id=\"Resposta:-1.2.0.4\"><strong>Resposta</strong>:</a></span></li><li><span><a href=\"#Pergunta:-Todas-as-variáveis-estão-correspondento-ao-seu-melhor-tipo?-Muitas-figuram-como-object.-Há-alguma-que-precisa-ser-modificada?\" data-toc-modified-id=\"Pergunta:-Todas-as-variáveis-estão-correspondento-ao-seu-melhor-tipo?-Muitas-figuram-como-object.-Há-alguma-que-precisa-ser-modificada?-1.2.0.5\"><strong>Pergunta</strong>: Todas as variáveis estão correspondento ao seu melhor tipo? Muitas figuram como object. Há alguma que precisa ser modificada?</a></span></li><li><span><a href=\"#Resposta:\" data-toc-modified-id=\"Resposta:-1.2.0.6\"><strong>Resposta</strong>:</a></span></li><li><span><a href=\"#Tarefa-Selecione-as-variáveis-Date,--Order_Demand-e-Warehouse\" data-toc-modified-id=\"Tarefa-Selecione-as-variáveis-Date,--Order_Demand-e-Warehouse-1.2.0.7\"><strong>Tarefa</strong> Selecione as variáveis Date,  Order_Demand e Warehouse</a></span></li><li><span><a href=\"#Tarefa:-Converta-a-variável-Date-para-datetime64-usando-a-função-do-pandas-.to_datetime().\" data-toc-modified-id=\"Tarefa:-Converta-a-variável-Date-para-datetime64-usando-a-função-do-pandas-.to_datetime().-1.2.0.8\"><strong>Tarefa:</strong> Converta a variável Date para <em>datetime64</em> usando a função do pandas <em>.to_datetime()</em>.</a></span></li><li><span><a href=\"#Tarefa:-Aplique-a-função-de-conversão-pd.to_numeric()-com-a-opção-*errors='raise'-para-a-variável-Order_Demand.\" data-toc-modified-id=\"Tarefa:-Aplique-a-função-de-conversão-pd.to_numeric()-com-a-opção-*errors='raise'-para-a-variável-Order_Demand.-1.2.0.9\"><strong>Tarefa:</strong> Aplique a função de conversão <em>pd.to_numeric() com a opção *errors='raise'</em> para a variável Order_Demand.</a></span></li><li><span><a href=\"#Pergunta:-O-que-aconteceu?-Houve-algum-erro-reportado?\" data-toc-modified-id=\"Pergunta:-O-que-aconteceu?-Houve-algum-erro-reportado?-1.2.0.10\"><strong>Pergunta</strong>: O que aconteceu? Houve algum erro reportado?</a></span></li><li><span><a href=\"#Tarefa:-Visualize-a-posição-descrita-no-codigo-do-erro-no-dataset-utilizando-a-função-iloc[]\" data-toc-modified-id=\"Tarefa:-Visualize-a-posição-descrita-no-codigo-do-erro-no-dataset-utilizando-a-função-iloc[]-1.2.0.11\"><strong>Tarefa:</strong> Visualize a posição descrita no codigo do erro no dataset utilizando a função <em>iloc[]</em></a></span></li><li><span><a href=\"#Tarefa:-Vamos-corrigir-o-aparecimento-dos-valores-entre-parêntesis-como-ex:-&quot;(1)&quot;.-Utilize-a-função-str.strip()-aplicada-a-coluna-Order_Demand-para-remover-todos-os-parênteses.-Depois-reaplique-a-função-pd.to_numeric()-como-anteriormente-para-converter-os-valores.\" data-toc-modified-id=\"Tarefa:-Vamos-corrigir-o-aparecimento-dos-valores-entre-parêntesis-como-ex:-&quot;(1)&quot;.-Utilize-a-função-str.strip()-aplicada-a-coluna-Order_Demand-para-remover-todos-os-parênteses.-Depois-reaplique-a-função-pd.to_numeric()-como-anteriormente-para-converter-os-valores.-1.2.0.12\"><strong>Tarefa:</strong> Vamos corrigir o aparecimento dos valores entre parêntesis como ex: \"(1)\". Utilize a função <em>str.strip()</em> aplicada a coluna Order_Demand para remover todos os parênteses. Depois reaplique a função <em>pd.to_numeric()</em> como anteriormente para converter os valores.</a></span></li><li><span><a href=\"#Tarefa:-Visualize-uma-amostra-dos-dados-que-contenham-datas-da-coluna-Date-nulos.\" data-toc-modified-id=\"Tarefa:-Visualize-uma-amostra-dos-dados-que-contenham-datas-da-coluna-Date-nulos.-1.2.0.13\"><strong>Tarefa:</strong> Visualize uma amostra dos dados que contenham datas da coluna <em>Date</em> nulos.</a></span></li><li><span><a href=\"#Pergunta:-Qual-é-a-proporção-de-nulos-referente-ao-total-dos-dados?-Podemos-imputar-de-alguma-forma-o-valor-dos-nulos?\" data-toc-modified-id=\"Pergunta:-Qual-é-a-proporção-de-nulos-referente-ao-total-dos-dados?-Podemos-imputar-de-alguma-forma-o-valor-dos-nulos?-1.2.0.14\"><strong>Pergunta</strong>: Qual é a proporção de nulos referente ao total dos dados? Podemos imputar de alguma forma o valor dos nulos?</a></span></li><li><span><a href=\"#Resposta:\" data-toc-modified-id=\"Resposta:-1.2.0.15\"><strong>Resposta</strong>:</a></span></li><li><span><a href=\"#Tarefa:-Remova-do-dataset-todas-as-amostras-que-contenham-nulos-na-coluna-Date\" data-toc-modified-id=\"Tarefa:-Remova-do-dataset-todas-as-amostras-que-contenham-nulos-na-coluna-Date-1.2.0.16\"><strong>Tarefa:</strong> Remova do dataset todas as amostras que contenham nulos na coluna <em>Date</em></a></span></li><li><span><a href=\"#Tarefa:-Vizualize-a-série-temporal-do-produto-usando-um-gráfico-de-linha.\" data-toc-modified-id=\"Tarefa:-Vizualize-a-série-temporal-do-produto-usando-um-gráfico-de-linha.-1.2.0.17\"><strong>Tarefa:</strong> Vizualize a série temporal do produto usando um gráfico de linha.</a></span></li><li><span><a href=\"#Tarefa:-Vizualize-os-últimos-60-pontos-da-série-temporal-do-produto-usando-um-gráfico-de-linha.\" data-toc-modified-id=\"Tarefa:-Vizualize-os-últimos-60-pontos-da-série-temporal-do-produto-usando-um-gráfico-de-linha.-1.2.0.18\"><strong>Tarefa:</strong> Vizualize os últimos 60 pontos da série temporal do produto usando um gráfico de linha.</a></span></li><li><span><a href=\"#Pergunta:-O-que-conseguimos-constatar-da-série?-Qual-é-a-frequência-mínima?-Diária?-Mensal?-Existe-alguma-granularidade-que-faça-mais-sentido?-É-necessário-fazer-alguma-agregação-temporal?\" data-toc-modified-id=\"Pergunta:-O-que-conseguimos-constatar-da-série?-Qual-é-a-frequência-mínima?-Diária?-Mensal?-Existe-alguma-granularidade-que-faça-mais-sentido?-É-necessário-fazer-alguma-agregação-temporal?-1.2.0.19\"><strong>Pergunta</strong>: O que conseguimos constatar da série? Qual é a frequência mínima? Diária? Mensal? Existe alguma granularidade que faça mais sentido? É necessário fazer alguma agregação temporal?</a></span></li><li><span><a href=\"#Resposta:\" data-toc-modified-id=\"Resposta:-1.2.0.20\"><strong>Resposta</strong>:</a></span></li><li><span><a href=\"#Tarefa:-Crie-um-dataframe-chamdo-data_m-com-a-série-temporal-re-amostrada-para-a-frequência-mensal.\" data-toc-modified-id=\"Tarefa:-Crie-um-dataframe-chamdo-data_m-com-a-série-temporal-re-amostrada-para-a-frequência-mensal.-1.2.0.21\"><strong>Tarefa:</strong> Crie um dataframe chamdo data_m com a série temporal re-amostrada para a frequência mensal.</a></span></li><li><span><a href=\"#Tarefa:-Vizualize-a-série-temporal-do-produto-usando-um-gráfico-de-linha.\" data-toc-modified-id=\"Tarefa:-Vizualize-a-série-temporal-do-produto-usando-um-gráfico-de-linha.-1.2.0.22\"><strong>Tarefa:</strong> Vizualize a série temporal do produto usando um gráfico de linha.</a></span></li><li><span><a href=\"#Pergunta:-O-que-conseguimos-constatar-da-série?-A-frequência-escolhida-é-aderente?-Existe-algum-padrão-visível?\" data-toc-modified-id=\"Pergunta:-O-que-conseguimos-constatar-da-série?-A-frequência-escolhida-é-aderente?-Existe-algum-padrão-visível?-1.2.0.23\"><strong>Pergunta</strong>: O que conseguimos constatar da série? A frequência escolhida é aderente? Existe algum padrão visível?</a></span></li><li><span><a href=\"#Resposta\" data-toc-modified-id=\"Resposta-1.2.0.24\"><strong>Resposta</strong></a></span></li><li><span><a href=\"#Tarefa:-Filtre-a-série-temporal-para-que-o-ultimo-ponto-corresponda-ao-mes-de-Dezembro-de-2016-e-o-primeiro-ponto-não-seja-inferior-a-Janeiro-de-2012-e-visualize-a-série.\" data-toc-modified-id=\"Tarefa:-Filtre-a-série-temporal-para-que-o-ultimo-ponto-corresponda-ao-mes-de-Dezembro-de-2016-e-o-primeiro-ponto-não-seja-inferior-a-Janeiro-de-2012-e-visualize-a-série.-1.2.0.25\"><strong>Tarefa:</strong> Filtre a série temporal para que o ultimo ponto corresponda ao mes de Dezembro de 2016 e o primeiro ponto não seja inferior a Janeiro de 2012 e visualize a série.</a></span></li></ul></li><li><span><a href=\"#Decomposição-de-Séries-Temporais\" data-toc-modified-id=\"Decomposição-de-Séries-Temporais-1.2.1\">Decomposição de Séries Temporais</a></span><ul class=\"toc-item\"><li><span><a href=\"#Principais-Elementos-da-Decomposição-de-Séries-Temporais\" data-toc-modified-id=\"Principais-Elementos-da-Decomposição-de-Séries-Temporais-1.2.1.1\">Principais Elementos da Decomposição de Séries Temporais</a></span></li><li><span><a href=\"#Tipos-de-Séries-Temporais:-Aditivas-e-Multiplicativas\" data-toc-modified-id=\"Tipos-de-Séries-Temporais:-Aditivas-e-Multiplicativas-1.2.1.2\">Tipos de Séries Temporais: Aditivas e Multiplicativas</a></span></li><li><span><a href=\"#Tarefa:-Importe-a-função-[seasonal_decompose()]\" data-toc-modified-id=\"Tarefa:-Importe-a-função-[seasonal_decompose()]-1.2.1.3\"><strong>Tarefa:</strong> Importe a função [<em>seasonal_decompose()</em>]</a></span></li><li><span><a href=\"#Tarefa:-Realize-a-decomposição-da-série-temporal-utilizando-a-função-seasonal_decompose()-da-biblioteca-statsmodels-e-visualize-os-gráficos.\" data-toc-modified-id=\"Tarefa:-Realize-a-decomposição-da-série-temporal-utilizando-a-função-seasonal_decompose()-da-biblioteca-statsmodels-e-visualize-os-gráficos.-1.2.1.4\"><strong>Tarefa:</strong> Realize a decomposição da série temporal utilizando a função <a href=\"https://www.statsmodels.org/stable/generated/statsmodels.tsa.seasonal.seasonal_decompose.html\" rel=\"nofollow\" target=\"_blank\"><em>seasonal_decompose()</em></a> da biblioteca statsmodels e visualize os gráficos.</a></span></li><li><span><a href=\"#Pergunta:-O-que-podemos-ver-nessas-curvas?\" data-toc-modified-id=\"Pergunta:-O-que-podemos-ver-nessas-curvas?-1.2.1.5\"><strong>Pergunta</strong>: O que podemos ver nessas curvas?</a></span></li><li><span><a href=\"#Resposta:\" data-toc-modified-id=\"Resposta:-1.2.1.6\"><strong>Resposta</strong>:</a></span></li></ul></li><li><span><a href=\"#A-Importância-das-Curvas-de-Autocorrelação-e-Autocorrelação-Parcial-no-Estudo-de-Séries-Temporais\" data-toc-modified-id=\"A-Importância-das-Curvas-de-Autocorrelação-e-Autocorrelação-Parcial-no-Estudo-de-Séries-Temporais-1.2.2\">A Importância das Curvas de Autocorrelação e Autocorrelação Parcial no Estudo de Séries Temporais</a></span><ul class=\"toc-item\"><li><span><a href=\"#Autocorrelação-(ACF):\" data-toc-modified-id=\"Autocorrelação-(ACF):-1.2.2.1\">Autocorrelação (ACF):</a></span></li><li><span><a href=\"#Autocorrelação-Parcial-(PACF):\" data-toc-modified-id=\"Autocorrelação-Parcial-(PACF):-1.2.2.2\">Autocorrelação Parcial (PACF):</a></span></li><li><span><a href=\"#Tarefa:-Visualize-as-funções-de-autocorrelação-e-autocorrelação-parcial-utilizando-a-biblioteca-statsplot-e-as-funções-plot_acf()-e-plot_pacf()\" data-toc-modified-id=\"Tarefa:-Visualize-as-funções-de-autocorrelação-e-autocorrelação-parcial-utilizando-a-biblioteca-statsplot-e-as-funções-plot_acf()-e-plot_pacf()-1.2.2.3\"><strong>Tarefa:</strong> Visualize as funções de autocorrelação e autocorrelação parcial utilizando a biblioteca statsplot e as funções <a href=\"https://www.statsmodels.org/dev/generated/statsmodels.tsa.stattools.acf.html\" rel=\"nofollow\" target=\"_blank\">plot_acf()</a> e <a href=\"https://www.statsmodels.org/dev/generated/statsmodels.tsa.stattools.pacf.html\" rel=\"nofollow\" target=\"_blank\">plot_pacf()</a></a></span></li><li><span><a href=\"#Pergunta:-O-que-podemos-interpretar-com-essas-curvas?\" data-toc-modified-id=\"Pergunta:-O-que-podemos-interpretar-com-essas-curvas?-1.2.2.4\"><strong>Pergunta</strong>: O que podemos interpretar com essas curvas?</a></span></li><li><span><a href=\"#Resposta:\" data-toc-modified-id=\"Resposta:-1.2.2.5\"><strong>Resposta</strong>:</a></span></li></ul></li></ul></li><li><span><a href=\"#Previsão-da-demanda-total\" data-toc-modified-id=\"Previsão-da-demanda-total-1.3\">Previsão da demanda total</a></span><ul class=\"toc-item\"><li><ul class=\"toc-item\"><li><span><a href=\"#Tarefa:-Crie-um-objeto-TimeSeries-utilizando-a-função-.from_dataframe()-da-biblioteca-darts.TimeSeries-para-ler-o-dataframe-com-nossa-série-temporal\" data-toc-modified-id=\"Tarefa:-Crie-um-objeto-TimeSeries-utilizando-a-função-.from_dataframe()-da-biblioteca-darts.TimeSeries-para-ler-o-dataframe-com-nossa-série-temporal-1.3.0.1\"><strong>Tarefa:</strong> Crie um objeto <em>TimeSeries</em> utilizando a função <a href=\"https://unit8co.github.io/darts/generated_api/darts.timeseries.html\" rel=\"nofollow\" target=\"_blank\"><em>.from_dataframe()</em></a> da biblioteca darts.TimeSeries para ler o dataframe com nossa série temporal</a></span></li><li><span><a href=\"#Tarefa:-Separe-um-conjunto-de-dados-com-12-meses-atuais-para-teste-e-o-resto-para-treino.\" data-toc-modified-id=\"Tarefa:-Separe-um-conjunto-de-dados-com-12-meses-atuais-para-teste-e-o-resto-para-treino.-1.3.0.2\"><strong>Tarefa:</strong> Separe um conjunto de dados com 12 meses atuais para teste e o resto para treino.</a></span></li></ul></li><li><span><a href=\"#Modelos-para-Séries-Temporais\" data-toc-modified-id=\"Modelos-para-Séries-Temporais-1.3.1\">Modelos para Séries Temporais</a></span><ul class=\"toc-item\"><li><span><a href=\"#Modelos-de-Previsão-Baseados-em-Séries-Temporais:\" data-toc-modified-id=\"Modelos-de-Previsão-Baseados-em-Séries-Temporais:-1.3.1.1\">Modelos de Previsão Baseados em Séries Temporais:</a></span></li><li><span><a href=\"#Modelos-de-Previsão-Baseados-em-Regressão:\" data-toc-modified-id=\"Modelos-de-Previsão-Baseados-em-Regressão:-1.3.1.2\">Modelos de Previsão Baseados em Regressão:</a></span></li><li><span><a href=\"#Tarefa:-Selecione-5-modelos-para-o-treinamento-utilizando-a-biblioteca-Darts:-ExponentialSmoothing,-AutoArima,-Prophet-e-LightGBMModel.\" data-toc-modified-id=\"Tarefa:-Selecione-5-modelos-para-o-treinamento-utilizando-a-biblioteca-Darts:-ExponentialSmoothing,-AutoArima,-Prophet-e-LightGBMModel.-1.3.1.3\"><strong>Tarefa:</strong> Selecione 5 modelos para o treinamento utilizando a biblioteca <a href=\"https://unit8co.github.io/darts/generated_api/darts.models.forecasting.html\" rel=\"nofollow\" target=\"_blank\">Darts</a>: ExponentialSmoothing, AutoArima, Prophet e LightGBMModel.</a></span></li></ul></li><li><span><a href=\"#Validação-cruzada-em-séries-temporais\" data-toc-modified-id=\"Validação-cruzada-em-séries-temporais-1.3.2\">Validação cruzada em séries temporais</a></span></li><li><span><a href=\"#Avaliando-a-Precisão-das-Previsões\" data-toc-modified-id=\"Avaliando-a-Precisão-das-Previsões-1.3.3\">Avaliando a Precisão das Previsões</a></span><ul class=\"toc-item\"><li><span><a href=\"#Erro-Percentual-Absoluto-Médio-(MAPE---Mean-Absolute-Percentage-Error):\" data-toc-modified-id=\"Erro-Percentual-Absoluto-Médio-(MAPE---Mean-Absolute-Percentage-Error):-1.3.3.1\">Erro Percentual Absoluto Médio (MAPE - Mean Absolute Percentage Error):</a></span></li><li><span><a href=\"#Tarefa:-Realize-a-validação-cruzada-para-cada-um-dos-modelos-utilizando-a-função-.backtest()-da-biblioteca-Darts-passando-o-dado-de-treinamento-que-separamos-e-com-horizonte-de-forecast-de-12-meses-e-com-métrica-sendo-MAPE-e-veja-qual-é-o-modelo-que-tem-melhor-performance-nos-dados.\" data-toc-modified-id=\"Tarefa:-Realize-a-validação-cruzada-para-cada-um-dos-modelos-utilizando-a-função-.backtest()-da-biblioteca-Darts-passando-o-dado-de-treinamento-que-separamos-e-com-horizonte-de-forecast-de-12-meses-e-com-métrica-sendo-MAPE-e-veja-qual-é-o-modelo-que-tem-melhor-performance-nos-dados.-1.3.3.2\"><strong>Tarefa:</strong> Realize a validação cruzada para cada um dos modelos utilizando a função <a href=\"https://unit8co.github.io/darts/quickstart/00-quickstart.html#Backtesting:-simulate-historical-forecasting\" rel=\"nofollow\" target=\"_blank\">.backtest()</a> da biblioteca Darts passando o dado de treinamento que separamos e com horizonte de forecast de 12 meses e com métrica sendo MAPE e veja qual é o modelo que tem melhor performance nos dados.</a></span></li><li><span><a href=\"#Tarefa:-Ajuste-(fit)-o-modelo-que-melhor-performou-no-backtest-nos-dados-de-treino-utilizando-a-função-.fit()-da-biblioteca-darts-e-realize-a-previsão-dos-proximos-12-meses-utilizando-a-função-.predict()-passando-como-parâmetro-o-numero-de-observações-futuras-que-queremos-prever-(aqui-12).\" data-toc-modified-id=\"Tarefa:-Ajuste-(fit)-o-modelo-que-melhor-performou-no-backtest-nos-dados-de-treino-utilizando-a-função-.fit()-da-biblioteca-darts-e-realize-a-previsão-dos-proximos-12-meses-utilizando-a-função-.predict()-passando-como-parâmetro-o-numero-de-observações-futuras-que-queremos-prever-(aqui-12).-1.3.3.3\"><strong>Tarefa:</strong> Ajuste (fit) o modelo que melhor performou no backtest nos dados de treino utilizando a função <em>.fit()</em> da biblioteca darts e realize a previsão dos proximos 12 meses utilizando a função <em>.predict()</em> passando como parâmetro o numero de observações futuras que queremos prever (aqui 12).</a></span></li><li><span><a href=\"#Tarefa:-Visualize-na-mesma-figura-a-série-temporal-completa-e-a-previsão-utilizando-para-cada-um-a-função-.plot().\" data-toc-modified-id=\"Tarefa:-Visualize-na-mesma-figura-a-série-temporal-completa-e-a-previsão-utilizando-para-cada-um-a-função-.plot().-1.3.3.4\"><strong>Tarefa:</strong> Visualize na mesma figura a série temporal completa e a previsão utilizando para cada um a função <em>.plot()</em>.</a></span></li><li><span><a href=\"#Tarefa:-Visualize-na-mesma-figura-a-série-temporal-completa-e-todas-as-previsões-de-todos-os-modelos-utilizando-para-cada-um-a-função-.plot().\" data-toc-modified-id=\"Tarefa:-Visualize-na-mesma-figura-a-série-temporal-completa-e-todas-as-previsões-de-todos-os-modelos-utilizando-para-cada-um-a-função-.plot().-1.3.3.5\"><strong>Tarefa:</strong> Visualize na mesma figura a série temporal completa e todas as previsões de todos os modelos utilizando para cada um a função <em>.plot()</em>.</a></span></li></ul></li></ul></li><li><span><a href=\"#Previsão-de-demanda-por-centro-de-distribuição\" data-toc-modified-id=\"Previsão-de-demanda-por-centro-de-distribuição-1.4\">Previsão de demanda por centro de distribuição</a></span><ul class=\"toc-item\"><li><ul class=\"toc-item\"><li><span><a href=\"#Tarefa:-Crie-e-visualize-séries-temporais-que-represente-o-total-de-produtos-para-cada-uma-das-4-Warehouses-utilizando-a-agregação-mensal-e-onde-o-ultimo-ponto-corresponda-ao-mes-de-Dezembro-de-2016-e-o-primeiro-ponto-não-seja-inferior-a-Janeiro-de-2012.\" data-toc-modified-id=\"Tarefa:-Crie-e-visualize-séries-temporais-que-represente-o-total-de-produtos-para-cada-uma-das-4-Warehouses-utilizando-a-agregação-mensal-e-onde-o-ultimo-ponto-corresponda-ao-mes-de-Dezembro-de-2016-e-o-primeiro-ponto-não-seja-inferior-a-Janeiro-de-2012.-1.4.0.1\"><strong>Tarefa:</strong> Crie e visualize séries temporais que represente o total de produtos para cada uma das 4 Warehouses utilizando a agregação mensal e onde o ultimo ponto corresponda ao mes de Dezembro de 2016 e o primeiro ponto não seja inferior a Janeiro de 2012.</a></span></li><li><span><a href=\"#Tarefa:-Separe-um-dataframe-para-cada-Warehouse-e-transforme-os-dataframes-em-objetos-TimeSeries-da-biblioteca-Darts-e-crie-também-os-datasets-de-treino-e-de-teste-(esse-ultimo-com-12-meses)\" data-toc-modified-id=\"Tarefa:-Separe-um-dataframe-para-cada-Warehouse-e-transforme-os-dataframes-em-objetos-TimeSeries-da-biblioteca-Darts-e-crie-também-os-datasets-de-treino-e-de-teste-(esse-ultimo-com-12-meses)-1.4.0.2\"><strong>Tarefa:</strong> Separe um dataframe para cada Warehouse e transforme os dataframes em objetos <em>TimeSeries</em> da biblioteca Darts e crie também os datasets de treino e de teste (esse ultimo com 12 meses)</a></span></li></ul></li><li><span><a href=\"#Previsão-de-demanda-por-centro-de-distribuição:-Abordagem-Proporcional-(Top-Down)\" data-toc-modified-id=\"Previsão-de-demanda-por-centro-de-distribuição:-Abordagem-Proporcional-(Top-Down)-1.4.1\">Previsão de demanda por centro de distribuição: Abordagem Proporcional (Top-Down)</a></span><ul class=\"toc-item\"><li><span><a href=\"#Tarefa:-Para-os-dados-de-treino,-construa-um-gráfico-mostrando-o-percentual-de-demanda-de-cada-Warehouse-com-relação-à-demanda-total-por-mês\" data-toc-modified-id=\"Tarefa:-Para-os-dados-de-treino,-construa-um-gráfico-mostrando-o-percentual-de-demanda-de-cada-Warehouse-com-relação-à-demanda-total-por-mês-1.4.1.1\"><strong>Tarefa:</strong> Para os dados de treino, construa um gráfico mostrando o percentual de demanda de cada Warehouse com relação à demanda total por mês</a></span></li><li><span><a href=\"#Pergunta:-Esse-valor-é-constante?-Temos-alguma-tendência?-Temos-dependência-temporal-definida?-O-que-poderíamos-utilizar-para-representar-um-valor-por-série-temporal?\" data-toc-modified-id=\"Pergunta:-Esse-valor-é-constante?-Temos-alguma-tendência?-Temos-dependência-temporal-definida?-O-que-poderíamos-utilizar-para-representar-um-valor-por-série-temporal?-1.4.1.2\"><strong>Pergunta</strong>: Esse valor é constante? Temos alguma tendência? Temos dependência temporal definida? O que poderíamos utilizar para representar um valor por série temporal?</a></span></li><li><span><a href=\"#Resposta:\" data-toc-modified-id=\"Resposta:-1.4.1.3\"><strong>Resposta</strong>:</a></span></li><li><span><a href=\"#Tarefa:-Para-cada-Warehouse,-calcule-a-média-do-percentual-de-demanda-mensal-com-relação-ao-total-e-salve-esses-valores-proporcionais\" data-toc-modified-id=\"Tarefa:-Para-cada-Warehouse,-calcule-a-média-do-percentual-de-demanda-mensal-com-relação-ao-total-e-salve-esses-valores-proporcionais-1.4.1.4\"><strong>Tarefa:</strong> Para cada Warehouse, calcule a média do percentual de demanda mensal com relação ao total e salve esses valores proporcionais</a></span></li><li><span><a href=\"#Tarefa:-Para-cada-série-temporal-de-Warehouse,-utilizando-o-conjunto-de-teste,-calcule-o-valor-da-projeção-percentual-multiplicando-o-valor-salvo-acima-com-o-valor-previsto-do-total-para-o-conjunto-de-teste.\" data-toc-modified-id=\"Tarefa:-Para-cada-série-temporal-de-Warehouse,-utilizando-o-conjunto-de-teste,-calcule-o-valor-da-projeção-percentual-multiplicando-o-valor-salvo-acima-com-o-valor-previsto-do-total-para-o-conjunto-de-teste.-1.4.1.5\"><strong>Tarefa:</strong> Para cada série temporal de Warehouse, utilizando o conjunto de teste, calcule o valor da projeção percentual multiplicando o valor salvo acima com o valor previsto do total para o conjunto de teste.</a></span></li></ul></li><li><span><a href=\"#Previsão-de-demanda-por-centro-de-distribuição:-Abordagem-Individual\" data-toc-modified-id=\"Previsão-de-demanda-por-centro-de-distribuição:-Abordagem-Individual-1.4.2\">Previsão de demanda por centro de distribuição: Abordagem Individual</a></span><ul class=\"toc-item\"><li><span><a href=\"#Tarefa:-Utilizando-a-modelagem-similar-ao-anterior-(função-backtest),-horizonte-de-12-meses-e-start-em-len(train)-24-meses.-Descrubra,-para-cada-Warehouse,-qual-é-o-modelo-que-melhor-performou-na-cross-validação-e-qual-sua-métrica.\" data-toc-modified-id=\"Tarefa:-Utilizando-a-modelagem-similar-ao-anterior-(função-backtest),-horizonte-de-12-meses-e-start-em-len(train)-24-meses.-Descrubra,-para-cada-Warehouse,-qual-é-o-modelo-que-melhor-performou-na-cross-validação-e-qual-sua-métrica.-1.4.2.1\"><strong>Tarefa:</strong> Utilizando a modelagem similar ao anterior (função backtest), horizonte de 12 meses e start em <em>len(train)-24 meses</em>. Descrubra, para cada Warehouse, qual é o modelo que melhor performou na cross-validação e qual sua métrica.</a></span></li></ul></li></ul></li><li><span><a href=\"#Comparando-os-modelos\" data-toc-modified-id=\"Comparando-os-modelos-1.5\">Comparando os modelos</a></span><ul class=\"toc-item\"><li><ul class=\"toc-item\"><li><span><a href=\"#Tarefa:-Para-cada-série-temporal-de-Warehouse,-calcule-os-erros-absolutos-totais-entre-o-conjunto-de-teste-e-as-predições-dos-dois-modelos.-Visualize-as-figuras-das-projeções.\" data-toc-modified-id=\"Tarefa:-Para-cada-série-temporal-de-Warehouse,-calcule-os-erros-absolutos-totais-entre-o-conjunto-de-teste-e-as-predições-dos-dois-modelos.-Visualize-as-figuras-das-projeções.-1.5.0.1\"><strong>Tarefa:</strong> Para cada série temporal de Warehouse, calcule os erros absolutos totais entre o conjunto de teste e as predições dos dois modelos. Visualize as figuras das projeções.</a></span></li><li><span><a href=\"#Pergunta:-O-que-podemos-concluir?-Qual-das-duas-abordagens-trás-o-melhor-resultado-diante-das-métricas-de-avaliação-expostas?\" data-toc-modified-id=\"Pergunta:-O-que-podemos-concluir?-Qual-das-duas-abordagens-trás-o-melhor-resultado-diante-das-métricas-de-avaliação-expostas?-1.5.0.2\"><strong>Pergunta</strong>: O que podemos concluir? Qual das duas abordagens trás o melhor resultado diante das métricas de avaliação expostas?</a></span></li><li><span><a href=\"#Resposta:\" data-toc-modified-id=\"Resposta:-1.5.0.3\"><strong>Resposta</strong>:</a></span></li></ul></li><li><span><a href=\"#Cálculo-de-impacto-financeiro-e-escolha-do-melhor-modelo\" data-toc-modified-id=\"Cálculo-de-impacto-financeiro-e-escolha-do-melhor-modelo-1.5.1\">Cálculo de impacto financeiro e escolha do melhor modelo</a></span><ul class=\"toc-item\"><li><span><a href=\"#Tarefa:-Agora-compare-os-custos-totais-para-todos-os-centros-com-o-modelo-agregado-e-os-modelos-individuais-por-centro-e-compare-os-percentualmente\" data-toc-modified-id=\"Tarefa:-Agora-compare-os-custos-totais-para-todos-os-centros-com-o-modelo-agregado-e-os-modelos-individuais-por-centro-e-compare-os-percentualmente-1.5.1.1\"><strong>Tarefa</strong>: Agora compare os custos totais para todos os centros com o modelo agregado e os modelos individuais por centro e compare-os percentualmente</a></span></li><li><span><a href=\"#Pergunta:-Que-modelo-é-preferível-para-cada-centro?\" data-toc-modified-id=\"Pergunta:-Que-modelo-é-preferível-para-cada-centro?-1.5.1.2\"><strong>Pergunta</strong>: Que modelo é preferível para cada centro?</a></span></li><li><span><a href=\"#Resposta:\" data-toc-modified-id=\"Resposta:-1.5.1.3\"><strong>Resposta</strong>:</a></span></li></ul></li></ul></li><li><span><a href=\"#Conclusão-e-pontos-chave\" data-toc-modified-id=\"Conclusão-e-pontos-chave-1.6\">Conclusão e pontos-chave</a></span></li></ul></li></ul></div>"
   ]
  },
  {
   "cell_type": "markdown",
   "id": "f296fac4",
   "metadata": {},
   "source": [
    "Primeiro, vamos instalar a biblioteca darts, que será utilizada no case"
   ]
  },
  {
   "cell_type": "code",
   "execution_count": 1,
   "id": "8902179c",
   "metadata": {
    "execution": {
     "iopub.execute_input": "2023-08-15T15:31:55.882516Z",
     "iopub.status.busy": "2023-08-15T15:31:55.881677Z",
     "iopub.status.idle": "2023-08-15T15:32:10.959739Z",
     "shell.execute_reply": "2023-08-15T15:32:10.957974Z",
     "shell.execute_reply.started": "2023-08-15T15:31:55.882473Z"
    }
   },
   "outputs": [],
   "source": [
    "!pip install u8darts &> /dev/null"
   ]
  },
  {
   "cell_type": "markdown",
   "id": "b9a859d2",
   "metadata": {},
   "source": [
    "## EDA e pré-processamento\n",
    "\n",
    "Primeiro vamos checar se o dataset está na pasta importando a biblioteca \"os\"."
   ]
  },
  {
   "cell_type": "code",
   "execution_count": 2,
   "id": "aadfb095",
   "metadata": {
    "execution": {
     "iopub.execute_input": "2023-08-15T15:32:10.961882Z",
     "iopub.status.busy": "2023-08-15T15:32:10.961494Z",
     "iopub.status.idle": "2023-08-15T15:32:10.972825Z",
     "shell.execute_reply": "2023-08-15T15:32:10.971588Z",
     "shell.execute_reply.started": "2023-08-15T15:32:10.961836Z"
    }
   },
   "outputs": [
    {
     "data": {
      "text/plain": [
       "['Historical Product Demand.csv']"
      ]
     },
     "execution_count": 2,
     "metadata": {},
     "output_type": "execute_result"
    }
   ],
   "source": [
    "import os \n",
    "    \n",
    "os.listdir(\"../input/productdemandforecasting/\")"
   ]
  },
  {
   "cell_type": "markdown",
   "id": "989c5c72",
   "metadata": {
    "tags": []
   },
   "source": [
    "Agora, vamos ler o dataset com \"pandas\"."
   ]
  },
  {
   "cell_type": "code",
   "execution_count": 3,
   "id": "6dace50e",
   "metadata": {
    "execution": {
     "iopub.execute_input": "2023-08-15T15:32:10.975080Z",
     "iopub.status.busy": "2023-08-15T15:32:10.974711Z",
     "iopub.status.idle": "2023-08-15T15:32:12.837476Z",
     "shell.execute_reply": "2023-08-15T15:32:12.836422Z",
     "shell.execute_reply.started": "2023-08-15T15:32:10.975036Z"
    }
   },
   "outputs": [
    {
     "name": "stderr",
     "output_type": "stream",
     "text": [
      "/opt/conda/lib/python3.10/site-packages/scipy/__init__.py:146: UserWarning: A NumPy version >=1.16.5 and <1.23.0 is required for this version of SciPy (detected version 1.23.5\n",
      "  warnings.warn(f\"A NumPy version >={np_minversion} and <{np_maxversion}\"\n"
     ]
    }
   ],
   "source": [
    "import pandas as pd\n",
    "import matplotlib.pyplot as plt\n",
    "import seaborn as sns\n",
    "\n",
    "\n",
    "# Carregar o conjunto de dados\n",
    "data_raw = pd.read_csv(\"../input/productdemandforecasting/Historical Product Demand.csv\")"
   ]
  },
  {
   "cell_type": "markdown",
   "id": "58d3a20b",
   "metadata": {},
   "source": [
    "Verificando as primeiras linhas dos dados"
   ]
  },
  {
   "cell_type": "code",
   "execution_count": null,
   "id": "31e158f0",
   "metadata": {
    "ExecuteTime": {
     "end_time": "2023-08-15T17:09:06.996824Z",
     "start_time": "2023-08-15T17:09:06.989966Z"
    },
    "execution": {
     "iopub.execute_input": "2023-08-15T15:32:12.841005Z",
     "iopub.status.busy": "2023-08-15T15:32:12.840619Z",
     "iopub.status.idle": "2023-08-15T15:32:12.858112Z",
     "shell.execute_reply": "2023-08-15T15:32:12.856515Z",
     "shell.execute_reply.started": "2023-08-15T15:32:12.840971Z"
    }
   },
   "outputs": [],
   "source": [
    "data_raw.head()"
   ]
  },
  {
   "cell_type": "markdown",
   "id": "e26bdba5",
   "metadata": {},
   "source": [
    "#### **Tarefa**: Obtenha as informações tipo e quantidade de valores não-nulos por coluna com .info()"
   ]
  },
  {
   "cell_type": "code",
   "execution_count": null,
   "id": "c7ebffa7",
   "metadata": {
    "execution": {
     "iopub.execute_input": "2023-08-15T15:32:12.860154Z",
     "iopub.status.busy": "2023-08-15T15:32:12.859669Z",
     "iopub.status.idle": "2023-08-15T15:32:14.598847Z",
     "shell.execute_reply": "2023-08-15T15:32:14.597525Z",
     "shell.execute_reply.started": "2023-08-15T15:32:12.860120Z"
    }
   },
   "outputs": [],
   "source": []
  },
  {
   "cell_type": "markdown",
   "id": "5edcf07e",
   "metadata": {},
   "source": [
    "#### **Tarefa**: Conte quantos NaNs há por coluna com .isna().sum()"
   ]
  },
  {
   "cell_type": "code",
   "execution_count": null,
   "id": "2833e406",
   "metadata": {
    "execution": {
     "iopub.execute_input": "2023-08-15T15:32:14.600738Z",
     "iopub.status.busy": "2023-08-15T15:32:14.600402Z",
     "iopub.status.idle": "2023-08-15T15:32:16.280604Z",
     "shell.execute_reply": "2023-08-15T15:32:16.279742Z",
     "shell.execute_reply.started": "2023-08-15T15:32:14.600707Z"
    }
   },
   "outputs": [],
   "source": []
  },
  {
   "cell_type": "markdown",
   "id": "b33e40f8",
   "metadata": {},
   "source": [
    "#### **Pergunta**: Qual é o resumo da situação dos dados que temos?"
   ]
  },
  {
   "cell_type": "markdown",
   "id": "b7773e55",
   "metadata": {},
   "source": [
    "#### **Resposta**:\n"
   ]
  },
  {
   "cell_type": "markdown",
   "id": "0a3f71f5",
   "metadata": {},
   "source": [
    "#### **Pergunta**: Todas as variáveis estão correspondento ao seu melhor tipo? Muitas figuram como object. Há alguma que precisa ser modificada?"
   ]
  },
  {
   "cell_type": "markdown",
   "id": "ad3eb3ce",
   "metadata": {},
   "source": [
    "#### **Resposta**:"
   ]
  },
  {
   "cell_type": "markdown",
   "id": "35b07016",
   "metadata": {},
   "source": [
    "#### **Tarefa** Selecione as variáveis Date,  Order_Demand e Warehouse"
   ]
  },
  {
   "cell_type": "code",
   "execution_count": null,
   "id": "e000f4e3",
   "metadata": {
    "execution": {
     "iopub.execute_input": "2023-08-15T15:32:16.282415Z",
     "iopub.status.busy": "2023-08-15T15:32:16.281690Z",
     "iopub.status.idle": "2023-08-15T15:32:16.326248Z",
     "shell.execute_reply": "2023-08-15T15:32:16.325171Z",
     "shell.execute_reply.started": "2023-08-15T15:32:16.282384Z"
    }
   },
   "outputs": [],
   "source": []
  },
  {
   "cell_type": "markdown",
   "id": "344d0da3",
   "metadata": {},
   "source": [
    "#### **Tarefa:** Converta a variável Date para *datetime64* usando a função do pandas *.to_datetime()*.\n",
    "[pd.to_datetime()](https://pandas.pydata.org/docs/reference/api/pandas.to_datetime.html)"
   ]
  },
  {
   "cell_type": "code",
   "execution_count": null,
   "id": "ed69a0e6",
   "metadata": {
    "ExecuteTime": {
     "end_time": "2023-08-15T17:09:17.720710Z",
     "start_time": "2023-08-15T17:09:17.713168Z"
    },
    "execution": {
     "iopub.execute_input": "2023-08-15T15:32:16.327979Z",
     "iopub.status.busy": "2023-08-15T15:32:16.327660Z",
     "iopub.status.idle": "2023-08-15T15:32:16.617730Z",
     "shell.execute_reply": "2023-08-15T15:32:16.616346Z",
     "shell.execute_reply.started": "2023-08-15T15:32:16.327951Z"
    }
   },
   "outputs": [],
   "source": []
  },
  {
   "cell_type": "markdown",
   "id": "3258a402",
   "metadata": {},
   "source": [
    "#### **Tarefa:** Aplique a função de conversão *pd.to_numeric() com a opção *errors='raise'* para a variável Order_Demand."
   ]
  },
  {
   "cell_type": "code",
   "execution_count": null,
   "id": "213f77a0",
   "metadata": {
    "execution": {
     "iopub.execute_input": "2023-08-15T15:32:16.620761Z",
     "iopub.status.busy": "2023-08-15T15:32:16.619482Z",
     "iopub.status.idle": "2023-08-15T15:32:16.752010Z",
     "shell.execute_reply": "2023-08-15T15:32:16.750544Z",
     "shell.execute_reply.started": "2023-08-15T15:32:16.620723Z"
    }
   },
   "outputs": [],
   "source": []
  },
  {
   "cell_type": "markdown",
   "id": "596cd495",
   "metadata": {},
   "source": [
    "#### **Pergunta**: O que aconteceu? Houve algum erro reportado?"
   ]
  },
  {
   "cell_type": "markdown",
   "id": "28af626c",
   "metadata": {},
   "source": [
    "#### **Tarefa:** Visualize a posição descrita no codigo do erro no dataset utilizando a função *iloc[]*"
   ]
  },
  {
   "cell_type": "code",
   "execution_count": null,
   "id": "a4729bb1",
   "metadata": {
    "execution": {
     "iopub.execute_input": "2023-08-15T15:32:16.753839Z",
     "iopub.status.busy": "2023-08-15T15:32:16.753423Z",
     "iopub.status.idle": "2023-08-15T15:32:16.765636Z",
     "shell.execute_reply": "2023-08-15T15:32:16.764457Z",
     "shell.execute_reply.started": "2023-08-15T15:32:16.753807Z"
    }
   },
   "outputs": [],
   "source": []
  },
  {
   "cell_type": "markdown",
   "id": "accbf463",
   "metadata": {},
   "source": [
    "#### **Tarefa:** Vamos corrigir o aparecimento dos valores entre parêntesis como ex: \"(1)\". Utilize a função *str.strip()* aplicada a coluna Order_Demand para remover todos os parênteses. Depois reaplique a função *pd.to_numeric()* como anteriormente para converter os valores."
   ]
  },
  {
   "cell_type": "code",
   "execution_count": null,
   "id": "35a6b620",
   "metadata": {
    "ExecuteTime": {
     "end_time": "2023-08-15T17:09:29.464257Z",
     "start_time": "2023-08-15T17:09:29.456161Z"
    },
    "execution": {
     "iopub.execute_input": "2023-08-15T15:32:16.767781Z",
     "iopub.status.busy": "2023-08-15T15:32:16.767329Z",
     "iopub.status.idle": "2023-08-15T15:32:18.547980Z",
     "shell.execute_reply": "2023-08-15T15:32:18.546402Z",
     "shell.execute_reply.started": "2023-08-15T15:32:16.767737Z"
    }
   },
   "outputs": [],
   "source": []
  },
  {
   "cell_type": "markdown",
   "id": "2abf9978",
   "metadata": {},
   "source": [
    "#### **Tarefa:** Visualize uma amostra dos dados que contenham datas da coluna *Date* nulos."
   ]
  },
  {
   "cell_type": "code",
   "execution_count": null,
   "id": "fc75f9dc",
   "metadata": {
    "execution": {
     "iopub.execute_input": "2023-08-15T15:32:18.549734Z",
     "iopub.status.busy": "2023-08-15T15:32:18.549394Z",
     "iopub.status.idle": "2023-08-15T15:32:18.579952Z",
     "shell.execute_reply": "2023-08-15T15:32:18.578690Z",
     "shell.execute_reply.started": "2023-08-15T15:32:18.549704Z"
    }
   },
   "outputs": [],
   "source": []
  },
  {
   "cell_type": "markdown",
   "id": "1d9e1ae0",
   "metadata": {},
   "source": [
    "#### **Pergunta**: Qual é a proporção de nulos referente ao total dos dados? Podemos imputar de alguma forma o valor dos nulos?"
   ]
  },
  {
   "cell_type": "markdown",
   "id": "c19b265e",
   "metadata": {},
   "source": [
    "#### **Resposta**: \n"
   ]
  },
  {
   "cell_type": "markdown",
   "id": "961e3a79",
   "metadata": {},
   "source": [
    "#### **Tarefa:** Remova do dataset todas as amostras que contenham nulos na coluna *Date*"
   ]
  },
  {
   "cell_type": "code",
   "execution_count": null,
   "id": "33f98f69",
   "metadata": {
    "execution": {
     "iopub.execute_input": "2023-08-15T15:32:18.586767Z",
     "iopub.status.busy": "2023-08-15T15:32:18.585758Z",
     "iopub.status.idle": "2023-08-15T15:32:18.640324Z",
     "shell.execute_reply": "2023-08-15T15:32:18.639257Z",
     "shell.execute_reply.started": "2023-08-15T15:32:18.586730Z"
    }
   },
   "outputs": [],
   "source": []
  },
  {
   "cell_type": "markdown",
   "id": "0adcc691",
   "metadata": {},
   "source": [
    "#### **Tarefa:** Vizualize a série temporal do produto usando um gráfico de linha.\n",
    "\n",
    "**Dica**: Utilize a função *.set_index()* do pandas para atribuir a variável *Date* ao index do dataframe (eixo x) e use a função *.plot()* para visualizar a curva de linha."
   ]
  },
  {
   "cell_type": "code",
   "execution_count": null,
   "id": "5b06f642",
   "metadata": {
    "execution": {
     "iopub.execute_input": "2023-08-15T15:32:18.641951Z",
     "iopub.status.busy": "2023-08-15T15:32:18.641606Z",
     "iopub.status.idle": "2023-08-15T15:32:24.457087Z",
     "shell.execute_reply": "2023-08-15T15:32:24.455719Z",
     "shell.execute_reply.started": "2023-08-15T15:32:18.641921Z"
    }
   },
   "outputs": [],
   "source": []
  },
  {
   "cell_type": "markdown",
   "id": "81129c5e",
   "metadata": {},
   "source": [
    "#### **Tarefa:** Vizualize os últimos 60 pontos da série temporal do produto usando um gráfico de linha.\n",
    "\n",
    "**Dica** Utilize as funções *.sort_index()* e *.tail(60)* do pandas de forma concatenada para ordernar o dataframe e selecionar os 60 pontos finais"
   ]
  },
  {
   "cell_type": "code",
   "execution_count": null,
   "id": "08515219",
   "metadata": {
    "execution": {
     "iopub.execute_input": "2023-08-15T15:32:24.459252Z",
     "iopub.status.busy": "2023-08-15T15:32:24.458749Z",
     "iopub.status.idle": "2023-08-15T15:32:24.944376Z",
     "shell.execute_reply": "2023-08-15T15:32:24.943415Z",
     "shell.execute_reply.started": "2023-08-15T15:32:24.459203Z"
    }
   },
   "outputs": [],
   "source": []
  },
  {
   "cell_type": "markdown",
   "id": "fbd2ac57",
   "metadata": {},
   "source": [
    "#### **Pergunta**: O que conseguimos constatar da série? Qual é a frequência mínima? Diária? Mensal? Existe alguma granularidade que faça mais sentido? É necessário fazer alguma agregação temporal?"
   ]
  },
  {
   "cell_type": "markdown",
   "id": "916fb81d",
   "metadata": {},
   "source": [
    "#### **Resposta**:\n"
   ]
  },
  {
   "cell_type": "markdown",
   "id": "a5194c59",
   "metadata": {},
   "source": [
    "#### **Tarefa:** Crie um dataframe chamdo data_m com a série temporal re-amostrada para a frequência mensal.\n",
    "\n",
    "**Dica** Utilize as [.*resample()*](https://pandas.pydata.org/docs/reference/api/pandas.DataFrame.resample.html) do pandas com a opção 'M' de Mensal e, como função de agregação, utilize a função *.sum()* de forma concatenada."
   ]
  },
  {
   "cell_type": "code",
   "execution_count": null,
   "id": "f0a29953",
   "metadata": {
    "execution": {
     "iopub.execute_input": "2023-08-15T15:32:24.946877Z",
     "iopub.status.busy": "2023-08-15T15:32:24.945840Z",
     "iopub.status.idle": "2023-08-15T15:32:25.398866Z",
     "shell.execute_reply": "2023-08-15T15:32:25.397567Z",
     "shell.execute_reply.started": "2023-08-15T15:32:24.946839Z"
    }
   },
   "outputs": [],
   "source": []
  },
  {
   "cell_type": "markdown",
   "id": "f3dfdde7",
   "metadata": {},
   "source": [
    "#### **Tarefa:** Vizualize a série temporal do produto usando um gráfico de linha."
   ]
  },
  {
   "cell_type": "code",
   "execution_count": null,
   "id": "5ac34ad5",
   "metadata": {
    "execution": {
     "iopub.execute_input": "2023-08-15T15:32:25.401024Z",
     "iopub.status.busy": "2023-08-15T15:32:25.400597Z",
     "iopub.status.idle": "2023-08-15T15:32:25.832140Z",
     "shell.execute_reply": "2023-08-15T15:32:25.830751Z",
     "shell.execute_reply.started": "2023-08-15T15:32:25.400987Z"
    }
   },
   "outputs": [],
   "source": []
  },
  {
   "cell_type": "markdown",
   "id": "4dece037",
   "metadata": {},
   "source": [
    "#### **Pergunta**: O que conseguimos constatar da série? A frequência escolhida é aderente? Existe algum padrão visível?"
   ]
  },
  {
   "cell_type": "markdown",
   "id": "24fb5f82",
   "metadata": {},
   "source": [
    "#### **Resposta**\n"
   ]
  },
  {
   "cell_type": "markdown",
   "id": "ffdc80e8",
   "metadata": {},
   "source": [
    "#### **Tarefa:** Filtre a série temporal para que o ultimo ponto corresponda ao mes de Dezembro de 2016 e o primeiro ponto não seja inferior a Janeiro de 2012 e visualize a série."
   ]
  },
  {
   "cell_type": "code",
   "execution_count": null,
   "id": "199942a7",
   "metadata": {
    "execution": {
     "iopub.execute_input": "2023-08-15T15:32:25.835926Z",
     "iopub.status.busy": "2023-08-15T15:32:25.833649Z",
     "iopub.status.idle": "2023-08-15T15:32:26.195519Z",
     "shell.execute_reply": "2023-08-15T15:32:26.194337Z",
     "shell.execute_reply.started": "2023-08-15T15:32:25.835872Z"
    }
   },
   "outputs": [],
   "source": []
  },
  {
   "attachments": {
    "2e3b3edd-2f67-4469-9ed2-16152ad7cc51.png": {
     "image/png": "[encoded data removed]"
    },
    "8edcc791-6507-4794-9c6a-2552bff60578.png": {
     "image/png": "[encoded data removed]"
    }
   },
   "cell_type": "markdown",
   "id": "683b48c2",
   "metadata": {},
   "source": [
    "### Decomposição de Séries Temporais\n",
    "\n",
    "A decomposição de séries temporais é uma técnica essencial na análise de dados sequenciais, que busca entender a estrutura subjacente dos dados, identificando os principais elementos que compõem uma série ao longo do tempo. Essa técnica é amplamente utilizada em várias áreas, incluindo economia, finanças, ciências ambientais e previsão de demanda, entre outras.\n",
    "\n",
    "#### Principais Elementos da Decomposição de Séries Temporais\n",
    "\n",
    "A decomposição de séries temporais busca identificar e separar os seguintes elementos que compõem a série:\n",
    "\n",
    "##### Tendência: \n",
    "\n",
    "A tendência é o padrão geral da série ao longo do tempo, mostrando a direção geral do movimento dos dados. Pode ser crescente, decrescente ou estável. Identificar a tendência ajuda a entender o comportamento de longo prazo da série.\n",
    "\n",
    "##### Sazonalidade: \n",
    "\n",
    "A sazonalidade representa padrões cíclicos que se repetem em intervalos regulares, geralmente associados a fatores como estações do ano, meses, semanas ou dias da semana. É importante para prever variações que ocorrem em períodos específicos.\n",
    "\n",
    "\n",
    "##### Resíduos (ou Erros): \n",
    "\n",
    "Os resíduos são as flutuações aleatórias e não explicadas pelos componentes anteriores. Eles representam o ruído presente na série e são uma parte natural de qualquer decomposição.\n",
    "\n",
    "![image.png](attachment:2e3b3edd-2f67-4469-9ed2-16152ad7cc51.png)\n",
    "\n",
    "#### Tipos de Séries Temporais: Aditivas e Multiplicativas\n",
    "\n",
    "Há dois tipos de séries temporais : aditivas e multiplicativas.\n",
    "\n",
    "##### Séries Temporais Aditivas: \n",
    "Nesse tipo de série, as observações podem ser representadas como a soma de diferentes componentes: tendência, sazonalidade, ciclos e resíduos. O padrão da série não é afetado pela magnitude dos valores e a adição ou subtração de uma constante resultará em uma série similar, deslocada verticalmente.\n",
    "\n",
    "##### Séries Temporais Multiplicativas: \n",
    "Nesse tipo de série, os elementos são multiplicados para formar a série. Os componentes incluem tendência, sazonalidade, ciclos e resíduos, mas a característica distintiva é que a magnitude dos valores influencia o padrão da série. Multiplicar ou dividir por uma constante altera significativamente a série.\n",
    "\n",
    "\n",
    "![image.png](attachment:8edcc791-6507-4794-9c6a-2552bff60578.png)\n"
   ]
  },
  {
   "cell_type": "markdown",
   "id": "0ee4c813",
   "metadata": {},
   "source": [
    "#### **Tarefa:** Importe a função [*seasonal_decompose()*]"
   ]
  },
  {
   "cell_type": "code",
   "execution_count": null,
   "id": "f844b2bd",
   "metadata": {
    "execution": {
     "iopub.execute_input": "2023-08-15T15:32:26.198135Z",
     "iopub.status.busy": "2023-08-15T15:32:26.197370Z",
     "iopub.status.idle": "2023-08-15T15:32:26.231229Z",
     "shell.execute_reply": "2023-08-15T15:32:26.230059Z",
     "shell.execute_reply.started": "2023-08-15T15:32:26.198089Z"
    }
   },
   "outputs": [],
   "source": []
  },
  {
   "cell_type": "markdown",
   "id": "dc6d7fb4",
   "metadata": {},
   "source": [
    "#### **Tarefa:** Realize a decomposição da série temporal utilizando a função [*seasonal_decompose()*](https://www.statsmodels.org/stable/generated/statsmodels.tsa.seasonal.seasonal_decompose.html) da biblioteca statsmodels e visualize os gráficos."
   ]
  },
  {
   "cell_type": "code",
   "execution_count": null,
   "id": "5ad4f6e1",
   "metadata": {
    "execution": {
     "iopub.execute_input": "2023-08-15T15:32:26.233283Z",
     "iopub.status.busy": "2023-08-15T15:32:26.232796Z",
     "iopub.status.idle": "2023-08-15T15:32:28.736932Z",
     "shell.execute_reply": "2023-08-15T15:32:28.736039Z",
     "shell.execute_reply.started": "2023-08-15T15:32:26.233239Z"
    }
   },
   "outputs": [],
   "source": []
  },
  {
   "cell_type": "markdown",
   "id": "8f60dfbc",
   "metadata": {},
   "source": [
    "#### **Pergunta**: O que podemos ver nessas curvas?"
   ]
  },
  {
   "cell_type": "markdown",
   "id": "b71bfce0",
   "metadata": {},
   "source": [
    "#### **Resposta**:\n"
   ]
  },
  {
   "cell_type": "markdown",
   "id": "40139451",
   "metadata": {},
   "source": [
    "### A Importância das Curvas de Autocorrelação e Autocorrelação Parcial no Estudo de Séries Temporais\n",
    "\n",
    "As curvas de autocorrelação e autocorrelação parcial são ferramentas fundamentais no estudo de séries temporais. Elas nos permitem identificar padrões de correlação e dependência entre as observações ao longo do tempo, fornecendo insights valiosos sobre a estrutura dos dados e auxiliando na modelagem e previsão dessas séries. Vamos entender o conceito de cada uma delas:\n",
    "\n",
    "#### Autocorrelação (ACF):\n",
    "\n",
    "A [autocorrelação](https://en.wikipedia.org/wiki/Autocorrelation) é uma medida que avalia a correlação entre uma observação em uma série temporal e suas observações anteriores, com diferentes defasagens de tempo. Em outras palavras, ela mede a similaridade entre os valores passados da série e o valor atual. O resultado é uma curva de autocorrelação, que exibe os coeficientes de correlação entre a série original e suas defasagens (lags).\n",
    "\n",
    "A curva de autocorrelação nos ajuda a identificar padrões de sazonalidade ou dependência temporal nas séries temporais. Se houver picos significativos na curva de autocorrelação em determinados lags, isso indica que há correlação positiva ou negativa entre as observações separadas por esses lags. Essas informações são cruciais para selecionar a ordem de um modelo ARIMA (Média Móvel Integrada Auto-Regressiva) e para entender o efeito de sazonalidades e tendências na série.\n",
    "\n",
    "#### Autocorrelação Parcial (PACF):\n",
    "\n",
    "A [autocorrelação parcial](https://en.wikipedia.org/wiki/Partial_autocorrelation_function) é uma extensão da autocorrelação que mede a correlação entre duas observações, controlando os efeitos de todas as observações intermediárias. Em outras palavras, a autocorrelação parcial exclui a correlação explicada pelas defasagens intermediárias e foca exclusivamente na relação direta entre as observações. Isso nos ajuda a identificar os lags mais relevantes para a modelagem da série, especialmente quando há influência de lags múltiplos.\n",
    "\n",
    "A curva de autocorrelação parcial é útil para determinar a ordem do componente autoregressivo (AR) em um modelo ARIMA. Ela também ajuda a identificar cortes bruscos após certos lags, o que pode indicar que aquele lag específico é relevante para explicar a variabilidade na série."
   ]
  },
  {
   "cell_type": "markdown",
   "id": "247f6e8b",
   "metadata": {},
   "source": [
    "#### **Tarefa:** Visualize as funções de autocorrelação e autocorrelação parcial utilizando a biblioteca statsplot e as funções [plot_acf()](https://www.statsmodels.org/dev/generated/statsmodels.tsa.stattools.acf.html) e [plot_pacf()](https://www.statsmodels.org/dev/generated/statsmodels.tsa.stattools.pacf.html)"
   ]
  },
  {
   "cell_type": "code",
   "execution_count": null,
   "id": "e1d54956",
   "metadata": {
    "execution": {
     "iopub.execute_input": "2023-08-15T15:32:28.765992Z",
     "iopub.status.busy": "2023-08-15T15:32:28.765128Z",
     "iopub.status.idle": "2023-08-15T15:32:29.423765Z",
     "shell.execute_reply": "2023-08-15T15:32:29.422477Z",
     "shell.execute_reply.started": "2023-08-15T15:32:28.765945Z"
    }
   },
   "outputs": [],
   "source": []
  },
  {
   "cell_type": "markdown",
   "id": "30a5ebc1",
   "metadata": {},
   "source": [
    "#### **Pergunta**: O que podemos interpretar com essas curvas?"
   ]
  },
  {
   "cell_type": "markdown",
   "id": "7f447786",
   "metadata": {},
   "source": [
    "#### **Resposta**:\n"
   ]
  },
  {
   "cell_type": "markdown",
   "id": "6a79dad6",
   "metadata": {},
   "source": [
    "## Previsão da demanda total\n",
    "\n",
    "Primeiro, vamos fazer a previsão considerando todos os produtos e todos os centros de distribuicão. Essa previsão será utilizada para fornecer uma estimativa de cada centro a partir de uma regra de proporcionalidade simples."
   ]
  },
  {
   "cell_type": "markdown",
   "id": "c11f196c",
   "metadata": {},
   "source": [
    "#### **Tarefa:** Crie um objeto *TimeSeries* utilizando a função [*.from_dataframe()*](https://unit8co.github.io/darts/generated_api/darts.timeseries.html) da biblioteca darts.TimeSeries para ler o dataframe com nossa série temporal"
   ]
  },
  {
   "cell_type": "code",
   "execution_count": null,
   "id": "3c9cb841",
   "metadata": {
    "execution": {
     "iopub.execute_input": "2023-08-15T15:32:29.428227Z",
     "iopub.status.busy": "2023-08-15T15:32:29.425329Z",
     "iopub.status.idle": "2023-08-15T15:32:29.578780Z",
     "shell.execute_reply": "2023-08-15T15:32:29.577830Z",
     "shell.execute_reply.started": "2023-08-15T15:32:29.428186Z"
    }
   },
   "outputs": [],
   "source": []
  },
  {
   "cell_type": "markdown",
   "id": "7e1ffc41",
   "metadata": {},
   "source": [
    "#### **Tarefa:** Separe um conjunto de dados com 12 meses atuais para teste e o resto para treino.\n",
    "\n",
    "**Dica**: Use colchetes para separar."
   ]
  },
  {
   "cell_type": "code",
   "execution_count": null,
   "id": "6923b573",
   "metadata": {
    "execution": {
     "iopub.execute_input": "2023-08-15T15:32:29.580967Z",
     "iopub.status.busy": "2023-08-15T15:32:29.579974Z",
     "iopub.status.idle": "2023-08-15T15:32:29.593559Z",
     "shell.execute_reply": "2023-08-15T15:32:29.592561Z",
     "shell.execute_reply.started": "2023-08-15T15:32:29.580930Z"
    }
   },
   "outputs": [],
   "source": []
  },
  {
   "cell_type": "markdown",
   "id": "e671f88b",
   "metadata": {},
   "source": [
    "### Modelos para Séries Temporais\n",
    "\n",
    "Na busca por prever eventos futuros e tomar decisões informadas, os modelos de previsão desempenham um papel crucial. Dois dos principais tipos de modelos utilizados para esse fim são os modelos baseados em **séries temporais** e os modelos baseados em **regressão**. Ambos os enfoques têm suas próprias abordagens distintas para capturar padrões nos dados e gerar previsões precisas. Vamos explorar esses dois tipos de modelos em detalhes, considerando suas características, usos e diferenças.\n",
    "\n",
    "\n",
    "#### Modelos de Previsão Baseados em Séries Temporais:\n",
    "Imagine que você esteja lidando com dados que são coletados em intervalos regulares ao longo do tempo, como vendas mensais, dados climáticos diários ou preço de ações semanais. Os modelos de previsão baseados em séries temporais são especialmente eficazes nesses casos. Esses modelos levam em consideração a estrutura temporal dos dados, buscando identificar padrões, tendências sazonais e ciclos que influenciam o comportamento futuro da série.\n",
    "\n",
    "Entre os modelos mais comuns de previsão baseados em séries temporais estão: **Média Móvel Simples**, **ARIMA**, **Suavização Exponencial** e **Prophet**.\n",
    "\n",
    "\n",
    "##### Exponential Smoothing (Suavização Exponencial):\n",
    "\n",
    "Exponential Smoothing (Suavização Exponencial) é uma técnica amplamente utilizada na análise de séries temporais para previsões e suavização de dados. Ela pertence à categoria de métodos de previsão que se baseiam em ponderações exponenciais decrescentes, onde os dados mais recentes recebem um peso maior na previsão do que os dados mais antigos. Esse método é particularmente útil quando a série temporal apresenta padrões de tendência e sazonalidade. Existem três principais versões do método de Exponential Smoothing:\n",
    "\n",
    "-  **Exponential Smoothing Simples (SES - Simple Exponential Smoothing)**: \n",
    "\n",
    "Esta é a versão mais básica do método e é adequada para séries temporais que não apresentam tendências ou sazonalidade. A previsão futura é calculada como uma combinação ponderada entre a observação mais recente e a previsão anterior. A fórmula para o SES é:\n",
    "\n",
    "$\\text{Previsão}^{t+1} = \\alpha * \\text{Observação}^{t} + (1 - \\alpha) * \\text{Previsão}^{t}$\n",
    "\n",
    "Onde $\\alpha$ (alfa) é o fator de suavização que varia entre 0 e 1, determinando o peso dado à observação mais recente.\n",
    "\n",
    "-  **Exponential Smoothing com Tendência (Holt's Exponential Smoothing)**: \n",
    "\n",
    "Essa versão leva em consideração a possibilidade de existência de uma tendência nos dados. Além dos termos de previsão e observação, um termo de tendência também é introduzido na fórmula. Isso permite que o método capture padrões de crescimento ou decrescimento na série temporal. A fórmula para o Exponential Smoothing com Tendência é:\n",
    "\n",
    "$\\text{Previsão}^{t+1} = \\alpha * \\text{Observação}^{t} + (1 - \\alpha) * (\\text{Previsão}^{t} + \\text{Tendência}^{t})$\n",
    "\n",
    "$\\text{Tendência}^{t+1} = \\beta * (\\text{Previsão}^{t+1} - \\text{Previsão}^{t})  + (1 - \\beta) * \\text{Tendência}^{t}$\n",
    "\n",
    "Onde $\\alpha$ controla a suavização da observação e $\\beta$ controla a suavização da tendência.\n",
    "\n",
    "-  **Exponential Smoothing com Tendência e Sazonalidade (Holt-Winters Exponential Smoothing)**: \n",
    "\n",
    "Esta é a versão mais completa do método e considera tanto a tendência quanto a sazonalidade. Além dos termos anteriores, há um termo para a componente sazonal. Isso torna essa versão adequada para séries temporais que exibem padrões sazonais recorrentes. A fórmula do Exponential Smoothing com Tendência e Sazonalidade é mais complexa e envolve a atualização de três componentes: previsão, tendência e sazonalidade.\n",
    "\n",
    "$\\text{Previsão}^{t+1} = \\alpha * \\text{Observação}^{t} + (1 - \\alpha) * (\\text{Previsão}^{t} + \\text{Tendência}^{t}) + \\text{Sazonalidade}^{t-m+1}$\n",
    "\n",
    "$\\text{Tendência}^{t+1} = \\beta * (\\text{Previsão}^{t+1} - \\text{Previsão}^{t})  + (1 - \\beta) * \\text{Tendência}^{t}$\n",
    "\n",
    "$\\text{Sazonalidade}^{t+1} = \\beta * (\\text{Observação}^{t} - \\text{Previsão}^{t+1})  + (1 - \\gamma) * \\text{Sazonalidade}^{t-m+1}$\n",
    "\n",
    "Onde $\\alpha$ controla a suavização da observação, $\\beta$ controla a suavização da tendência, $\\gamma$ controla a suavização da sazonalidade e m é o período sazonal (número de observações por período sazonal).\n",
    "\n",
    "\n",
    "Em todas as versões, os parâmetros $\\alpha$, $\\beta$ e $\\gamma$ (caso da suavização com sazonalidade) devem ser escolhidos de forma apropriada para cada série temporal. A seleção adequada desses parâmetros influencia significativamente na qualidade das previsões. Isso pode ser feito por meio de técnicas de otimização, como a busca pelo menor erro de previsão em um conjunto de dados históricos.\n",
    "\n",
    "\n",
    "##### ARIMA e suas variações\n",
    "\n",
    "A família de modelos ARIMA (Autoregressive Integrated Moving Average) e suas extensões, como ARMA (Autoregressive Moving Average) e SARIMA (Seasonal ARIMA), constituem um conjunto poderoso de técnicas de análise e previsão de séries temporais. Esses modelos foram desenvolvidos para capturar padrões e dependências presentes em dados sequenciais, como séries temporais financeiras, econômicas, climáticas e muitas outras. Eles são fundamentais para entender e explorar as tendências, sazonalidades e comportamentos subjacentes em uma série temporal.\n",
    "\n",
    "A principal motivação por trás desses modelos é a capacidade de descrever o comportamento de uma série temporal por meio de relações entre seus próprios valores passados (no caso dos modelos autorregressivos - AR), os termos de erro passados (nos modelos de média móvel - MA) e, em algumas versões, combinações de ambos (nos modelos ARMA). Além disso, esses modelos podem incorporar componentes de diferenciação, seja para tornar a série estacionária (ARIMA) ou para lidar com padrões sazonais (SARIMA).\n",
    "\n",
    "-  **Modelo AR (Autoregressive - Autorregressivo)**:\n",
    "O modelo AR é usado para modelar a relação entre uma observação e seus valores passados. Ele assume que o valor atual da série temporal é uma combinação linear de seus valores anteriores, ponderados por coeficientes. A fórmula do Modelo AR(p) é:\n",
    "\n",
    "$ X_t = \\phi_1 X_{t-1} + \\phi_2 X_{t-2} + \\ldots + \\phi_p X_{t-p} + \\varepsilon_t $\n",
    "\n",
    "Onde $X_t$ é a observação no tempo $t$, $c$ é uma constante, $\\phi_{1 \\cdots p}$ são os coeficientes autorregressivos e $\\varepsilon_t$ é o termo de erro no tempo $t$.\n",
    "\n",
    "-  **Modelo MA (Moving Average - Média Móvel)**:\n",
    "O modelo MA é usado para modelar a relação entre uma observação e os erros passados (termos de erro). Ele assume que o valor atual da série temporal é uma combinação linear de termos de erro anteriores. A fórmula do Modelo MA(q) é:\n",
    "\n",
    "$X_t = \\mu + \\theta_1 \\varepsilon_{t-1} + \\theta_2 \\varepsilon_{t-2} + \\ldots + \\theta_q \\varepsilon_{t-q}$\n",
    "\n",
    "Onde $X_t$ é a observação no tempo $t$, $\\mu$ é a média da série temporal, $\\varepsilon_t$ é termo de erro no tempo $t$ e $\\theta_{1 \\cdots q}$ são os coeficientes da média móvel.\n",
    "\n",
    "-  **Modelo ARMA (Autoregressive Moving Average - Autorregressivo de Média Móvel)**:\n",
    "O modelo ARMA combina componentes autorregressivas e de média móvel em um único modelo, permitindo capturar padrões de dependência linear em valores passados e termos de erro passados. A fórmula do Modelo ARMA(p, q):\n",
    "\n",
    "$X_t = \\phi_1 X_{t-1} + \\phi_2 X_{t-2} + \\ldots + \\phi_p X_{t-p} + \\theta_1 \\varepsilon_{t-1} + \\theta_2 \\varepsilon_{t-2} + \\ldots + \\theta_q \\varepsilon_{t-q}$\n",
    "\n",
    "-  **Modelo ARIMA (Autoregressive Integrated Moving Average - Autorregressivo de Média Móvel com Diferenciação)**:\n",
    "O modelo ARIMA é uma extensão do modelo ARMA que também incorpora um componente de diferenciação, usado para tornar a série temporal estacionária, eliminando tendências e sazonalidade. A fórmula do Modelo ARIMA(p, d, q):\n",
    "\n",
    "$(1 - \\phi_1 B - \\phi_2 B^2 - \\ldots - \\phi_p B^p) (1 - B)^d X_t = c + (1 + \\theta_1 B + \\theta_2 B^2 + \\ldots + \\theta_q B^q) \\varepsilon_t $\n",
    "\n",
    "Onde $B$ é o operador de diferença.\n",
    "\n",
    "-  **Modelo SARIMA (Seasonal ARIMA - ARIMA Sazonal)**:\n",
    "O modelo SARIMA é uma extensão do modelo ARIMA que também considera componentes sazonais.\n",
    "\n",
    "$(1 - \\phi_1 B - \\phi_2 B^2 - \\ldots - \\phi_p B^p) (1 - B)^d (1 - \\Phi_1 B^s - \\Phi_2 B^{2s} - \\ldots - \\Phi_P B^{Ps}) (1 - B^s)^D X_t = c + (1 + \\theta_1 B + \\theta_2 B^2 + \\ldots + \\theta_q B^q) (1 + \\Theta_1 B^s + \\Theta_2 B^{2s} + \\ldots + \\Theta_Q B^{Qs}) \\varepsilon_t$\n",
    "\n",
    "Onde $s$ é o período sazonal.\n",
    "\n",
    "Para todos esses modelos, a seleção adequada das ordens dos modelos (como os parâmetros $p,d,q,P,D,Q,s$) é crucial para obter previsões precisas. \n",
    "\n",
    "##### Prophet\n",
    "\n",
    "O método Prophet, desenvolvido pelo Facebook, é uma abordagem eficaz para a previsão de séries temporais que se destaca por sua facilidade de uso e flexibilidade. Projetado para lidar com séries temporais que apresentam sazonalidade, feriados e mudanças abruptas nos padrões, o Prophet é amplamente adotado para previsões em áreas como marketing, finanças, economia e operações.\n",
    "\n",
    "Suas principais Características e Componentes do Prophet são:\n",
    "\n",
    "**Componentes Sazonais e Feriados**: permite modelar sazonalidades diárias, semanais e anuais, além de feriados que podem impactar a série temporal. Esses eventos sazonais e de feriados são modelados como componentes adicionais que contribuem para as previsões.\n",
    "\n",
    "**Flexibilidade**: Capaz de acomodar uma variedade de séries temporais, incluindo aquelas com lacunas nos dados e valores ausentes. Também lida bem com valores extremos e mudanças repentinas nos padrões.\n",
    "\n",
    "**Modelagem de Tendência**: Incorpora componentes de tendência tanto linear quanto não linear. Essas tendências permitem capturar mudanças graduais ou abruptas nas séries temporais.\n",
    "\n",
    "A formula do modelo Prophet é baseada em um modelo aditivo que combina tendência, sazonalidade e efeitos de feriados para prever uma série temporal. Ele utiliza uma abordagem de decomposição, que separa a série em componentes de tendência, sazonalidade e feriados, permitindo a modelagem individual de cada parte. Sua equação geral é dada por:\n",
    "\n",
    "$y(t)=g(t)+s(t)+h(t)+\\epsilon_t$\n",
    " \n",
    "\n",
    "Onde: $y(t)$ é o valor observado no tempo t (pode ser hora, dia, mes, etc), $g(t)$ representa a tendência, $s(t)$ representa a sazonalidade, $h(t)$ captura os efeitos de feriados e $\\epsilon_t$ é o termo de erro.\n",
    "\n",
    "#### Modelos de Previsão Baseados em Regressão:\n",
    "Quando há uma relação conhecida ou suspeita entre uma variável de saída e uma ou mais variáveis de entrada, os modelos de previsão baseados em regressão são empregados. Aqui, a ideia é que essa relação, seja ela linear ou não, possa ser usada para projetar valores futuros.\n",
    "\n",
    "Alguns exemplos de modelos baseados em regressão incluem: **Regressão Linear** e **Métodos de Ensamble (XGboost, Catboost, LightGBM, RandomForest)**, **Redes Neurais**."
   ]
  },
  {
   "cell_type": "markdown",
   "id": "afe89e17",
   "metadata": {},
   "source": [
    "#### **Tarefa:** Selecione 5 modelos para o treinamento utilizando a biblioteca [Darts](https://unit8co.github.io/darts/generated_api/darts.models.forecasting.html): ExponentialSmoothing, AutoArima, Prophet e LightGBMModel.\n",
    "\n",
    "**AutoArima**: É uma implementação de um método de pesquisa por parâmetros do modelo SARIMA\n",
    "\n",
    "**LightGBM**: É uma variação do método de Gradient Boosting, similar ao XGboosting\n",
    "\n",
    "\n",
    "**Dica**: Para os modelos de regressão, como eles não se baseam em séries temporais, devemos criar variáveis para eles compreenderem essa dependência. A biblioteca Darts permite de forma bem fácil criar essas variáveis. Uma delas é utilizar versões retardadas da entrada, o que chamamos de *lags*. Esses *lags* podem ser melhor selecionados a partir da função de autocorrelação que vimos anteriormente. Adicione como parâmetro *lags=[-3]* ou outro que prefeir nos modelos de Regressão escolhidos (LightGBMModel e  LinearRegressionModel)\n",
    "\n",
    "**Obs**: Voce pode adicionar outros se preferir."
   ]
  },
  {
   "cell_type": "code",
   "execution_count": null,
   "id": "0251933c",
   "metadata": {
    "execution": {
     "iopub.execute_input": "2023-08-15T15:32:29.595272Z",
     "iopub.status.busy": "2023-08-15T15:32:29.594892Z",
     "iopub.status.idle": "2023-08-15T15:32:39.061933Z",
     "shell.execute_reply": "2023-08-15T15:32:39.060662Z",
     "shell.execute_reply.started": "2023-08-15T15:32:29.595240Z"
    }
   },
   "outputs": [],
   "source": []
  },
  {
   "cell_type": "markdown",
   "id": "1192ee75",
   "metadata": {},
   "source": [
    "### Validação cruzada em séries temporais\n",
    "\n",
    "A validação cruzada em séries temporais tem um princípio parecido com a validacão cruzada regular. Porém, os conjuntos de treino e teste são separados utilizando o tempo, de forma que o conjunto de teste é sempre **posterior** ao conjunto de treino, sem overlaps.\n",
    "Abaixo, um exemplo de backtest com refit (quando testamos em uma porção e em seguida, associamos essa porção ao treino para testar na porcão subsequente)\n",
    "\n",
    "![image](https://joaquinamatrodrigo.github.io/skforecast/0.8.1/img/backtesting_refit.gif)\n"
   ]
  },
  {
   "cell_type": "markdown",
   "id": "11feba7d",
   "metadata": {},
   "source": [
    "### Avaliando a Precisão das Previsões\n",
    "\n",
    "A eficácia de um modelo de previsão é frequentemente medida por meio de métricas que avaliam o quão bem ele se ajusta aos dados observados e quão confiáveis são suas projeções para o futuro. Várias métricas são usadas para quantificar essa precisão e permitir uma avaliação objetiva do desempenho do modelo. Aqui vamos focar na seguinte:\n",
    "\n",
    "#### Erro Percentual Absoluto Médio (MAPE - Mean Absolute Percentage Error):\n",
    "O MAPE expressa o erro médio como uma porcentagem do valor real. Isso torna a métrica mais interpretável e útil para avaliar a precisão em termos relativos, especialmente quando se lida com diferentes escalas de dados.\n",
    "\n"
   ]
  },
  {
   "cell_type": "markdown",
   "id": "f38ec01c",
   "metadata": {},
   "source": [
    "#### **Tarefa:** Realize a validação cruzada para cada um dos modelos utilizando a função [.backtest()](https://unit8co.github.io/darts/quickstart/00-quickstart.html#Backtesting:-simulate-historical-forecasting) da biblioteca Darts passando o dado de treinamento que separamos e com horizonte de forecast de 12 meses e com métrica sendo MAPE e veja qual é o modelo que tem melhor performance nos dados.\n",
    "\n",
    "**Dica 1**: Utilize o parâmetro *start=len(train)-24*, ou 2 anos para o inicio do teste.\n",
    "\n",
    "**Dica 2**: Utilize o parâmetro *forecast_horizon=12* para indicar que queremos a previsão de 12 meses\n",
    "\n",
    "**Dica 3** Utilize o parâmetro *last_points_only=False*\n",
    "\n",
    "**Dica 4** Utilize o parâmetro *metric=mape* sendo mape importado da biblioteca darts *from darts.metrics import mape*"
   ]
  },
  {
   "cell_type": "code",
   "execution_count": null,
   "id": "5a06fb8b",
   "metadata": {
    "execution": {
     "iopub.execute_input": "2023-08-15T15:32:39.063798Z",
     "iopub.status.busy": "2023-08-15T15:32:39.063412Z",
     "iopub.status.idle": "2023-08-15T15:33:42.444041Z",
     "shell.execute_reply": "2023-08-15T15:33:42.442516Z",
     "shell.execute_reply.started": "2023-08-15T15:32:39.063765Z"
    }
   },
   "outputs": [],
   "source": []
  },
  {
   "cell_type": "markdown",
   "id": "04fcc860",
   "metadata": {},
   "source": [
    "#### **Tarefa:** Ajuste (fit) o modelo que melhor performou no backtest nos dados de treino utilizando a função *.fit()* da biblioteca darts e realize a previsão dos proximos 12 meses utilizando a função *.predict()* passando como parâmetro o numero de observações futuras que queremos prever (aqui 12)."
   ]
  },
  {
   "cell_type": "code",
   "execution_count": null,
   "id": "f8a36dfa",
   "metadata": {
    "execution": {
     "iopub.execute_input": "2023-08-15T15:33:42.446641Z",
     "iopub.status.busy": "2023-08-15T15:33:42.446038Z",
     "iopub.status.idle": "2023-08-15T15:33:42.575783Z",
     "shell.execute_reply": "2023-08-15T15:33:42.574381Z",
     "shell.execute_reply.started": "2023-08-15T15:33:42.446604Z"
    }
   },
   "outputs": [],
   "source": []
  },
  {
   "cell_type": "markdown",
   "id": "51f45f1f",
   "metadata": {},
   "source": [
    "#### **Tarefa:** Visualize na mesma figura a série temporal completa e a previsão utilizando para cada um a função *.plot()*. \n",
    "\n",
    "**Dica**: *series.plot(label='data')"
   ]
  },
  {
   "cell_type": "code",
   "execution_count": null,
   "id": "1e0a0bb8",
   "metadata": {
    "execution": {
     "iopub.execute_input": "2023-08-15T15:33:42.578021Z",
     "iopub.status.busy": "2023-08-15T15:33:42.577495Z",
     "iopub.status.idle": "2023-08-15T15:33:43.260392Z",
     "shell.execute_reply": "2023-08-15T15:33:43.259076Z",
     "shell.execute_reply.started": "2023-08-15T15:33:42.577973Z"
    }
   },
   "outputs": [],
   "source": []
  },
  {
   "cell_type": "markdown",
   "id": "23bd3074",
   "metadata": {},
   "source": [
    "#### **Tarefa:** Visualize na mesma figura a série temporal completa e todas as previsões de todos os modelos utilizando para cada um a função *.plot()*. \n",
    "\n",
    "**Dica**: Você pode usar um loop for"
   ]
  },
  {
   "cell_type": "code",
   "execution_count": null,
   "id": "04c88e01",
   "metadata": {
    "execution": {
     "iopub.execute_input": "2023-08-15T15:33:43.263299Z",
     "iopub.status.busy": "2023-08-15T15:33:43.262387Z",
     "iopub.status.idle": "2023-08-15T15:33:45.596102Z",
     "shell.execute_reply": "2023-08-15T15:33:45.594545Z",
     "shell.execute_reply.started": "2023-08-15T15:33:43.263250Z"
    }
   },
   "outputs": [],
   "source": []
  },
  {
   "cell_type": "markdown",
   "id": "3c552449",
   "metadata": {},
   "source": [
    "## Previsão de demanda por centro de distribuição\n",
    "\n",
    "Precisamos fazer a previsão de demanda dos centros de distribuicão (Warehouses) para entender como podemos otimizar os custos logisticos e de estocagem dos produtos. Aqui iremos prever a demanda total para cada uma das Warehouses. Utilizaremos o mesmo processo realizado para o total de produtos, mas dessa vez, com uma série temporal por centro."
   ]
  },
  {
   "cell_type": "markdown",
   "id": "f604d083",
   "metadata": {},
   "source": [
    "#### **Tarefa:** Crie e visualize séries temporais que represente o total de produtos para cada uma das 4 Warehouses utilizando a agregação mensal e onde o ultimo ponto corresponda ao mes de Dezembro de 2016 e o primeiro ponto não seja inferior a Janeiro de 2012.\n",
    "\n",
    "Use *.groupby()* e *.resample('M')* para a agregação mensal por centro de distribuição"
   ]
  },
  {
   "cell_type": "code",
   "execution_count": null,
   "id": "21a33d84",
   "metadata": {
    "execution": {
     "iopub.execute_input": "2023-08-15T15:33:45.599652Z",
     "iopub.status.busy": "2023-08-15T15:33:45.598228Z",
     "iopub.status.idle": "2023-08-15T15:33:46.407081Z",
     "shell.execute_reply": "2023-08-15T15:33:46.405756Z",
     "shell.execute_reply.started": "2023-08-15T15:33:45.599591Z"
    }
   },
   "outputs": [],
   "source": []
  },
  {
   "cell_type": "code",
   "execution_count": null,
   "id": "13cd14d0",
   "metadata": {
    "execution": {
     "iopub.execute_input": "2023-08-15T15:33:46.409410Z",
     "iopub.status.busy": "2023-08-15T15:33:46.409011Z",
     "iopub.status.idle": "2023-08-15T15:33:47.038450Z",
     "shell.execute_reply": "2023-08-15T15:33:47.037015Z",
     "shell.execute_reply.started": "2023-08-15T15:33:46.409376Z"
    }
   },
   "outputs": [],
   "source": []
  },
  {
   "cell_type": "markdown",
   "id": "144803be",
   "metadata": {},
   "source": [
    "#### **Tarefa:** Separe um dataframe para cada Warehouse e transforme os dataframes em objetos *TimeSeries* da biblioteca Darts e crie também os datasets de treino e de teste (esse ultimo com 12 meses)"
   ]
  },
  {
   "cell_type": "code",
   "execution_count": null,
   "id": "7b5457f9",
   "metadata": {
    "execution": {
     "iopub.execute_input": "2023-08-15T15:33:47.040954Z",
     "iopub.status.busy": "2023-08-15T15:33:47.040476Z",
     "iopub.status.idle": "2023-08-15T15:33:47.079761Z",
     "shell.execute_reply": "2023-08-15T15:33:47.078491Z",
     "shell.execute_reply.started": "2023-08-15T15:33:47.040914Z"
    }
   },
   "outputs": [],
   "source": []
  },
  {
   "cell_type": "code",
   "execution_count": null,
   "id": "74e019b1",
   "metadata": {
    "execution": {
     "iopub.execute_input": "2023-08-15T15:33:47.082055Z",
     "iopub.status.busy": "2023-08-15T15:33:47.081255Z",
     "iopub.status.idle": "2023-08-15T15:33:47.111182Z",
     "shell.execute_reply": "2023-08-15T15:33:47.110334Z",
     "shell.execute_reply.started": "2023-08-15T15:33:47.081996Z"
    }
   },
   "outputs": [],
   "source": []
  },
  {
   "cell_type": "markdown",
   "id": "6727c506",
   "metadata": {},
   "source": [
    "### Previsão de demanda por centro de distribuição: Abordagem Proporcional (Top-Down)\n",
    "\n",
    "O processo de previsão Top-Down, ou proporcionalizado, também encontrado como reconciliação hierárquica Top-Down, é uma importante ferramenta para podermos ir além do obvio. Geralmente, dados mais agrupados tendem a ter mais padrões definidos que dados menos agrupados. Isso ocorre pois, no geral, temos mais amostras para reduzir o percentual da informação do percentual de ruído. Dessa maneira, podemos nos beneficiar do potencial de projeção de um dado mais agrupado para projetar um dado mais granular."
   ]
  },
  {
   "cell_type": "markdown",
   "id": "1cf1ebfb",
   "metadata": {},
   "source": [
    "#### **Tarefa:** Para os dados de treino, construa um gráfico mostrando o percentual de demanda de cada Warehouse com relação à demanda total por mês\n",
    "**Dica**: Divida a série temporal de uma Warehouse pelo total ponto a ponto"
   ]
  },
  {
   "cell_type": "code",
   "execution_count": null,
   "id": "4d407720",
   "metadata": {
    "execution": {
     "iopub.execute_input": "2023-08-15T15:33:47.113327Z",
     "iopub.status.busy": "2023-08-15T15:33:47.112308Z",
     "iopub.status.idle": "2023-08-15T15:33:47.988242Z",
     "shell.execute_reply": "2023-08-15T15:33:47.986988Z",
     "shell.execute_reply.started": "2023-08-15T15:33:47.113292Z"
    }
   },
   "outputs": [],
   "source": []
  },
  {
   "cell_type": "markdown",
   "id": "480461ea",
   "metadata": {},
   "source": [
    "#### **Pergunta**: Esse valor é constante? Temos alguma tendência? Temos dependência temporal definida? O que poderíamos utilizar para representar um valor por série temporal?"
   ]
  },
  {
   "cell_type": "markdown",
   "id": "6a6ed57f",
   "metadata": {},
   "source": [
    "#### **Resposta**: "
   ]
  },
  {
   "cell_type": "markdown",
   "id": "b8c242f4",
   "metadata": {},
   "source": [
    "#### **Tarefa:** Para cada Warehouse, calcule a média do percentual de demanda mensal com relação ao total e salve esses valores proporcionais\n",
    "\n",
    "**Lembrete**: Use apenas os dados de treino para isso.\n",
    "**Dica**: Você pode usar *.mean()*"
   ]
  },
  {
   "cell_type": "code",
   "execution_count": null,
   "id": "611cd627",
   "metadata": {
    "execution": {
     "iopub.execute_input": "2023-08-15T15:33:47.990252Z",
     "iopub.status.busy": "2023-08-15T15:33:47.989829Z",
     "iopub.status.idle": "2023-08-15T15:33:48.005752Z",
     "shell.execute_reply": "2023-08-15T15:33:48.004846Z",
     "shell.execute_reply.started": "2023-08-15T15:33:47.990216Z"
    }
   },
   "outputs": [],
   "source": []
  },
  {
   "cell_type": "markdown",
   "id": "27232df6",
   "metadata": {},
   "source": [
    "#### **Tarefa:** Para cada série temporal de Warehouse, utilizando o conjunto de teste, calcule o valor da projeção percentual multiplicando o valor salvo acima com o valor previsto do total para o conjunto de teste.\n",
    "\n",
    "**Lembrete** Use apenas os dados de teste para isso."
   ]
  },
  {
   "cell_type": "code",
   "execution_count": null,
   "id": "6bed7203",
   "metadata": {
    "execution": {
     "iopub.execute_input": "2023-08-15T15:33:48.007943Z",
     "iopub.status.busy": "2023-08-15T15:33:48.007250Z",
     "iopub.status.idle": "2023-08-15T15:33:48.026615Z",
     "shell.execute_reply": "2023-08-15T15:33:48.025010Z",
     "shell.execute_reply.started": "2023-08-15T15:33:48.007905Z"
    }
   },
   "outputs": [],
   "source": []
  },
  {
   "cell_type": "markdown",
   "id": "40567ba5",
   "metadata": {},
   "source": [
    "### Previsão de demanda por centro de distribuição: Abordagem Individual\n",
    "\n",
    "Em oposição ao modelo Top-Down, a abordagem individual é onde fazemos projeções indivualmente e independente para cada uma das séries temporais de menor agregação. Nessa abordagem, temos como premissa que, as vezes, a relação entre a informação no baixo nível e no alto nível são bem diferentes, o que impossibilita a transferência, com exito, da informação de cima para baixo em granularidade.\n"
   ]
  },
  {
   "cell_type": "markdown",
   "id": "6d15dd9f",
   "metadata": {},
   "source": [
    "#### **Tarefa:** Utilizando a modelagem similar ao anterior (função backtest), horizonte de 12 meses e start em *len(train)-24 meses*. Descrubra, para cada Warehouse, qual é o modelo que melhor performou na cross-validação e qual sua métrica."
   ]
  },
  {
   "cell_type": "code",
   "execution_count": null,
   "id": "e1f167e8",
   "metadata": {
    "execution": {
     "iopub.execute_input": "2023-08-15T15:33:48.029463Z",
     "iopub.status.busy": "2023-08-15T15:33:48.028589Z",
     "iopub.status.idle": "2023-08-15T15:34:08.346732Z",
     "shell.execute_reply": "2023-08-15T15:34:08.345557Z",
     "shell.execute_reply.started": "2023-08-15T15:33:48.029418Z"
    }
   },
   "outputs": [],
   "source": []
  },
  {
   "cell_type": "markdown",
   "id": "96ae86c5",
   "metadata": {},
   "source": [
    "## Comparando os modelos\n",
    "\n",
    "Vamos comparar os modelos de série temporal individual e o modelo obtido a partir da proporção do modelo de demanda total da companhia."
   ]
  },
  {
   "cell_type": "markdown",
   "id": "4cdef234",
   "metadata": {},
   "source": [
    "#### **Tarefa:** Para cada série temporal de Warehouse, calcule os erros absolutos totais entre o conjunto de teste e as predições dos dois modelos. Visualize as figuras das projeções."
   ]
  },
  {
   "cell_type": "code",
   "execution_count": null,
   "id": "d17159fa",
   "metadata": {
    "execution": {
     "iopub.execute_input": "2023-08-15T15:35:55.589785Z",
     "iopub.status.busy": "2023-08-15T15:35:55.589440Z",
     "iopub.status.idle": "2023-08-15T15:35:56.332591Z",
     "shell.execute_reply": "2023-08-15T15:35:56.331268Z",
     "shell.execute_reply.started": "2023-08-15T15:35:55.589757Z"
    }
   },
   "outputs": [],
   "source": []
  },
  {
   "cell_type": "markdown",
   "id": "0dab84f8",
   "metadata": {},
   "source": [
    "#### **Pergunta**: O que podemos concluir? Qual das duas abordagens trás o melhor resultado diante das métricas de avaliação expostas?"
   ]
  },
  {
   "cell_type": "markdown",
   "id": "dccabe99",
   "metadata": {},
   "source": [
    "#### **Resposta**:"
   ]
  },
  {
   "cell_type": "markdown",
   "id": "709bb607",
   "metadata": {},
   "source": [
    "### Cálculo de impacto financeiro e escolha do melhor modelo\n",
    "\n",
    "Para cada série temporal, você vai calcular o custo total, considerando que quando a previsão é menor que o real, o custo é de 10 USD por unidade e quando a previsão é maior que o real, o custo é de 5 USD a unidade."
   ]
  },
  {
   "cell_type": "code",
   "execution_count": null,
   "id": "e0bd76a4",
   "metadata": {
    "execution": {
     "iopub.execute_input": "2023-08-15T15:35:58.429883Z",
     "iopub.status.busy": "2023-08-15T15:35:58.429376Z",
     "iopub.status.idle": "2023-08-15T15:35:58.447066Z",
     "shell.execute_reply": "2023-08-15T15:35:58.445677Z",
     "shell.execute_reply.started": "2023-08-15T15:35:58.429838Z"
    }
   },
   "outputs": [],
   "source": []
  },
  {
   "cell_type": "markdown",
   "id": "920072ea",
   "metadata": {},
   "source": [
    "#### **Tarefa**: Agora compare os custos totais para todos os centros com o modelo agregado e os modelos individuais por centro e compare-os percentualmente"
   ]
  },
  {
   "cell_type": "code",
   "execution_count": null,
   "id": "241cb172",
   "metadata": {
    "execution": {
     "iopub.execute_input": "2023-08-15T15:35:58.522639Z",
     "iopub.status.busy": "2023-08-15T15:35:58.522115Z",
     "iopub.status.idle": "2023-08-15T15:35:58.538777Z",
     "shell.execute_reply": "2023-08-15T15:35:58.537297Z",
     "shell.execute_reply.started": "2023-08-15T15:35:58.522594Z"
    }
   },
   "outputs": [],
   "source": []
  },
  {
   "cell_type": "markdown",
   "id": "b997d88b",
   "metadata": {},
   "source": [
    "#### **Pergunta**: Que modelo é preferível para cada centro?"
   ]
  },
  {
   "cell_type": "markdown",
   "id": "b5512021",
   "metadata": {},
   "source": [
    "#### **Resposta**:"
   ]
  },
  {
   "cell_type": "markdown",
   "id": "4936737e",
   "metadata": {},
   "source": [
    "## Conclusão e pontos-chave\n",
    "\n",
    "Agora, considere que a abordagem agregada era a abordagem baseline da empresa antes de investirem nesse projeto de melhoria. O CEO não estava confiante em investir em um novo modelo, pois ele acredita no \"simples e efetivo\". O que você diria para ele no final deste projeto?\n",
    "\n"
   ]
  },
  {
   "cell_type": "markdown",
   "id": "e70ba7dd",
   "metadata": {},
   "source": [
    "**Resposta**:\n",
    "\n",
    "**Faça suas considerações finais**:\n"
   ]
  },
  {
   "cell_type": "code",
   "execution_count": null,
   "id": "7eba0795",
   "metadata": {},
   "outputs": [],
   "source": []
  }
 ],
 "metadata": {
  "environment": {
   "kernel": "test2",
   "name": "common-cpu.m103",
   "type": "gcloud",
   "uri": "gcr.io/deeplearning-platform-release/base-cpu:m103"
  },
  "kernelspec": {
   "display_name": "Python 3 (ipykernel)",
   "language": "python",
   "name": "python3"
  },
  "language_info": {
   "codemirror_mode": {
    "name": "ipython",
    "version": 3
   },
   "file_extension": ".py",
   "mimetype": "text/x-python",
   "name": "python",
   "nbconvert_exporter": "python",
   "pygments_lexer": "ipython3",
   "version": "3.7.12"
  },
  "toc": {
   "base_numbering": 1,
   "nav_menu": {},
   "number_sections": false,
   "sideBar": true,
   "skip_h1_title": false,
   "title_cell": "Table of Contents",
   "title_sidebar": "Contents",
   "toc_cell": true,
   "toc_position": {
    "height": "calc(100% - 180px)",
    "left": "10px",
    "top": "150px",
    "width": "358.398px"
   },
   "toc_section_display": true,
   "toc_window_display": false
  },
  "toc-autonumbering": false,
  "toc-showcode": true,
  "toc-showmarkdowntxt": true,
  "varInspector": {
   "cols": {
    "lenName": 16,
    "lenType": 16,
    "lenVar": 40
   },
   "kernels_config": {
    "python": {
     "delete_cmd_postfix": "",
     "delete_cmd_prefix": "del ",
     "library": "var_list.py",
     "varRefreshCmd": "print(var_dic_list())"
    },
    "r": {
     "delete_cmd_postfix": ") ",
     "delete_cmd_prefix": "rm(",
     "library": "var_list.r",
     "varRefreshCmd": "cat(var_dic_list()) "
    }
   },
   "types_to_exclude": [
    "module",
    "function",
    "builtin_function_or_method",
    "instance",
    "_Feature"
   ],
   "window_display": false
  }
 },
 "nbformat": 4,
 "nbformat_minor": 5
}
