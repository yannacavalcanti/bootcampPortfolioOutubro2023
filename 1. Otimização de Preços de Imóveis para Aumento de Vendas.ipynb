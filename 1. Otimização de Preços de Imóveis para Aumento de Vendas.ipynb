{
 "cells": [
  {
   "cell_type": "markdown",
   "id": "94abf756",
   "metadata": {},
   "source": [
    "# Bootcamp: Construa seu Portfólio em Ciência de Dados\n",
    "\n",
    "**Autora**: Yanna Cavalcanti\n",
    "\n",
    "**Data**: Junho 2023\n",
    "\n",
    "---\n",
    "\n",
    "## Projeto: Otimização de Preços de Imóveis para Aumento de Vendas\n",
    "\n",
    "#### Indústria e mercado\n",
    "\n",
    "Esse projeto se enquadra na indústria de real state ou setor imobiliário. Start-ups brasileiras conhecidas nesse setor incluem QuintoAndar e Loft.\n",
    "\n",
    "#### Contexto\n",
    "\n",
    "Você foi contratado como cientista de dados por uma agência imobiliária em Boston. A agência deseja aumentar suas vendas através da otimização da estratégia de precificação para os imóveis em seu portfólio. Eles acreditam que definir os preços corretos com base na demanda de mercado e nas características dos imóveis atrairá mais potenciais compradores e, consequentemente, levará a um aumento nas vendas. Atualmente, a empresa possui um modelo de regressão linear baseado em dados referentes às características internas do imóvel, sem considerar características da região onde se encontram. Esse modelo será o seu **baseline**.\n",
    "\n",
    "#### Objetivo\n",
    "\n",
    "Sua tarefa é desenvolver um modelo de precificação que auxilie a agência a determinar os preços ótimos para seus imóveis com base em um conjunto de atributos relacionados a cada bairro ou subúrbio. O objetivo é desenvolver um modelo de aprendizado de máquina que seja capaz de estimar com precisão o valor médio das residências ocupadas pelos proprietários em milhares de dólares (MEDV) com base nas informações disponíveis, como taxa de criminalidade, proporção de terrenos residenciais, concentração de óxidos nítricos, além das características internas dos imóveis, que eles já possuiam e estavam utilizando. O modelo será útil para auxiliar compradores, vendedores e agentes imobiliários a terem uma estimativa confiável do valor de uma propriedade em diferentes áreas de Boston.\n",
    "\n",
    "Você também precisa demonstrar o aumento de vendas proveniente da maior precisão, sabendo que quando o preço difere do real de +/-20%, **não há venda**.\n",
    "\n",
    "**Para simplificar o problema, nós vamos considerar que cada linha corresponde a um imóvel no portfólio dessa agência**\n",
    "\n",
    "#### Dataset\n",
    "\n",
    "- **Dataset Source:** [Kaggle](https://www.kaggle.com/datasets/vikrishnan/boston-house-prices)\n",
    "\n",
    "- **Dataset Description:** \n",
    "\n",
    "Cada registro no banco de dados descreve um subúrbio ou cidade de Boston. Os dados foram extraídos da Boston Standard Metropolitan Statistical Area (SMSA) em 1970. Os atributos são definidos da seguinte forma (retirado do [U.S. Census Service](http://www.cs.toronto.edu/~delve/data/boston/bostonDetail.html)):\n",
    "\n",
    "* CRIM: taxa de criminalidade per capita por cidade\n",
    "* ZN: proporção de terrenos residenciais zoneados para lotes com mais de 25.000 pés quadrados\n",
    "* INDUS: proporção de acres de negócios não varejistas por cidade\n",
    "* CHAS: variável dummy do rio Charles (= 1 se o lote faz fronteira com o rio; 0 caso contrário)\n",
    "* NOX: concentração de óxidos nítricos (partes por 10 milhões)\n",
    "* RM: número médio de quartos por habitação\n",
    "* AGE: proporção de unidades ocupadas pelo proprietário construídas antes de 1940\n",
    "* DIS: distâncias ponderadas para cinco centros de emprego em Boston\n",
    "* RAD: índice de acessibilidade às rodovias radiais\n",
    "* TAX: taxa de imposto sobre a propriedade com valor total por US$10.000\n",
    "* PTRATIO: proporção aluno-professor por cidade\n",
    "* B: 1000(Bk−0,63)2, onde Bk é a proporção de negros por cidade\n",
    "* LSTAT: \\% de status inferior da população\n",
    "* MEDV: Valor médio das residências ocupadas pelos proprietários em US\\$1000\n",
    "\n",
    "Podemos ver que os atributos de entrada têm uma mistura de unidades.\n",
    "\n"
   ]
  },
  {
   "cell_type": "markdown",
   "id": "0210fa58",
   "metadata": {
    "toc": true
   },
   "source": [
    "<h1>Table of Contents<span class=\"tocSkip\"></span></h1>\n",
    "<div class=\"toc\"><ul class=\"toc-item\"><li><span><a href=\"#Bootcamp:-Construa-seu-Portfólio-em-Ciência-de-Dados\" data-toc-modified-id=\"Bootcamp:-Construa-seu-Portfólio-em-Ciência-de-Dados-1\"><span class=\"toc-item-num\">1&nbsp;&nbsp;</span>Bootcamp: Construa seu Portfólio em Ciência de Dados</a></span><ul class=\"toc-item\"><li><span><a href=\"#Projeto:-Otimização-de-Preços-de-Imóveis-para-Aumento-de-Vendas\" data-toc-modified-id=\"Projeto:-Otimização-de-Preços-de-Imóveis-para-Aumento-de-Vendas-1.1\"><span class=\"toc-item-num\">1.1&nbsp;&nbsp;</span>Projeto: Otimização de Preços de Imóveis para Aumento de Vendas</a></span><ul class=\"toc-item\"><li><ul class=\"toc-item\"><li><span><a href=\"#Indústria-e-mercado\" data-toc-modified-id=\"Indústria-e-mercado-1.1.0.1\"><span class=\"toc-item-num\">1.1.0.1&nbsp;&nbsp;</span>Indústria e mercado</a></span></li><li><span><a href=\"#Contexto\" data-toc-modified-id=\"Contexto-1.1.0.2\"><span class=\"toc-item-num\">1.1.0.2&nbsp;&nbsp;</span>Contexto</a></span></li><li><span><a href=\"#Objetivo\" data-toc-modified-id=\"Objetivo-1.1.0.3\"><span class=\"toc-item-num\">1.1.0.3&nbsp;&nbsp;</span>Objetivo</a></span></li><li><span><a href=\"#Dataset\" data-toc-modified-id=\"Dataset-1.1.0.4\"><span class=\"toc-item-num\">1.1.0.4&nbsp;&nbsp;</span>Dataset</a></span></li></ul></li></ul></li><li><span><a href=\"#Análise-exploratória-de-dados--(EDA)\" data-toc-modified-id=\"Análise-exploratória-de-dados--(EDA)-1.2\"><span class=\"toc-item-num\">1.2&nbsp;&nbsp;</span>Análise exploratória de dados  (EDA)</a></span><ul class=\"toc-item\"><li><ul class=\"toc-item\"><li><span><a href=\"#Tarefa:-Visualize-as-primeiras-linhas-do-conjunto-de-dados-com-.head()\" data-toc-modified-id=\"Tarefa:-Visualize-as-primeiras-linhas-do-conjunto-de-dados-com-.head()-1.2.0.1\"><span class=\"toc-item-num\">1.2.0.1&nbsp;&nbsp;</span><strong>Tarefa</strong>: Visualize as primeiras linhas do conjunto de dados com <em>.head()</em></a></span></li><li><span><a href=\"#Tarefa:-Conte-quantos-NaNs-há-por-coluna-com-.isna().sum()\" data-toc-modified-id=\"Tarefa:-Conte-quantos-NaNs-há-por-coluna-com-.isna().sum()-1.2.0.2\"><span class=\"toc-item-num\">1.2.0.2&nbsp;&nbsp;</span><strong>Tarefa</strong>: Conte quantos NaNs há por coluna com <em>.isna().sum()</em></a></span></li><li><span><a href=\"#Tarefa:-Use-.describe-para-recuperar-algumas-estatísticas-descritivas-do-conjunto-de-dados\" data-toc-modified-id=\"Tarefa:-Use-.describe-para-recuperar-algumas-estatísticas-descritivas-do-conjunto-de-dados-1.2.0.3\"><span class=\"toc-item-num\">1.2.0.3&nbsp;&nbsp;</span><strong>Tarefa</strong>: Use <em>.describe</em> para recuperar algumas estatísticas descritivas do conjunto de dados</a></span></li><li><span><a href=\"#Tarefa:-Plotar-o-histograma-com-o-valor-médio-das-residências\" data-toc-modified-id=\"Tarefa:-Plotar-o-histograma-com-o-valor-médio-das-residências-1.2.0.4\"><span class=\"toc-item-num\">1.2.0.4&nbsp;&nbsp;</span><strong>Tarefa</strong>: Plotar o histograma com o valor médio das residências</a></span></li><li><span><a href=\"#Tarefa:-Plote-o-gráfico-de-dispersão-entre-as-variáveis-RM-e-MEDV-com-linha-de-regressão\" data-toc-modified-id=\"Tarefa:-Plote-o-gráfico-de-dispersão-entre-as-variáveis-RM-e-MEDV-com-linha-de-regressão-1.2.0.5\"><span class=\"toc-item-num\">1.2.0.5&nbsp;&nbsp;</span><strong>Tarefa</strong>: Plote o gráfico de dispersão entre as variáveis RM e MEDV com linha de regressão</a></span></li><li><span><a href=\"#Tarefa:-Plote-o-histograma-de-acessibilidade-a-rodovias-radias-com-&quot;seaborn&quot;\" data-toc-modified-id=\"Tarefa:-Plote-o-histograma-de-acessibilidade-a-rodovias-radias-com-&quot;seaborn&quot;-1.2.0.6\"><span class=\"toc-item-num\">1.2.0.6&nbsp;&nbsp;</span><strong>Tarefa</strong>: Plote o histograma de acessibilidade a rodovias radias com \"seaborn\"</a></span></li><li><span><a href=\"#Tarefa:-Crie-um-heatmap-da-correlação-entre-as-variáveis.\" data-toc-modified-id=\"Tarefa:-Crie-um-heatmap-da-correlação-entre-as-variáveis.-1.2.0.7\"><span class=\"toc-item-num\">1.2.0.7&nbsp;&nbsp;</span><strong>Tarefa</strong>: Crie um heatmap da correlação entre as variáveis.</a></span></li><li><span><a href=\"#Pergunta:-O-que-conseguimos-inferir-da-matriz-de-correlação?\" data-toc-modified-id=\"Pergunta:-O-que-conseguimos-inferir-da-matriz-de-correlação?-1.2.0.8\"><span class=\"toc-item-num\">1.2.0.8&nbsp;&nbsp;</span><strong>Pergunta</strong>: O que conseguimos inferir da matriz de correlação?</a></span></li><li><span><a href=\"#Bônus-EDA:-Pandas-profiling\" data-toc-modified-id=\"Bônus-EDA:-Pandas-profiling-1.2.0.9\"><span class=\"toc-item-num\">1.2.0.9&nbsp;&nbsp;</span><strong>Bônus EDA</strong>: Pandas profiling</a></span></li></ul></li></ul></li><li><span><a href=\"#Pré-processamento-|-Limpeza-dos-dados\" data-toc-modified-id=\"Pré-processamento-|-Limpeza-dos-dados-1.3\"><span class=\"toc-item-num\">1.3&nbsp;&nbsp;</span>Pré-processamento | Limpeza dos dados</a></span><ul class=\"toc-item\"><li><span><a href=\"#Remoção-de--Outliers-usando-o-interquartle-range\" data-toc-modified-id=\"Remoção-de--Outliers-usando-o-interquartle-range-1.3.1\"><span class=\"toc-item-num\">1.3.1&nbsp;&nbsp;</span>Remoção de  Outliers usando o interquartle range</a></span><ul class=\"toc-item\"><li><span><a href=\"#Tarefa:-complete-a-funcao-abaixo-seguindo-as-instrucoes-nos-comentarios\" data-toc-modified-id=\"Tarefa:-complete-a-funcao-abaixo-seguindo-as-instrucoes-nos-comentarios-1.3.1.1\"><span class=\"toc-item-num\">1.3.1.1&nbsp;&nbsp;</span><strong>Tarefa</strong>: complete a funcao abaixo seguindo as instrucoes nos comentarios</a></span></li><li><span><a href=\"#Tarefa:-use-a-função-acima-para-remover-os-outliers-da-sua-base-de-dados\" data-toc-modified-id=\"Tarefa:-use-a-função-acima-para-remover-os-outliers-da-sua-base-de-dados-1.3.1.2\"><span class=\"toc-item-num\">1.3.1.2&nbsp;&nbsp;</span><strong>Tarefa</strong>: use a função acima para remover os outliers da sua base de dados</a></span></li></ul></li></ul></li><li><span><a href=\"#Modelo-de-precificação\" data-toc-modified-id=\"Modelo-de-precificação-1.4\"><span class=\"toc-item-num\">1.4&nbsp;&nbsp;</span>Modelo de precificação</a></span><ul class=\"toc-item\"><li><span><a href=\"#Train-test-split\" data-toc-modified-id=\"Train-test-split-1.4.1\"><span class=\"toc-item-num\">1.4.1&nbsp;&nbsp;</span>Train test split</a></span></li><li><span><a href=\"#Regressão-linear\" data-toc-modified-id=\"Regressão-linear-1.4.2\"><span class=\"toc-item-num\">1.4.2&nbsp;&nbsp;</span>Regressão linear</a></span><ul class=\"toc-item\"><li><span><a href=\"#Tarefa:-agora-faca-a-previsao-dos-seus-dados-de-treino-e-validação-usando-o-.predict()-do-modelo\" data-toc-modified-id=\"Tarefa:-agora-faca-a-previsao-dos-seus-dados-de-treino-e-validação-usando-o-.predict()-do-modelo-1.4.2.1\"><span class=\"toc-item-num\">1.4.2.1&nbsp;&nbsp;</span><strong>Tarefa</strong>: agora faca a previsao dos seus dados de treino e validação usando o .predict() do modelo</a></span></li><li><span><a href=\"#Avaliação-de-performance-no-treino-e-validação\" data-toc-modified-id=\"Avaliação-de-performance-no-treino-e-validação-1.4.2.2\"><span class=\"toc-item-num\">1.4.2.2&nbsp;&nbsp;</span>Avaliação de performance no treino e validação</a></span></li><li><span><a href=\"#Pergunta:-Comparando-o-treino-e-a-validação,-o-modelo-está-sofrendo-overfitting-de-uma-maneira-relevante?\" data-toc-modified-id=\"Pergunta:-Comparando-o-treino-e-a-validação,-o-modelo-está-sofrendo-overfitting-de-uma-maneira-relevante?-1.4.2.3\"><span class=\"toc-item-num\">1.4.2.3&nbsp;&nbsp;</span>Pergunta: Comparando o treino e a validação, o modelo está sofrendo overfitting de uma maneira relevante?</a></span></li><li><span><a href=\"#Tarefa:-Visualize-as-diferenças-entre-os-preços-reais-e-os-valores-previstos-com-um-gráfico-de-dispersão.\" data-toc-modified-id=\"Tarefa:-Visualize-as-diferenças-entre-os-preços-reais-e-os-valores-previstos-com-um-gráfico-de-dispersão.-1.4.2.4\"><span class=\"toc-item-num\">1.4.2.4&nbsp;&nbsp;</span><strong>Tarefa</strong>: Visualize as diferenças entre os preços reais e os valores previstos com um gráfico de dispersão.</a></span></li><li><span><a href=\"#Tarefa:-Printar-os-coeficientes\" data-toc-modified-id=\"Tarefa:-Printar-os-coeficientes-1.4.2.5\"><span class=\"toc-item-num\">1.4.2.5&nbsp;&nbsp;</span><strong>Tarefa</strong>: Printar os coeficientes</a></span></li><li><span><a href=\"#Pergunta:-Os-coeficientes-desse-modelo-correspondem-à-importância-das-features?\" data-toc-modified-id=\"Pergunta:-Os-coeficientes-desse-modelo-correspondem-à-importância-das-features?-1.4.2.6\"><span class=\"toc-item-num\">1.4.2.6&nbsp;&nbsp;</span><strong>Pergunta</strong>: Os coeficientes desse modelo correspondem à importância das features?</a></span></li><li><span><a href=\"#Pergunta:-Como-fazer-com-que-os-coeficientes-correspondam-minimamente-a-importâncias?\" data-toc-modified-id=\"Pergunta:-Como-fazer-com-que-os-coeficientes-correspondam-minimamente-a-importâncias?-1.4.2.7\"><span class=\"toc-item-num\">1.4.2.7&nbsp;&nbsp;</span><strong>Pergunta</strong>: Como fazer com que os coeficientes correspondam minimamente a importâncias?</a></span></li><li><span><a href=\"#Tarefa:-Implemente-as-modificacoes-necessarias-para-que-os-coeficientes-sugiram-importancias\" data-toc-modified-id=\"Tarefa:-Implemente-as-modificacoes-necessarias-para-que-os-coeficientes-sugiram-importancias-1.4.2.8\"><span class=\"toc-item-num\">1.4.2.8&nbsp;&nbsp;</span>Tarefa: Implemente as modificacoes necessarias para que os coeficientes sugiram importancias</a></span></li><li><span><a href=\"#Tarefa:-Printar-os-coeficientes-antes-e-depois\" data-toc-modified-id=\"Tarefa:-Printar-os-coeficientes-antes-e-depois-1.4.2.9\"><span class=\"toc-item-num\">1.4.2.9&nbsp;&nbsp;</span><strong>Tarefa:</strong> Printar os coeficientes antes e depois</a></span></li><li><span><a href=\"#Pergunta:-O-que-acontece-com-a-coluna-NOX-nos-dois-casos\" data-toc-modified-id=\"Pergunta:-O-que-acontece-com-a-coluna-NOX-nos-dois-casos-1.4.2.10\"><span class=\"toc-item-num\">1.4.2.10&nbsp;&nbsp;</span><strong>Pergunta:</strong> O que acontece com a coluna NOX nos dois casos</a></span></li><li><span><a href=\"#Pergunta:-Como-saber-se-as-features-tem-relevância-estatística?\" data-toc-modified-id=\"Pergunta:-Como-saber-se-as-features-tem-relevância-estatística?-1.4.2.11\"><span class=\"toc-item-num\">1.4.2.11&nbsp;&nbsp;</span><strong>Pergunta:</strong> Como saber se as features tem relevância estatística?</a></span></li><li><span><a href=\"#Bônus-Regressao-linear:-statsmodel-OLS-e-p-valor\" data-toc-modified-id=\"Bônus-Regressao-linear:-statsmodel-OLS-e-p-valor-1.4.2.12\"><span class=\"toc-item-num\">1.4.2.12&nbsp;&nbsp;</span><strong>Bônus Regressao linear</strong>: <a href=\"https://www.statsmodels.org/stable/regression.html\" rel=\"nofollow\" target=\"_blank\">statsmodel OLS</a> e p-valor</a></span></li></ul></li><li><span><a href=\"#Random-forest\" data-toc-modified-id=\"Random-forest-1.4.3\"><span class=\"toc-item-num\">1.4.3&nbsp;&nbsp;</span>Random forest</a></span><ul class=\"toc-item\"><li><span><a href=\"#Tarefa:-agora-faca-a-previsao-dos-seus-dados-de-treino-e-validação-usando-o-.predict()-do-modelo\" data-toc-modified-id=\"Tarefa:-agora-faca-a-previsao-dos-seus-dados-de-treino-e-validação-usando-o-.predict()-do-modelo-1.4.3.1\"><span class=\"toc-item-num\">1.4.3.1&nbsp;&nbsp;</span><strong>Tarefa</strong>: agora faca a previsao dos seus dados de treino e validação usando o .predict() do modelo</a></span></li><li><span><a href=\"#Avalie-o-modelo-com-as-mesmas-métricas-vistas-anteriormente\" data-toc-modified-id=\"Avalie-o-modelo-com-as-mesmas-métricas-vistas-anteriormente-1.4.3.2\"><span class=\"toc-item-num\">1.4.3.2&nbsp;&nbsp;</span>Avalie o modelo com as mesmas métricas vistas anteriormente</a></span></li><li><span><a href=\"#Plotar-a-importância-das-features\" data-toc-modified-id=\"Plotar-a-importância-das-features-1.4.3.3\"><span class=\"toc-item-num\">1.4.3.3&nbsp;&nbsp;</span>Plotar a importância das features</a></span></li></ul></li><li><span><a href=\"#Comparando-os-modelos\" data-toc-modified-id=\"Comparando-os-modelos-1.4.4\"><span class=\"toc-item-num\">1.4.4&nbsp;&nbsp;</span>Comparando os modelos</a></span></li><li><span><a href=\"#Construindo-o-modelo-de-baseline\" data-toc-modified-id=\"Construindo-o-modelo-de-baseline-1.4.5\"><span class=\"toc-item-num\">1.4.5&nbsp;&nbsp;</span>Construindo o modelo de baseline</a></span></li></ul></li><li><span><a href=\"#Conclusão-e-pontos-chave\" data-toc-modified-id=\"Conclusão-e-pontos-chave-1.5\"><span class=\"toc-item-num\">1.5&nbsp;&nbsp;</span>Conclusão e pontos-chave</a></span><ul class=\"toc-item\"><li><span><a href=\"#Como-comunicar-seus-achados-para-a-lideranca-ou-os-C-levels-(CEO,-CTO,-etc.)-da-empresa?\" data-toc-modified-id=\"Como-comunicar-seus-achados-para-a-lideranca-ou-os-C-levels-(CEO,-CTO,-etc.)-da-empresa?-1.5.1\"><span class=\"toc-item-num\">1.5.1&nbsp;&nbsp;</span>Como comunicar seus achados para a lideranca ou os C-levels (CEO, CTO, etc.) da empresa?</a></span></li><li><span><a href=\"#Como-comunicar-para-uma-lideranca-mais-técnica-que-entende-de-performance?\" data-toc-modified-id=\"Como-comunicar-para-uma-lideranca-mais-técnica-que-entende-de-performance?-1.5.2\"><span class=\"toc-item-num\">1.5.2&nbsp;&nbsp;</span>Como comunicar para uma lideranca mais técnica que entende de performance?</a></span></li><li><span><a href=\"#O-que-de-mais-importante-você-aprendeu-com-esse-case-tecnicamente?\" data-toc-modified-id=\"O-que-de-mais-importante-você-aprendeu-com-esse-case-tecnicamente?-1.5.3\"><span class=\"toc-item-num\">1.5.3&nbsp;&nbsp;</span>O que de mais importante você aprendeu com esse case tecnicamente?</a></span></li></ul></li></ul></li></ul></div>"
   ]
  },
  {
   "cell_type": "markdown",
   "id": "19774645",
   "metadata": {},
   "source": [
    "## Análise exploratória de dados  (EDA)"
   ]
  },
  {
   "cell_type": "markdown",
   "id": "93ce4e6f",
   "metadata": {},
   "source": [
    "Primeiro vamos checar se o dataset está na pasta importando a biblioteca \"os\"."
   ]
  },
  {
   "cell_type": "code",
   "execution_count": 3,
   "id": "a69eceeb",
   "metadata": {
    "execution": {
     "iopub.execute_input": "2023-06-06T14:30:09.473778Z",
     "iopub.status.busy": "2023-06-06T14:30:09.473151Z",
     "iopub.status.idle": "2023-06-06T14:30:09.498046Z",
     "shell.execute_reply": "2023-06-06T14:30:09.496625Z",
     "shell.execute_reply.started": "2023-06-06T14:30:09.473747Z"
    }
   },
   "outputs": [
    {
     "data": {
      "text/plain": [
       "['housing.csv']"
      ]
     },
     "execution_count": 3,
     "metadata": {},
     "output_type": "execute_result"
    }
   ],
   "source": [
    "import os \n",
    "\n",
    "os.listdir(\"../input/boston-house-prices/\")"
   ]
  },
  {
   "cell_type": "markdown",
   "id": "0a8b514b",
   "metadata": {
    "execution": {
     "iopub.execute_input": "2023-06-05T18:06:22.696759Z",
     "iopub.status.busy": "2023-06-05T18:06:22.695959Z",
     "iopub.status.idle": "2023-06-05T18:06:22.739646Z",
     "shell.execute_reply": "2023-06-05T18:06:22.737974Z",
     "shell.execute_reply.started": "2023-06-05T18:06:22.696705Z"
    }
   },
   "source": [
    "Agora, vamos ler o dataset com \"pandas\"."
   ]
  },
  {
   "cell_type": "code",
   "execution_count": 4,
   "id": "dd3a7fd8",
   "metadata": {
    "execution": {
     "iopub.execute_input": "2023-06-06T14:30:11.140474Z",
     "iopub.status.busy": "2023-06-06T14:30:11.140079Z",
     "iopub.status.idle": "2023-06-06T14:30:11.975231Z",
     "shell.execute_reply": "2023-06-06T14:30:11.974112Z",
     "shell.execute_reply.started": "2023-06-06T14:30:11.140437Z"
    }
   },
   "outputs": [],
   "source": [
    "import pandas as pd\n",
    "import matplotlib.pyplot as plt\n",
    "import seaborn as sns\n",
    "\n",
    "\n",
    "# Carregar o conjunto de dados\n",
    "column_names = ['CRIM', 'ZN', 'INDUS', 'CHAS', 'NOX', 'RM', 'AGE', 'DIS', 'RAD', 'TAX', 'PTRATIO', 'B', 'LSTAT', 'MEDV']\n",
    "data = pd.read_csv(\"../input/boston-house-prices/housing.csv\", header=None, delimiter=r\"\\s+\", names=column_names)\n"
   ]
  },
  {
   "cell_type": "markdown",
   "id": "14e36a9a",
   "metadata": {},
   "source": [
    "#### **Tarefa**: Visualize as primeiras linhas do conjunto de dados com *.head()*"
   ]
  },
  {
   "cell_type": "code",
   "execution_count": null,
   "id": "64fc87c2",
   "metadata": {
    "execution": {
     "iopub.execute_input": "2023-06-06T14:30:13.209268Z",
     "iopub.status.busy": "2023-06-06T14:30:13.208064Z",
     "iopub.status.idle": "2023-06-06T14:30:13.256462Z",
     "shell.execute_reply": "2023-06-06T14:30:13.255206Z",
     "shell.execute_reply.started": "2023-06-06T14:30:13.209224Z"
    }
   },
   "outputs": [],
   "source": []
  },
  {
   "cell_type": "markdown",
   "id": "dee17ac1",
   "metadata": {},
   "source": [
    "#### **Tarefa**: Conte quantos NaNs há por coluna com *.isna().sum()*"
   ]
  },
  {
   "cell_type": "code",
   "execution_count": null,
   "id": "8ee0e67e",
   "metadata": {
    "ExecuteTime": {
     "end_time": "2023-06-29T19:36:34.105115Z",
     "start_time": "2023-06-29T19:36:33.963124Z"
    },
    "execution": {
     "iopub.execute_input": "2023-06-06T14:30:14.240959Z",
     "iopub.status.busy": "2023-06-06T14:30:14.240542Z",
     "iopub.status.idle": "2023-06-06T14:30:14.252463Z",
     "shell.execute_reply": "2023-06-06T14:30:14.251604Z",
     "shell.execute_reply.started": "2023-06-06T14:30:14.240928Z"
    }
   },
   "outputs": [],
   "source": []
  },
  {
   "cell_type": "markdown",
   "id": "4be19d63",
   "metadata": {},
   "source": [
    "#### **Tarefa**: Use *.describe* para recuperar algumas estatísticas descritivas do conjunto de dados"
   ]
  },
  {
   "cell_type": "code",
   "execution_count": null,
   "id": "394e38b0",
   "metadata": {
    "execution": {
     "iopub.execute_input": "2023-06-06T14:30:14.945980Z",
     "iopub.status.busy": "2023-06-06T14:30:14.945540Z",
     "iopub.status.idle": "2023-06-06T14:30:15.009461Z",
     "shell.execute_reply": "2023-06-06T14:30:15.008078Z",
     "shell.execute_reply.started": "2023-06-06T14:30:14.945938Z"
    }
   },
   "outputs": [],
   "source": []
  },
  {
   "cell_type": "markdown",
   "id": "dc1014cd",
   "metadata": {},
   "source": [
    "#### **Tarefa**: Plotar o histograma com o valor médio das residências\n",
    "\n",
    "Um histograma é uma representação gráfica da distribuição de frequência de um conjunto de dados. Ele consiste em um gráfico de barras, no qual cada barra representa uma faixa de valores e a altura da barra indica a frequência ou a quantidade de ocorrências nessa faixa. Ao observar um histograma, podemos analisar a forma da distribuição dos dados, identificar padrões, tendências, assimetrias e outliers. Também é possível obter informações sobre a concentração dos dados em determinadas faixas e a dispersão dos valores. Em resumo, um histograma nos permite visualizar e compreender a distribuição dos dados de maneira intuitiva e facilita a análise estatística.\n",
    "\n",
    "[Matplotlib hist](https://matplotlib.org/stable/api/_as_gen/matplotlib.pyplot.hist.html)"
   ]
  },
  {
   "cell_type": "code",
   "execution_count": null,
   "id": "111415ca",
   "metadata": {
    "execution": {
     "iopub.execute_input": "2023-06-06T14:30:15.442330Z",
     "iopub.status.busy": "2023-06-06T14:30:15.441239Z",
     "iopub.status.idle": "2023-06-06T14:30:15.809196Z",
     "shell.execute_reply": "2023-06-06T14:30:15.807361Z",
     "shell.execute_reply.started": "2023-06-06T14:30:15.442289Z"
    }
   },
   "outputs": [],
   "source": []
  },
  {
   "cell_type": "markdown",
   "id": "962572e4",
   "metadata": {},
   "source": [
    "#### **Tarefa**: Plote o gráfico de dispersão entre as variáveis RM e MEDV com linha de regressão\n",
    "\n",
    "Um gráfico de dispersão é uma representação visual que mostra a relação entre duas variáveis. No eixo horizontal, temos uma variável e no eixo vertical, temos outra variável. Cada ponto no gráfico representa uma observação e sua posição é determinada pelos valores das duas variáveis correspondentes. Ao observar um gráfico de dispersão, podemos identificar padrões, tendências ou a falta delas na relação entre as variáveis. Além disso, é possível analisar a direção da relação (positiva, negativa ou nula), a força da relação (forte, fraca) e a presença de possíveis valores discrepantes (outliers). Gráficos de dispersão também podem ser úteis para identificar clusters ou agrupamentos de pontos que podem indicar subgrupos distintos nos dados. Em resumo, um gráfico de dispersão nos ajuda a visualizar a relação entre duas variáveis e a identificar padrões ou tendências nos dados.\n",
    "\n",
    "[Seaborn lmplot](https://seaborn.pydata.org/generated/seaborn.lmplot.html)"
   ]
  },
  {
   "cell_type": "code",
   "execution_count": null,
   "id": "0331070c",
   "metadata": {
    "execution": {
     "iopub.execute_input": "2023-06-06T14:30:16.014535Z",
     "iopub.status.busy": "2023-06-06T14:30:16.014118Z",
     "iopub.status.idle": "2023-06-06T14:30:16.701250Z",
     "shell.execute_reply": "2023-06-06T14:30:16.699726Z",
     "shell.execute_reply.started": "2023-06-06T14:30:16.014503Z"
    }
   },
   "outputs": [],
   "source": []
  },
  {
   "cell_type": "markdown",
   "id": "556f76cf",
   "metadata": {},
   "source": []
  },
  {
   "cell_type": "markdown",
   "id": "d2f5a8b7",
   "metadata": {},
   "source": [
    "#### **Tarefa**: Plote o histograma de acessibilidade a rodovias radias com \"seaborn\"\n",
    "\n",
    "[Seaborn histplot](https://seaborn.pydata.org/generated/seaborn.histplot.html)"
   ]
  },
  {
   "cell_type": "code",
   "execution_count": null,
   "id": "6e75abf4",
   "metadata": {
    "execution": {
     "iopub.execute_input": "2023-06-06T14:30:17.314656Z",
     "iopub.status.busy": "2023-06-06T14:30:17.314254Z",
     "iopub.status.idle": "2023-06-06T14:30:17.687294Z",
     "shell.execute_reply": "2023-06-06T14:30:17.685913Z",
     "shell.execute_reply.started": "2023-06-06T14:30:17.314627Z"
    }
   },
   "outputs": [],
   "source": []
  },
  {
   "cell_type": "markdown",
   "id": "9705f9cf",
   "metadata": {},
   "source": [
    "#### **Tarefa**: Crie um heatmap da correlação entre as variáveis.\n",
    "\n",
    "**Correlação** é uma medida estatística que descreve a relação entre duas variáveis. Ela indica a força e a direção dessa relação, ou seja, o grau em que as variáveis variam juntas. A correlação é representada por um valor numérico chamado coeficiente de correlação, que varia de -1 a 1.\n",
    "\n",
    "- Um coeficiente de correlação próximo de 1 indica uma correlação positiva forte, ou seja, as variáveis tendem a aumentar ou diminuir juntas.\n",
    "- Um coeficiente de correlação próximo de -1 indica uma correlação negativa forte, ou seja, uma variável tende a aumentar enquanto a outra diminui.\n",
    "- Um coeficiente de correlação próximo de 0 indica uma correlação fraca ou ausente, não havendo uma relação linear aparente entre as variáveis.\n",
    "\n",
    "É importante ressaltar que a correlação não implica causalidade, ou seja, a existência de uma relação entre as variáveis não indica que uma cause a outra. A correlação apenas descreve a relação estatística entre elas. A interpretação adequada da correlação depende do contexto das variáveis e da compreensão do domínio em questão.\n",
    "\n",
    "[Pandas corr](https://pandas.pydata.org/docs/reference/api/pandas.DataFrame.corr.html)\n",
    "\n",
    "[Seaborn heatmap](https://seaborn.pydata.org/generated/seaborn.heatmap.html)"
   ]
  },
  {
   "cell_type": "code",
   "execution_count": null,
   "id": "e6137b42",
   "metadata": {
    "execution": {
     "iopub.execute_input": "2023-06-06T14:30:18.863520Z",
     "iopub.status.busy": "2023-06-06T14:30:18.863104Z",
     "iopub.status.idle": "2023-06-06T14:30:19.999183Z",
     "shell.execute_reply": "2023-06-06T14:30:19.997869Z",
     "shell.execute_reply.started": "2023-06-06T14:30:18.863488Z"
    }
   },
   "outputs": [],
   "source": []
  },
  {
   "cell_type": "markdown",
   "id": "297a4396",
   "metadata": {},
   "source": [
    "#### **Pergunta**: O que conseguimos inferir da matriz de correlação?"
   ]
  },
  {
   "cell_type": "markdown",
   "id": "73194ef4",
   "metadata": {},
   "source": [
    "**Resposta:**\n",
    "* O número de quartos na residência (RM) é positivamente correlacionado com o valor, como esperado\n",
    "* Quanto maior a taxa aluno/professor, mais baixo é o valor da residência\n",
    "* Quanto maior a % dee populacao com status inferior, mais baixo é o valor da residencia\n",
    "* As colunas LSTAT, INDUS, RM, TAX, NOX e PTRAIO possuem um score de correlação acima de 0.5 com MEDV, o que é uma boa indicação de seu uso como preditores.\n",
    "*  TAX e RAD são features altamente correlacionadas."
   ]
  },
  {
   "cell_type": "markdown",
   "id": "9619ca55",
   "metadata": {},
   "source": [
    "#### **Bônus EDA**: Pandas profiling\n",
    "\n",
    "O pandas profiling é uma biblioteca do Python que simplifica a análise exploratória de dados, gerando relatórios detalhados sobre estatísticas, distribuições e padrões nos dados.\n",
    "Esses relatórios fornecem insights valiosos e agilizam a compreensão e o pré-processamento dos dados."
   ]
  },
  {
   "cell_type": "code",
   "execution_count": null,
   "id": "d58fc951",
   "metadata": {},
   "outputs": [],
   "source": [
    "!pip install pandas-profiling\n"
   ]
  },
  {
   "cell_type": "code",
   "execution_count": null,
   "id": "500c5720",
   "metadata": {},
   "outputs": [],
   "source": [
    "import pandas_profiling as pp\n",
    "\n",
    "pp.ProfileReport(df)"
   ]
  },
  {
   "cell_type": "markdown",
   "id": "3048cc94",
   "metadata": {},
   "source": [
    "## Pré-processamento | Limpeza dos dados"
   ]
  },
  {
   "cell_type": "markdown",
   "id": "1b89c41c",
   "metadata": {},
   "source": [
    "### Remoção de  Outliers usando o interquartle range\n",
    "\n",
    "\n",
    "![IQR](https://i.stack.imgur.com/4sTX1.png)\n",
    "\n",
    "A detecção de outliers usando o interquartile range (IQR) é baseada na ideia de que os dados de uma distribuição normal ou próxima dela geralmente se concentram em torno da mediana e possuem uma dispersão simétrica. O IQR é uma medida estatística que representa a amplitude entre o primeiro quartil (Q1) e o terceiro quartil (Q3) de um conjunto de dados.\n",
    "\n",
    "A lógica por trás da detecção de outliers usando o IQR é a seguinte:\n",
    "\n",
    "1. Calcule o IQR: Subtraia o valor do primeiro quartil (Q1) do valor do terceiro quartil (Q3) para obter o IQR.\n",
    "\n",
    "   IQR = Q3 - Q1\n",
    "\n",
    "2. Defina um limite superior e um limite inferior: Multiplique o IQR por um fator (geralmente 1,5 ou 3) e adicione esse valor ao Q3 para obter o limite superior e subtraia-o do Q1 para obter o limite inferior.\n",
    "\n",
    "   Limite superior = Q3 + (fator * IQR)\n",
    "   \n",
    "   Limite inferior = Q1 - (fator * IQR)\n",
    "\n",
    "3. Identifique os outliers: Todos os valores que estiverem acima do limite superior ou abaixo do limite inferior são considerados outliers.\n",
    "\n",
    "Essa abordagem é baseada na ideia de que valores que estão muito acima ou abaixo dos quartis são considerados extremos em relação à distribuição dos dados e podem ser indicativos de pontos discrepantes ou anômalos. A escolha do fator multiplicativo (1,5 ou 3) determina o quão \"distante\" um valor precisa estar dos quartis para ser considerado um outlier.\n"
   ]
  },
  {
   "cell_type": "markdown",
   "id": "0bd366b3",
   "metadata": {},
   "source": [
    "#### **Tarefa**: complete a funcao abaixo seguindo as instrucoes nos comentarios"
   ]
  },
  {
   "cell_type": "code",
   "execution_count": 2,
   "id": "86c0a57c",
   "metadata": {
    "ExecuteTime": {
     "end_time": "2023-06-29T19:45:42.036132Z",
     "start_time": "2023-06-29T19:45:42.031188Z"
    },
    "execution": {
     "iopub.execute_input": "2023-06-06T14:31:08.469334Z",
     "iopub.status.busy": "2023-06-06T14:31:08.468880Z",
     "iopub.status.idle": "2023-06-06T14:31:08.485550Z",
     "shell.execute_reply": "2023-06-06T14:31:08.484284Z",
     "shell.execute_reply.started": "2023-06-06T14:31:08.469301Z"
    }
   },
   "outputs": [],
   "source": [
    "import numpy as np\n",
    "\n",
    "def remove_outliers(data, columns):\n",
    "    for col in columns:\n",
    "        # Calcule o primeiro quantile (25%) usando a funcao .quantile()\n",
    "#         q1 = \n",
    "        # Calcule o primeiro quantile (75%) usando a funcao .quantile()\n",
    "#         q3 = \n",
    "        iqr = q3 - q1\n",
    "        data = data[(data[col] >= q1 - 1.5 * iqr) & (data[col] <= q3 + 1.5 * iqr)]\n",
    "    return data"
   ]
  },
  {
   "cell_type": "markdown",
   "id": "14bdfff9",
   "metadata": {},
   "source": [
    "#### **Tarefa**: use a função acima para remover os outliers da sua base de dados"
   ]
  },
  {
   "cell_type": "code",
   "execution_count": null,
   "id": "99cf310c",
   "metadata": {},
   "outputs": [],
   "source": []
  },
  {
   "cell_type": "markdown",
   "id": "6938f431",
   "metadata": {},
   "source": [
    "## Modelo de precificação\n",
    "\n",
    "Agora vamos de fato construir o modelo de precificação, utilizando as variáveis do Census. Em um primeiro momento, vamos realiza uma regressão linear e, em seguida, vamos criar também uma random forest para comparar e escolher o melhor modelo."
   ]
  },
  {
   "cell_type": "markdown",
   "id": "e360fb93",
   "metadata": {},
   "source": [
    "### Train test split\n",
    "\n",
    "Vamos dividir nosso conjunto de dados em conjuntos de treino, validação e teste. Nesse importante passo da avaliação de performance do modelo, a divisão é feita de forma aleatória e representativa, garantindo que todos os conjuntos sejam amostras justas do conjunto de dados original. O conjunto de treinamento é usado para aprender os padrões e relações nos dados e todos os parâmetros do modelo, o conjunto de validação é usado para aprender os hiperparâmetros do modelo sempre que necessário (em alguns casos e com modelos mais simples, pode não ser necessária a aprendizagem de hiperparâmetros), enquanto o conjunto de teste é usado para avaliar a capacidade de generalização do modelo. O train-test split é uma prática fundamental para selecionar modelos adequados e estimar sua performance em dados não observados.\n",
    "\n",
    "No nosso caso, utilizaremos o conjunto de teste como dados \"não vistos\" que serão usados para cálculo de impacto ao final.\n",
    "\n",
    "Lembre-se de separar a matrix de fatures X e o target y.\n",
    "\n",
    "[Sklearn train-test split](https://scikit-learn.org/stable/modules/generated/sklearn.model_selection.train_test_split.html)"
   ]
  },
  {
   "cell_type": "code",
   "execution_count": null,
   "id": "a816bfb2",
   "metadata": {
    "execution": {
     "iopub.execute_input": "2023-06-06T14:31:12.520289Z",
     "iopub.status.busy": "2023-06-06T14:31:12.519785Z",
     "iopub.status.idle": "2023-06-06T14:31:12.729431Z",
     "shell.execute_reply": "2023-06-06T14:31:12.728268Z",
     "shell.execute_reply.started": "2023-06-06T14:31:12.520246Z"
    }
   },
   "outputs": [],
   "source": []
  },
  {
   "cell_type": "markdown",
   "id": "20bd3eb6",
   "metadata": {},
   "source": [
    "### Regressão linear\n",
    "\n",
    "A regressão linear é um método estatístico usado para modelar a relação entre uma variável dependente ($Y$) e uma ou mais variáveis independentes ($X$). É chamada de \"linear\" porque assume uma relação linear entre as variáveis. A forma básica de uma regressão linear simples pode ser expressa pela seguinte equação:\n",
    "$$\n",
    "Y = \\beta_0 + \\beta_1X + \\varepsilon\n",
    "$$\n",
    "Onde:\n",
    "- $Y$ é a variável dependente que queremos prever.\n",
    "- $X$ é a variável independente.\n",
    "- $\\beta_0$ é o coeficiente de interceptação, que representa o valor esperado de Y quando X é igual a zero.\n",
    "- $\\beta_1$ é o coeficiente de inclinação, que representa a mudança esperada em Y para uma unidade de mudança em X.\n",
    "- $\\varepsilon$ é o termo de erro, que representa a variação não explicada ou aleatória em Y.\n",
    "\n",
    "A regressão linear procura encontrar os valores ótimos para $\\beta_0$ e $\\beta_1$ que minimizam a soma dos quadrados dos resíduos (RSS), que é a diferença entre os valores observados de Y e os valores previstos pelo modelo. A técnica dos mínimos quadrados ordinários (OLS) é frequentemente usada para estimar os coeficientes $\\beta_0$ e $\\beta_1$.\n",
    "\n",
    "A regressão linear pode ser estendida para incluir múltiplas variáveis independentes, resultando na regressão linear múltipla. Nesse caso, a equação assume a forma geral:\n",
    "$$\n",
    "Y = \\beta_0 + \\beta_1X_1 + \\beta_2X_2 + \\ldots + \\beta_nX_n + \\varepsilon\n",
    "$$\n",
    "Onde $X_1$, $X_2$, $...$, $X_n$ são as variáveis independentes adicionais e $\\beta_1$, $\\beta_2$, $...$, $\\beta_n$ são os coeficientes de inclinação correspondentes. A regressão linear é amplamente utilizada em análise de dados, previsão e modelagem estatística para entender e quantificar as relações entre variáveis.\n",
    "\n",
    "[Sklearn linear regression](https://scikit-learn.org/stable/modules/generated/sklearn.linear_model.LinearRegression.html)"
   ]
  },
  {
   "cell_type": "code",
   "execution_count": null,
   "id": "ed0b8dd5",
   "metadata": {
    "execution": {
     "iopub.execute_input": "2023-06-06T14:31:16.282065Z",
     "iopub.status.busy": "2023-06-06T14:31:16.281617Z",
     "iopub.status.idle": "2023-06-06T14:31:16.418082Z",
     "shell.execute_reply": "2023-06-06T14:31:16.416919Z",
     "shell.execute_reply.started": "2023-06-06T14:31:16.282030Z"
    }
   },
   "outputs": [],
   "source": []
  },
  {
   "cell_type": "markdown",
   "id": "98651c35",
   "metadata": {},
   "source": [
    "#### **Tarefa**: agora faca a previsao dos seus dados de treino e validação usando o .predict() do modelo"
   ]
  },
  {
   "cell_type": "code",
   "execution_count": null,
   "id": "928c5a58",
   "metadata": {
    "execution": {
     "iopub.execute_input": "2023-06-06T14:31:16.884703Z",
     "iopub.status.busy": "2023-06-06T14:31:16.884305Z",
     "iopub.status.idle": "2023-06-06T14:31:16.892349Z",
     "shell.execute_reply": "2023-06-06T14:31:16.891056Z",
     "shell.execute_reply.started": "2023-06-06T14:31:16.884673Z"
    }
   },
   "outputs": [],
   "source": []
  },
  {
   "cell_type": "markdown",
   "id": "833798eb",
   "metadata": {},
   "source": [
    "#### Avaliação de performance no treino e validação"
   ]
  },
  {
   "cell_type": "markdown",
   "id": "7b6d9576",
   "metadata": {},
   "source": [
    "##### Avalie o modelo para treino e validação com as seguintes métricas:\n",
    "\n",
    "[$𝑅^2$](https://scikit-learn.org/stable/modules/generated/sklearn.metrics.r2_score.html#sklearn.metrics.r2_score): É uma medida da relação linear entre X e Y. É interpretado como a proporção da variância na variável dependente que é previsível a partir da variável independente.\n",
    "\n",
    "[MAE](https://scikit-learn.org/stable/modules/generated/sklearn.metrics.mean_absolute_error.html#sklearn.metrics.mean_absolute_error): É a média do valor absoluto dos erros. Mede a diferença entre duas variáveis contínuas, neste caso, os valores reais e previstos de y.\n",
    "\n",
    "[MSE](https://scikit-learn.org/stable/modules/generated/sklearn.metrics.mean_squared_error.html#sklearn.metrics.mean_squared_error): O erro quadrático médio (MSE) é semelhante ao MAE, mas eleva ao quadrado a diferença antes de somá-la em vez de usar o valor absoluto.\n",
    "\n",
    "RMSE: É a raiz quadrada do MSE"
   ]
  },
  {
   "cell_type": "code",
   "execution_count": null,
   "id": "c132b1f9",
   "metadata": {
    "execution": {
     "iopub.execute_input": "2023-06-06T14:31:26.775370Z",
     "iopub.status.busy": "2023-06-06T14:31:26.774957Z",
     "iopub.status.idle": "2023-06-06T14:31:26.787490Z",
     "shell.execute_reply": "2023-06-06T14:31:26.786139Z",
     "shell.execute_reply.started": "2023-06-06T14:31:26.775341Z"
    }
   },
   "outputs": [],
   "source": []
  },
  {
   "cell_type": "markdown",
   "id": "50fd77f4",
   "metadata": {},
   "source": [
    "#### Pergunta: Comparando o treino e a validação, o modelo está sofrendo overfitting de uma maneira relevante?"
   ]
  },
  {
   "cell_type": "markdown",
   "id": "beded32b",
   "metadata": {
    "ExecuteTime": {
     "end_time": "2023-06-29T20:35:46.260762Z",
     "start_time": "2023-06-29T20:35:46.256832Z"
    }
   },
   "source": [
    "**Resposta:**\n"
   ]
  },
  {
   "cell_type": "markdown",
   "id": "bf3505db",
   "metadata": {},
   "source": [
    "#### **Tarefa**: Visualize as diferenças entre os preços reais e os valores previstos com um gráfico de dispersão.\n",
    "\n",
    "[Seaborn scatterplot](https://seaborn.pydata.org/generated/seaborn.scatterplot.html)"
   ]
  },
  {
   "cell_type": "code",
   "execution_count": null,
   "id": "6a4ed87a",
   "metadata": {
    "execution": {
     "iopub.execute_input": "2023-06-06T14:31:28.250143Z",
     "iopub.status.busy": "2023-06-06T14:31:28.249483Z",
     "iopub.status.idle": "2023-06-06T14:31:28.568020Z",
     "shell.execute_reply": "2023-06-06T14:31:28.566711Z",
     "shell.execute_reply.started": "2023-06-06T14:31:28.250109Z"
    }
   },
   "outputs": [],
   "source": []
  },
  {
   "cell_type": "markdown",
   "id": "2592632f",
   "metadata": {},
   "source": [
    "#### **Tarefa**: Printar os coeficientes"
   ]
  },
  {
   "cell_type": "code",
   "execution_count": null,
   "id": "a7cd4d0f",
   "metadata": {
    "execution": {
     "iopub.execute_input": "2023-06-06T14:31:36.353901Z",
     "iopub.status.busy": "2023-06-06T14:31:36.353095Z",
     "iopub.status.idle": "2023-06-06T14:31:36.370889Z",
     "shell.execute_reply": "2023-06-06T14:31:36.369512Z",
     "shell.execute_reply.started": "2023-06-06T14:31:36.353864Z"
    }
   },
   "outputs": [],
   "source": []
  },
  {
   "cell_type": "markdown",
   "id": "bc90f0fb",
   "metadata": {},
   "source": [
    "#### **Pergunta**: Os coeficientes desse modelo correspondem à importância das features?\n"
   ]
  },
  {
   "cell_type": "markdown",
   "id": "e5611381",
   "metadata": {},
   "source": [
    "**Resposta:**\n"
   ]
  },
  {
   "cell_type": "markdown",
   "id": "308b9ce4",
   "metadata": {
    "execution": {
     "iopub.execute_input": "2023-06-05T19:46:32.791315Z",
     "iopub.status.busy": "2023-06-05T19:46:32.790846Z",
     "iopub.status.idle": "2023-06-05T19:46:32.799595Z",
     "shell.execute_reply": "2023-06-05T19:46:32.798194Z",
     "shell.execute_reply.started": "2023-06-05T19:46:32.791279Z"
    }
   },
   "source": [
    "#### **Pergunta**: Como fazer com que os coeficientes correspondam minimamente a importâncias?"
   ]
  },
  {
   "cell_type": "markdown",
   "id": "5abda84a",
   "metadata": {
    "execution": {
     "iopub.execute_input": "2023-06-05T19:47:02.373219Z",
     "iopub.status.busy": "2023-06-05T19:47:02.372387Z",
     "iopub.status.idle": "2023-06-05T19:47:02.379702Z",
     "shell.execute_reply": "2023-06-05T19:47:02.378574Z",
     "shell.execute_reply.started": "2023-06-05T19:47:02.373184Z"
    }
   },
   "source": [
    "**Reposta:** "
   ]
  },
  {
   "cell_type": "markdown",
   "id": "ca08dd78",
   "metadata": {
    "ExecuteTime": {
     "end_time": "2023-06-29T20:36:56.901718Z",
     "start_time": "2023-06-29T20:36:56.899057Z"
    }
   },
   "source": [
    "#### Tarefa: Implemente as modificacoes necessarias para que os coeficientes sugiram importancias"
   ]
  },
  {
   "cell_type": "code",
   "execution_count": null,
   "id": "647c9a2c",
   "metadata": {},
   "outputs": [],
   "source": []
  },
  {
   "cell_type": "markdown",
   "id": "3459d777",
   "metadata": {},
   "source": [
    "#### **Tarefa:** Printar os coeficientes antes e depois"
   ]
  },
  {
   "cell_type": "code",
   "execution_count": null,
   "id": "193f4d73",
   "metadata": {
    "execution": {
     "iopub.status.busy": "2023-06-05T19:54:52.620657Z",
     "iopub.status.idle": "2023-06-05T19:54:52.621178Z",
     "shell.execute_reply": "2023-06-05T19:54:52.620866Z",
     "shell.execute_reply.started": "2023-06-05T19:54:52.620849Z"
    }
   },
   "outputs": [],
   "source": []
  },
  {
   "cell_type": "markdown",
   "id": "c6ca2b57",
   "metadata": {},
   "source": [
    "#### **Pergunta:** O que acontece com a coluna NOX nos dois casos"
   ]
  },
  {
   "cell_type": "markdown",
   "id": "de12c0e3",
   "metadata": {},
   "source": [
    "**Resposta:**"
   ]
  },
  {
   "cell_type": "markdown",
   "id": "5e36be2b",
   "metadata": {},
   "source": [
    "**Outras considerações**:\n",
    "* Quando aplicamos uma pre-processamento que precisa de \"treinamento\", ele deve ser treinado no treino, na validação ou em ambos? E aplicado?\n",
    "* O que acontece com os coeficientes das duas features altamente correlacionadas?"
   ]
  },
  {
   "cell_type": "markdown",
   "id": "c9823603",
   "metadata": {},
   "source": [
    "#### **Pergunta:** Como saber se as features tem relevância estatística?"
   ]
  },
  {
   "cell_type": "markdown",
   "id": "c8014c93",
   "metadata": {},
   "source": [
    "#### **Bônus Regressao linear**: [statsmodel OLS](https://www.statsmodels.org/stable/regression.html) e p-valor\n",
    "\n",
    "A implementacao de ordinary least-squares do statsmodel fornece um sumário com diversas métricas, incluindo o p-valor.\n",
    "Para descobrir o p-valor e, portanto a significância estatística de cada variável, precisamos olhar para a métrica P>|t|.\n",
    "Se esse valor for menor que 0.05, a variável tem significância estatística, pois rejeita a hipótese nula de que **NÃO HÁ** relação entre a variável independente e o target. Em outras palavras, indica que a relação observada não é obra do \"acaso\" e sim uma relação verdadeira.\n",
    "Como vemos acima, não podemos confiar nas relações encontradas com CHAS, NOX e AGE, de forma que essas variáveis deveriam ser excluídas do modelo."
   ]
  },
  {
   "cell_type": "code",
   "execution_count": null,
   "id": "a6391c7e",
   "metadata": {
    "execution": {
     "iopub.execute_input": "2023-06-06T14:47:43.535753Z",
     "iopub.status.busy": "2023-06-06T14:47:43.534307Z",
     "iopub.status.idle": "2023-06-06T14:47:43.570821Z",
     "shell.execute_reply": "2023-06-06T14:47:43.569926Z",
     "shell.execute_reply.started": "2023-06-06T14:47:43.535702Z"
    }
   },
   "outputs": [],
   "source": []
  },
  {
   "cell_type": "markdown",
   "id": "b3e5d945",
   "metadata": {},
   "source": [
    "### Random forest\n",
    "\n",
    "Random Forest é um algoritmo de aprendizado de máquina que combina múltiplas árvores de decisão para realizar tarefas de classificação e regressão. Ele é conhecido como um método de conjunto (ensemble method) porque combina as previsões de várias árvores individuais para chegar a uma previsão final.\n",
    "\n",
    "\n",
    "![RF](https://www.tibco.com/sites/tibco/files/media_entity/2021-05/random-forest-diagram.svg)\n",
    "\n",
    "O algoritmo Random Forest funciona da seguinte maneira: \n",
    "\n",
    "1. Amostras de treinamento são selecionadas aleatoriamente do conjunto de dados disponível.\n",
    "2. Em seguida, uma árvore de decisão é construída utilizando as amostras selecionadas. Durante a construção da árvore, em cada divisão, um subconjunto aleatório de features é considerado para determinar a melhor divisão.\n",
    "3. O processo de construção da árvore é repetido várias vezes, gerando várias árvores independentes.\n",
    "4. Ao realizar previsões, as árvores individuais são consultadas e cada uma delas emite sua própria previsão. No caso de problemas de classificação, a previsão final é determinada por votação majoritária das árvores. Já em problemas de regressão, a previsão final é calculada como a média das previsões de todas as árvores.\n",
    "\n",
    "Uma das principais vantagens do Random Forest é sua capacidade de lidar com conjuntos de dados grandes e complexos, além de lidar com diferentes tipos de features (categóricas e numéricas) sem a necessidade de pré-processamento adicional. Além disso, ele é menos suscetível ao overfitting em comparação com uma única árvore de decisão, pois combina múltiplas árvores.\n",
    "\n",
    "Outra vantagem é a possibilidade de calcular a importância das features, que indica o quanto cada feature contribui para a acurácia das previsões do modelo. Essa informação pode ser útil para a seleção de features e interpretação dos resultados.\n",
    "\n",
    "[Sklearn Random Forest Regressor](https://scikit-learn.org/stable/modules/generated/sklearn.ensemble.RandomForestRegressor.html)"
   ]
  },
  {
   "cell_type": "code",
   "execution_count": null,
   "id": "fb164b3f",
   "metadata": {
    "execution": {
     "iopub.status.busy": "2023-06-05T19:54:52.623006Z",
     "iopub.status.idle": "2023-06-05T19:54:52.623392Z",
     "shell.execute_reply": "2023-06-05T19:54:52.623223Z",
     "shell.execute_reply.started": "2023-06-05T19:54:52.623204Z"
    }
   },
   "outputs": [],
   "source": []
  },
  {
   "cell_type": "markdown",
   "id": "4e8b2a75",
   "metadata": {
    "execution": {
     "iopub.status.busy": "2023-06-05T19:54:52.625979Z",
     "iopub.status.idle": "2023-06-05T19:54:52.626388Z",
     "shell.execute_reply": "2023-06-05T19:54:52.626217Z",
     "shell.execute_reply.started": "2023-06-05T19:54:52.626198Z"
    }
   },
   "source": [
    "#### **Tarefa**: agora faca a previsao dos seus dados de treino e validação usando o .predict() do modelo"
   ]
  },
  {
   "cell_type": "code",
   "execution_count": null,
   "id": "78e8f5af",
   "metadata": {},
   "outputs": [],
   "source": []
  },
  {
   "cell_type": "markdown",
   "id": "e9ec98f3",
   "metadata": {},
   "source": [
    "#### Avalie o modelo com as mesmas métricas vistas anteriormente"
   ]
  },
  {
   "cell_type": "code",
   "execution_count": null,
   "id": "d85b041e",
   "metadata": {
    "execution": {
     "iopub.status.busy": "2023-06-05T19:54:52.628436Z",
     "iopub.status.idle": "2023-06-05T19:54:52.628846Z",
     "shell.execute_reply": "2023-06-05T19:54:52.628675Z",
     "shell.execute_reply.started": "2023-06-05T19:54:52.628656Z"
    }
   },
   "outputs": [],
   "source": []
  },
  {
   "cell_type": "markdown",
   "id": "05ebecb7",
   "metadata": {},
   "source": [
    "#### Plotar a importância das features\n",
    "\n",
    "[Feature importance with a forest of trees](https://scikit-learn.org/stable/auto_examples/ensemble/plot_forest_importances.html)"
   ]
  },
  {
   "cell_type": "code",
   "execution_count": null,
   "id": "34fcb626",
   "metadata": {
    "execution": {
     "iopub.status.busy": "2023-06-05T19:54:52.634004Z",
     "iopub.status.idle": "2023-06-05T19:54:52.634425Z",
     "shell.execute_reply": "2023-06-05T19:54:52.634241Z",
     "shell.execute_reply.started": "2023-06-05T19:54:52.634222Z"
    }
   },
   "outputs": [],
   "source": []
  },
  {
   "cell_type": "markdown",
   "id": "00b80f84",
   "metadata": {},
   "source": [
    "### Comparando os modelos"
   ]
  },
  {
   "cell_type": "code",
   "execution_count": null,
   "id": "f7e84908",
   "metadata": {
    "execution": {
     "iopub.status.busy": "2023-06-05T19:54:52.635717Z",
     "iopub.status.idle": "2023-06-05T19:54:52.636136Z",
     "shell.execute_reply": "2023-06-05T19:54:52.635936Z",
     "shell.execute_reply.started": "2023-06-05T19:54:52.635917Z"
    }
   },
   "outputs": [],
   "source": []
  },
  {
   "cell_type": "markdown",
   "id": "ae8d0c76",
   "metadata": {
    "ExecuteTime": {
     "end_time": "2023-06-29T18:52:47.838123Z",
     "start_time": "2023-06-29T18:52:47.833568Z"
    }
   },
   "source": [
    "Vamos selecionar o melhor modelo e partir para o comparativo com o baseline."
   ]
  },
  {
   "cell_type": "markdown",
   "id": "6ab06c04",
   "metadata": {},
   "source": [
    "### Construindo o modelo de baseline\n",
    "\n",
    "O modelo de baseline vai conter apenas features às quais a agência tinha acesso antes do Census, ou seja, \"RM\", \"DIS\", \"TAX\". Ele é um modelo de regressão linear em sklearn."
   ]
  },
  {
   "cell_type": "code",
   "execution_count": null,
   "id": "b4bd2fcc",
   "metadata": {
    "ExecuteTime": {
     "end_time": "2023-06-29T18:59:43.875486Z",
     "start_time": "2023-06-29T18:59:43.867552Z"
    }
   },
   "outputs": [],
   "source": []
  },
  {
   "cell_type": "markdown",
   "id": "638c3de7",
   "metadata": {},
   "source": [
    "##### Agora que você construiu o seu modelo, siga esses passos para calcular o impacto financeiro que ele terá para a empresa.\n",
    "Lembre-se que estamos considerando que cada linha corresponde a um imóvel do portfólio dessa agência.\n",
    "- Calcule a diferença percentual da previsão do baseline para o valor real nos dados de **TESTE**\n",
    "- Crie uma coluna de vendas\n",
    "- Para cada um dos casos onde a diferença % computada for maior que 20%, o ganho será de 0, senão, no ganho será igual ao valor previsto pelo modelo\n",
    "- Faça o mesmo para o seu modelo\n",
    "\n",
    "##### Agora compare:\n",
    "- o valor total do mercado (a soma de todos os valores reais das residências para os dados de TESTE)\n",
    "- o valor que eles estavam capturando com o modelo anterior\n",
    "- o valor capturado com o modelo atual\n",
    "\n",
    "Houve alguma melhoria?\n",
    "\n",
    "**Dica**: As perguntas que você deve responder são:\n",
    "\n",
    "- Qual é o TAM(Total addressable market)?\n",
    "- Quantos % do TAM é capturado pelo baseline?\n",
    "- Quantos % do TAM é capturado pelo novo modelo?\n",
    "- Quantos % a mais em venda o novo modelo captura em comparação com o antigo?"
   ]
  },
  {
   "cell_type": "code",
   "execution_count": null,
   "id": "2f03de87",
   "metadata": {
    "ExecuteTime": {
     "end_time": "2023-06-29T19:25:35.798760Z",
     "start_time": "2023-06-29T19:25:35.786831Z"
    }
   },
   "outputs": [],
   "source": []
  },
  {
   "cell_type": "markdown",
   "id": "681f73a4",
   "metadata": {},
   "source": [
    "## Conclusão e pontos-chave\n",
    "Escreva sua conclusao e mensagens para cada um dos casos abaixo. \n",
    "\n",
    "### Como comunicar seus achados para a lideranca ou os C-levels (CEO, CTO, etc.) da empresa?\n",
    "\n",
    "### Como comunicar para uma lideranca mais técnica que entende de performance?\n",
    "\n",
    "### O que de mais importante você aprendeu com esse case tecnicamente?\n"
   ]
  }
 ],
 "metadata": {
  "kernelspec": {
   "display_name": "Python 3 (ipykernel)",
   "language": "python",
   "name": "python3"
  },
  "language_info": {
   "codemirror_mode": {
    "name": "ipython",
    "version": 3
   },
   "file_extension": ".py",
   "mimetype": "text/x-python",
   "name": "python",
   "nbconvert_exporter": "python",
   "pygments_lexer": "ipython3",
   "version": "3.7.12"
  },
  "toc": {
   "base_numbering": 1,
   "nav_menu": {},
   "number_sections": true,
   "sideBar": true,
   "skip_h1_title": false,
   "title_cell": "Table of Contents",
   "title_sidebar": "Contents",
   "toc_cell": true,
   "toc_position": {},
   "toc_section_display": true,
   "toc_window_display": true
  },
  "varInspector": {
   "cols": {
    "lenName": 16,
    "lenType": 16,
    "lenVar": 40
   },
   "kernels_config": {
    "python": {
     "delete_cmd_postfix": "",
     "delete_cmd_prefix": "del ",
     "library": "var_list.py",
     "varRefreshCmd": "print(var_dic_list())"
    },
    "r": {
     "delete_cmd_postfix": ") ",
     "delete_cmd_prefix": "rm(",
     "library": "var_list.r",
     "varRefreshCmd": "cat(var_dic_list()) "
    }
   },
   "types_to_exclude": [
    "module",
    "function",
    "builtin_function_or_method",
    "instance",
    "_Feature"
   ],
   "window_display": false
  }
 },
 "nbformat": 4,
 "nbformat_minor": 5
}
