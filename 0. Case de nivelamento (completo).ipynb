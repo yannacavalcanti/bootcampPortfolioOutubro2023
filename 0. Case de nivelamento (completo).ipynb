{
 "cells": [
  {
   "cell_type": "markdown",
   "id": "fa1786ac",
   "metadata": {
    "tags": []
   },
   "source": [
    "# Bootcamp: Construa seu Portfólio em Ciência de Dados\n",
    "\n",
    "**Autora**: Yanna Cavalcanti\n",
    "\n",
    "**Data**: Outubro 2023\n",
    "\n",
    "---\n",
    "\n",
    "## Projeto: Segmentação de clientes para campanha de marketing\n",
    "\n",
    "#### Indústria e mercado\n",
    "\n",
    "Este projeto está inserido na indústria de shopping centers e varejo. Algumas das principais redes de shopping no Brasil incluem o Shopping Iguatemi, Shopping Eldorado e Shopping Morumbi.\n",
    "\n",
    "#### Contexto\n",
    "\n",
    "Um grande shopping center deseja aumentar as vendas, criando campanhas estratégicas para os clientes, segundo seu comportamento e características.Para isso, é necessário segmentar os clientes com base em seu comportamento de compra e preferências pode aumentar a eficácia das campanhas de marketing, focando-as nos clientes certos.\n",
    "\n",
    "#### Objetivo\n",
    "\n",
    "Sua missão é realizar uma segmentação de clientes com base nos dados disponíveis, identificando grupos de clientes com características e comportamentos semelhantes. Essa segmentação ajudará a equipe de marketing a criar estratégias personalizadas para cada grupo, incluindo ofertas especiais, eventos e promoções direcionadas.\n",
    "\n",
    "O resultado esperado é a identificação de clusters de clientes com características distintas, como gasto médio, idade, gênero e renda. \n",
    "Este projeto é uma oportunidade de mostrar como a ciência de dados pode impulsionar as estratégias de negócios em um ambiente de shopping center, proporcionando maior satisfação aos clientes e aumentando as vendas.\n",
    "\n",
    "#### Dataset\n",
    "\n",
    "- **Dataset Source:** [Kaggle](https://www.kaggle.com/datasets/vjchoudhary7/customer-segmentation-tutorial-in-python/)\n",
    "\n",
    "- **Dataset Description:** \n",
    "\n",
    "Cada registro no banco de dados descreve um cliente do centro comercial Os atributos são definidos da seguinte forma:\n",
    "\n",
    "\n",
    "* CustomerID: Identificador(ID) único atribuído ao cliente\n",
    "* Gender: Gênero do cliente\n",
    "* Age: Idade do cliente\n",
    "* Annual Income (k$): Renda anual do cliente\n",
    "* Spending Score (1-100): Pontuação atribuída pelo shopping com base no comportamento do cliente e na natureza dos gastos\n"
   ]
  },
  {
   "cell_type": "markdown",
   "id": "dfb25716",
   "metadata": {
    "toc": true
   },
   "source": [
    "<h1>Table of Contents<span class=\"tocSkip\"></span></h1>\n",
    "<div class=\"toc\"><ul class=\"toc-item\"><li><span><a href=\"#Bootcamp:-Construa-seu-Portfólio-em-Ciência-de-Dados\" data-toc-modified-id=\"Bootcamp:-Construa-seu-Portfólio-em-Ciência-de-Dados-1\">Bootcamp: Construa seu Portfólio em Ciência de Dados</a></span><ul class=\"toc-item\"><li><span><a href=\"#Projeto:-Segmentação-de-clientes-para-campanha-de-marketing\" data-toc-modified-id=\"Projeto:-Segmentação-de-clientes-para-campanha-de-marketing-1.1\">Projeto: Segmentação de clientes para campanha de marketing</a></span><ul class=\"toc-item\"><li><ul class=\"toc-item\"><li><span><a href=\"#Indústria-e-mercado\" data-toc-modified-id=\"Indústria-e-mercado-1.1.0.1\">Indústria e mercado</a></span></li><li><span><a href=\"#Contexto\" data-toc-modified-id=\"Contexto-1.1.0.2\">Contexto</a></span></li><li><span><a href=\"#Objetivo\" data-toc-modified-id=\"Objetivo-1.1.0.3\">Objetivo</a></span></li><li><span><a href=\"#Dataset\" data-toc-modified-id=\"Dataset-1.1.0.4\">Dataset</a></span></li></ul></li></ul></li><li><span><a href=\"#Revisão:-Pandas\" data-toc-modified-id=\"Revisão:-Pandas-1.2\">Revisão: Pandas</a></span><ul class=\"toc-item\"><li><span><a href=\"#Estruturas-de-dados-no-pandas\" data-toc-modified-id=\"Estruturas-de-dados-no-pandas-1.2.1\">Estruturas de dados no pandas</a></span><ul class=\"toc-item\"><li><span><a href=\"#DataFrame:\" data-toc-modified-id=\"DataFrame:-1.2.1.1\">DataFrame:</a></span></li><li><span><a href=\"#Pergunta:-Qual-valor-corresponde-à-primeira-linha-da-coluna-&quot;Idade&quot;-no-exemplo-acima?\" data-toc-modified-id=\"Pergunta:-Qual-valor-corresponde-à-primeira-linha-da-coluna-&quot;Idade&quot;-no-exemplo-acima?-1.2.1.2\">Pergunta: Qual valor corresponde à primeira linha da coluna \"Idade\" no exemplo acima?</a></span></li><li><span><a href=\"#Resposta:\" data-toc-modified-id=\"Resposta:-1.2.1.3\">Resposta:</a></span></li><li><span><a href=\"#Series:\" data-toc-modified-id=\"Series:-1.2.1.4\">Series:</a></span></li></ul></li><li><span><a href=\"#Lendo-e-selecionando\" data-toc-modified-id=\"Lendo-e-selecionando-1.2.2\">Lendo e selecionando</a></span></li></ul></li><li><span><a href=\"#Análise-exploratória-de-dados-(EDA)\" data-toc-modified-id=\"Análise-exploratória-de-dados-(EDA)-1.3\">Análise exploratória de dados (EDA)</a></span><ul class=\"toc-item\"><li><ul class=\"toc-item\"><li><span><a href=\"#Tarefa:-Descubra-a-quantidade-de-linhas-e-colunas-da-sua-base-com-.shape\" data-toc-modified-id=\"Tarefa:-Descubra-a-quantidade-de-linhas-e-colunas-da-sua-base-com-.shape-1.3.0.1\">Tarefa: Descubra a quantidade de linhas e colunas da sua base com .shape</a></span></li><li><span><a href=\"#Tarefa:-Liste-as-colunas-do-seu-DataFrame-com-.columns\" data-toc-modified-id=\"Tarefa:-Liste-as-colunas-do-seu-DataFrame-com-.columns-1.3.0.2\">Tarefa: Liste as colunas do seu DataFrame com .columns</a></span></li><li><span><a href=\"#Tarefa:-Verifique-os-tipos-de-cada-variável-usando-.dtypes\" data-toc-modified-id=\"Tarefa:-Verifique-os-tipos-de-cada-variável-usando-.dtypes-1.3.0.3\">Tarefa: Verifique os tipos de cada variável usando <em>.dtypes</em></a></span></li><li><span><a href=\"#Tarefa:-Selecione-a-primeira-coluna-da-sua-base-de-dados-com-.iloc-e-.loc\" data-toc-modified-id=\"Tarefa:-Selecione-a-primeira-coluna-da-sua-base-de-dados-com-.iloc-e-.loc-1.3.0.4\">Tarefa: Selecione a primeira coluna da sua base de dados com .iloc e .loc</a></span></li><li><span><a href=\"#Tarefa:-Visualize-as-primeiras-5-linhas-do-conjunto-de-dados\" data-toc-modified-id=\"Tarefa:-Visualize-as-primeiras-5-linhas-do-conjunto-de-dados-1.3.0.5\">Tarefa: Visualize as primeiras 5 linhas do conjunto de dados</a></span></li><li><span><a href=\"#Tarefa:-Visualize-as-últimas-5-linhas-do-conjunto-de-dados\" data-toc-modified-id=\"Tarefa:-Visualize-as-últimas-5-linhas-do-conjunto-de-dados-1.3.0.6\">Tarefa: Visualize as últimas 5 linhas do conjunto de dados</a></span></li><li><span><a href=\"#Tarefa:-Garanta-que-há-apenas-uma-coluna-por-CustomerID,-utilizando-o-.drop_duplicates()-e-coloque-o-CustomerID-com-índice,-uma-vez-que-esta-variável-apenas-identifica-cada-customer.\" data-toc-modified-id=\"Tarefa:-Garanta-que-há-apenas-uma-coluna-por-CustomerID,-utilizando-o-.drop_duplicates()-e-coloque-o-CustomerID-com-índice,-uma-vez-que-esta-variável-apenas-identifica-cada-customer.-1.3.0.7\">Tarefa: Garanta que há apenas uma coluna por CustomerID, utilizando o .drop_duplicates() e coloque o CustomerID com índice, uma vez que esta variável apenas identifica cada customer.</a></span></li></ul></li><li><span><a href=\"#Resumo-estatístico\" data-toc-modified-id=\"Resumo-estatístico-1.3.1\">Resumo estatístico</a></span><ul class=\"toc-item\"><li><span><a href=\"#Tarefa:-Verifique-a-média-e-a-mediana-da-coluna-&quot;Age&quot;-com-as-funções-.mean()-e-.median()\" data-toc-modified-id=\"Tarefa:-Verifique-a-média-e-a-mediana-da-coluna-&quot;Age&quot;-com-as-funções-.mean()-e-.median()-1.3.1.1\">Tarefa: Verifique a média e a mediana da coluna \"Age\" com as funções <em>.mean()</em> e <em>.median()</em></a></span></li><li><span><a href=\"#Tarefa:-Obtenha-uma-sumarização-geral-de-todas-as-colunas-com-.describe()\" data-toc-modified-id=\"Tarefa:-Obtenha-uma-sumarização-geral-de-todas-as-colunas-com-.describe()-1.3.1.2\">Tarefa: Obtenha uma sumarização geral de todas as colunas com .describe()</a></span></li><li><span><a href=\"#Tarefa:-Conte-quantas-amostras-há-em-cada-categoria-de-&quot;Gender&quot;-com-.value_counts()\" data-toc-modified-id=\"Tarefa:-Conte-quantas-amostras-há-em-cada-categoria-de-&quot;Gender&quot;-com-.value_counts()-1.3.1.3\">Tarefa: Conte quantas amostras há em cada categoria de \"Gender\" com <em>.value_counts()</em></a></span></li><li><span><a href=\"#Tarefa:-Vamos-contar-quantos-NaNs-há-por-coluna-para-averiguar-se-é-necessário-algum-tratamento\" data-toc-modified-id=\"Tarefa:-Vamos-contar-quantos-NaNs-há-por-coluna-para-averiguar-se-é-necessário-algum-tratamento-1.3.1.4\">Tarefa: Vamos contar quantos NaNs há por coluna para averiguar se é necessário algum tratamento</a></span></li></ul></li><li><span><a href=\"#Análise-por-grupos-e-interação-entre-variáveis\" data-toc-modified-id=\"Análise-por-grupos-e-interação-entre-variáveis-1.3.2\">Análise por grupos e interação entre variáveis</a></span><ul class=\"toc-item\"><li><span><a href=\"#Tarefa:-Vamos-verificar-as-características-dos-5-clientes-com-maior-&quot;Annual-Income&quot;-usando-.sort_values(ascending=False)-e-.head()\" data-toc-modified-id=\"Tarefa:-Vamos-verificar-as-características-dos-5-clientes-com-maior-&quot;Annual-Income&quot;-usando-.sort_values(ascending=False)-e-.head()-1.3.2.1\">Tarefa: Vamos verificar as características dos 5 clientes com maior \"Annual Income\" usando <em>.sort_values(ascending=False)</em> e <em>.head()</em></a></span></li><li><span><a href=\"#Tarefa:-Vamos-verificar-a-média-de-&quot;Annual-Income&quot;-para-cada-categoria-de-&quot;Gender&quot;-usando-.groupby()\" data-toc-modified-id=\"Tarefa:-Vamos-verificar-a-média-de-&quot;Annual-Income&quot;-para-cada-categoria-de-&quot;Gender&quot;-usando-.groupby()-1.3.2.2\">Tarefa: Vamos verificar a média de \"Annual Income\" para cada categoria de \"Gender\" usando <em>.groupby()</em></a></span></li><li><span><a href=\"#Tarefa:-Vamos-verificar-a-média-de-&quot;Spending-Score&quot;-para-cada-categoria-de-&quot;Gender&quot;-usando-.groupby()\" data-toc-modified-id=\"Tarefa:-Vamos-verificar-a-média-de-&quot;Spending-Score&quot;-para-cada-categoria-de-&quot;Gender&quot;-usando-.groupby()-1.3.2.3\">Tarefa: Vamos verificar a média de \"Spending Score\" para cada categoria de \"Gender\" usando <em>.groupby()</em></a></span></li><li><span><a href=\"#Pergunta:-O-que-podemos-inferir-dos-dados-acima?\" data-toc-modified-id=\"Pergunta:-O-que-podemos-inferir-dos-dados-acima?-1.3.2.4\"><strong>Pergunta</strong>: O que podemos inferir dos dados acima?</a></span></li></ul></li><li><span><a href=\"#Visualização-de-dados\" data-toc-modified-id=\"Visualização-de-dados-1.3.3\">Visualização de dados</a></span><ul class=\"toc-item\"><li><span><a href=\"#Tarefa:-Visualize-o-histograma-de-&quot;Age&quot;-usando-pandas-e-seaborn\" data-toc-modified-id=\"Tarefa:-Visualize-o-histograma-de-&quot;Age&quot;-usando-pandas-e-seaborn-1.3.3.1\">Tarefa: Visualize o histograma de \"Age\" usando pandas e seaborn</a></span></li><li><span><a href=\"#Tarefa:-Visualize-o-gráfico-de-dispersão-entre-&quot;Age&quot;-e-&quot;Annual-income&quot;-com-sns.scatterplot()-com-Gender-como-hue\" data-toc-modified-id=\"Tarefa:-Visualize-o-gráfico-de-dispersão-entre-&quot;Age&quot;-e-&quot;Annual-income&quot;-com-sns.scatterplot()-com-Gender-como-hue-1.3.3.2\">Tarefa: Visualize o gráfico de dispersão entre \"Age\" e \"Annual income\" com sns.scatterplot() com Gender como hue</a></span></li><li><span><a href=\"#Tarefa:-Utilize-a-função-sns.pairplot-com-hue=&quot;Gender&quot;-para-visualizar-as-variáveis-numéricas-em-histogramas-e-gráficos-de-dispersão-de-uma-só-ves\" data-toc-modified-id=\"Tarefa:-Utilize-a-função-sns.pairplot-com-hue=&quot;Gender&quot;-para-visualizar-as-variáveis-numéricas-em-histogramas-e-gráficos-de-dispersão-de-uma-só-ves-1.3.3.3\">Tarefa: Utilize a função sns.pairplot com hue=\"Gender\" para visualizar as variáveis numéricas em histogramas e gráficos de dispersão de uma só ves</a></span></li><li><span><a href=\"#Pergunta:-O-que-você-infere-dos-gráficos-acima?\" data-toc-modified-id=\"Pergunta:-O-que-você-infere-dos-gráficos-acima?-1.3.3.4\">Pergunta: O que você infere dos gráficos acima?</a></span></li><li><span><a href=\"#Resposta:\" data-toc-modified-id=\"Resposta:-1.3.3.5\">Resposta:</a></span></li><li><span><a href=\"#Tarefa:-Vamos-remover-a-variável-&quot;Gender&quot;-da-base-seja-selecionando-as-colunas-de-interesse-ou-utilizando-.drop(columns=)\" data-toc-modified-id=\"Tarefa:-Vamos-remover-a-variável-&quot;Gender&quot;-da-base-seja-selecionando-as-colunas-de-interesse-ou-utilizando-.drop(columns=)-1.3.3.6\">Tarefa: Vamos remover a variável \"Gender\" da base seja selecionando as colunas de interesse ou utilizando .drop(columns=)</a></span></li><li><span><a href=\"#Tarefa:-Verifique-a-dependência-linear-entre-as-variáveis-remanescentes,-ajustando-uma-curva-de-regressão-linear-a-elas-com-a-função-sns.regplot()\" data-toc-modified-id=\"Tarefa:-Verifique-a-dependência-linear-entre-as-variáveis-remanescentes,-ajustando-uma-curva-de-regressão-linear-a-elas-com-a-função-sns.regplot()-1.3.3.7\">Tarefa: Verifique a dependência linear entre as variáveis remanescentes, ajustando uma curva de regressão linear a elas com a função <em>sns.regplot()</em></a></span></li><li><span><a href=\"#Pergunta:-O-que-inferimos-das-curvas-acima?\" data-toc-modified-id=\"Pergunta:-O-que-inferimos-das-curvas-acima?-1.3.3.8\"><strong>Pergunta</strong>: O que inferimos das curvas acima?</a></span></li><li><span><a href=\"#Resposta:\" data-toc-modified-id=\"Resposta:-1.3.3.9\"><strong>Resposta</strong>:</a></span></li><li><span><a href=\"#Tarefa:-Calcule-o-grau-de-dependência-linear-entre-as-variáveis-com-a-função-.corr()\" data-toc-modified-id=\"Tarefa:-Calcule-o-grau-de-dependência-linear-entre-as-variáveis-com-a-função-.corr()-1.3.3.10\"><strong>Tarefa</strong>: Calcule o grau de dependência linear entre as variáveis com a função .corr()</a></span></li><li><span><a href=\"#Pergunta:-O-que-observamos-a-partir-da-correlação?\" data-toc-modified-id=\"Pergunta:-O-que-observamos-a-partir-da-correlação?-1.3.3.11\"><strong>Pergunta</strong>: O que observamos a partir da correlação?</a></span></li><li><span><a href=\"#Resposta:\" data-toc-modified-id=\"Resposta:-1.3.3.12\"><strong>Resposta</strong>:</a></span></li></ul></li></ul></li><li><span><a href=\"#Pré-processamento\" data-toc-modified-id=\"Pré-processamento-1.4\">Pré-processamento</a></span><ul class=\"toc-item\"><li><span><a href=\"#Normalização-ou-scaling-das-features\" data-toc-modified-id=\"Normalização-ou-scaling-das-features-1.4.1\">Normalização ou <em>scaling</em> das features</a></span></li></ul></li><li><span><a href=\"#Clusterização\" data-toc-modified-id=\"Clusterização-1.5\">Clusterização</a></span><ul class=\"toc-item\"><li><span><a href=\"#K-means\" data-toc-modified-id=\"K-means-1.5.1\">K-means</a></span></li><li><span><a href=\"#Método-da-Silhoueta\" data-toc-modified-id=\"Método-da-Silhoueta-1.5.2\">Método da Silhoueta</a></span><ul class=\"toc-item\"><li><span><a href=\"#Pergunta:-Dos-valores-testados-no-gráfico-acima,-qual-parece-fornecer-o-melhor-score?\" data-toc-modified-id=\"Pergunta:-Dos-valores-testados-no-gráfico-acima,-qual-parece-fornecer-o-melhor-score?-1.5.2.1\"><strong>Pergunta</strong>: Dos valores testados no gráfico acima, qual parece fornecer o melhor score?</a></span></li><li><span><a href=\"#Resposta:\" data-toc-modified-id=\"Resposta:-1.5.2.2\"><strong>Resposta</strong>:</a></span></li><li><span><a href=\"#Tarefa:-Gere-um-modelo-com-a-quantidade-de-clusters-inferida-acima-e-infira-os-clusters-para-cada-amostra-de-dados\" data-toc-modified-id=\"Tarefa:-Gere-um-modelo-com-a-quantidade-de-clusters-inferida-acima-e-infira-os-clusters-para-cada-amostra-de-dados-1.5.2.3\"><strong>Tarefa</strong>: Gere um modelo com a quantidade de clusters inferida acima e infira os clusters para cada amostra de dados</a></span></li><li><span><a href=\"#Tarefa:-Use-a-função-.scatterplot()-do-Seaborn-com-os-clusters-como-&quot;hue&quot;-e-apresente-os-gráficos-de-todas-as-variáveis-umas-contra-as-outras.-Adicione-também-os-centróides-de-cada-cluster-com-um-marcador-com-a-função-scatter-e-markers='s'.\" data-toc-modified-id=\"Tarefa:-Use-a-função-.scatterplot()-do-Seaborn-com-os-clusters-como-&quot;hue&quot;-e-apresente-os-gráficos-de-todas-as-variáveis-umas-contra-as-outras.-Adicione-também-os-centróides-de-cada-cluster-com-um-marcador-com-a-função-scatter-e-markers='s'.-1.5.2.4\"><strong>Tarefa</strong>: Use a função .scatterplot() do Seaborn com os clusters como \"hue\" e apresente os gráficos de todas as variáveis umas contra as outras. Adicione também os centróides de cada cluster com um marcador com a função <a href=\"https://matplotlib.org/stable/api/_as_gen/matplotlib.pyplot.scatter.html\" rel=\"nofollow\" target=\"_blank\">scatter</a> e markers='s'.</a></span></li><li><span><a href=\"#Tarefa:-Trace-o-perfil-dos-consumidores-a-partir-dos-clusters-acima\" data-toc-modified-id=\"Tarefa:-Trace-o-perfil-dos-consumidores-a-partir-dos-clusters-acima-1.5.2.5\"><strong>Tarefa</strong>: Trace o perfil dos consumidores a partir dos clusters acima</a></span></li><li><span><a href=\"#Resposta:\" data-toc-modified-id=\"Resposta:-1.5.2.6\"><strong>Resposta</strong>:</a></span></li></ul></li></ul></li><li><span><a href=\"#Conclusão\" data-toc-modified-id=\"Conclusão-1.6\">Conclusão</a></span><ul class=\"toc-item\"><li><span><a href=\"#O-que-podemos-inferir-dos-achados-acima?-Que-estratégia-podemos-recomendar-ao-shopping-a-partir-disso?\" data-toc-modified-id=\"O-que-podemos-inferir-dos-achados-acima?-Que-estratégia-podemos-recomendar-ao-shopping-a-partir-disso?-1.6.1\">O que podemos inferir dos achados acima? Que estratégia podemos recomendar ao shopping a partir disso?</a></span></li></ul></li></ul></li></ul></div>"
   ]
  },
  {
   "cell_type": "markdown",
   "id": "ad729515",
   "metadata": {},
   "source": [
    "## Revisão: Pandas\n",
    "A ferramenta selecionada para darmos seguimento à solução desse problema é o **Python**. Assim, um conhecimento geral de Pandas será essencial. Por isso, faremos primeiro uma breve revisão dos conceitos básicos de Pandas."
   ]
  },
  {
   "cell_type": "markdown",
   "id": "2f27878c",
   "metadata": {
    "ExecuteTime": {
     "end_time": "2023-09-12T23:38:10.546459Z",
     "start_time": "2023-09-12T23:38:10.526414Z"
    }
   },
   "source": [
    "Primeiro, vamos importar nossa biblioteca **pandas** e referenciá-la como **pd**"
   ]
  },
  {
   "cell_type": "code",
   "execution_count": null,
   "id": "6251a1ac",
   "metadata": {
    "ExecuteTime": {
     "end_time": "2023-09-12T23:51:27.294544Z",
     "start_time": "2023-09-12T23:51:23.903339Z"
    },
    "execution": {
     "iopub.execute_input": "2023-09-19T18:28:24.613240Z",
     "iopub.status.busy": "2023-09-19T18:28:24.612889Z",
     "iopub.status.idle": "2023-09-19T18:28:24.926810Z",
     "shell.execute_reply": "2023-09-19T18:28:24.925154Z",
     "shell.execute_reply.started": "2023-09-19T18:28:24.613215Z"
    }
   },
   "outputs": [],
   "source": []
  },
  {
   "cell_type": "markdown",
   "id": "18d5b744",
   "metadata": {
    "ExecuteTime": {
     "end_time": "2023-09-12T23:46:35.170427Z",
     "start_time": "2023-09-12T23:46:35.165313Z"
    }
   },
   "source": [
    "### Estruturas de dados no pandas\n",
    "No pandas, as duas estruturas de dados principais são o DataFrame e a Series:\n",
    "\n",
    "#### DataFrame: \n",
    "É uma estrutura de dados bidimensional semelhante a uma tabela ou planilha no Excel. Um DataFrame possui linhas e colunas, onde cada coluna pode conter dados de diferentes tipos (por exemplo, números inteiros, floats, strings) e é rotulada com um nome. É uma estrutura de dados extremamente versátil para análise de dados tabulares.\n",
    "\n",
    "Por exemplo, considere o seguinte DataFrame simples:"
   ]
  },
  {
   "cell_type": "code",
   "execution_count": null,
   "id": "9547a76e",
   "metadata": {
    "ExecuteTime": {
     "end_time": "2023-09-12T23:51:27.334189Z",
     "start_time": "2023-09-12T23:51:27.315661Z"
    },
    "execution": {
     "iopub.execute_input": "2023-09-19T18:28:24.930151Z",
     "iopub.status.busy": "2023-09-19T18:28:24.929493Z",
     "iopub.status.idle": "2023-09-19T18:28:24.954152Z",
     "shell.execute_reply": "2023-09-19T18:28:24.952740Z",
     "shell.execute_reply.started": "2023-09-19T18:28:24.930110Z"
    }
   },
   "outputs": [],
   "source": [
    "pd.DataFrame({'Idade': [50, 21], 'Renda': [5000, 1000]})\n"
   ]
  },
  {
   "cell_type": "markdown",
   "id": "c194f2cc",
   "metadata": {},
   "source": [
    "#### Pergunta: Qual valor corresponde à primeira linha da coluna \"Idade\" no exemplo acima?"
   ]
  },
  {
   "cell_type": "markdown",
   "id": "d4de06dd",
   "metadata": {},
   "source": [
    "#### Resposta:\n",
    "50"
   ]
  },
  {
   "cell_type": "markdown",
   "id": "9c1bc041",
   "metadata": {},
   "source": [
    "#### Series:\n",
    "É uma estrutura de dados unidimensional que é semelhante a uma coluna em uma planilha ou uma matriz unidimensional em outras linguagens de programação. No entanto, uma Series no pandas é mais flexível, pois pode conter rótulos (índices) associados a cada elemento, permitindo um acesso mais eficiente e intuitivo aos dados.\n",
    "\n",
    "Ela pode ser criada a partir, por exemplo, de uma simples lista:"
   ]
  },
  {
   "cell_type": "code",
   "execution_count": null,
   "id": "7981fe87",
   "metadata": {
    "ExecuteTime": {
     "end_time": "2023-09-13T00:02:11.751909Z",
     "start_time": "2023-09-13T00:02:11.746643Z"
    },
    "execution": {
     "iopub.execute_input": "2023-09-19T18:28:25.553091Z",
     "iopub.status.busy": "2023-09-19T18:28:25.552239Z",
     "iopub.status.idle": "2023-09-19T18:28:25.559975Z",
     "shell.execute_reply": "2023-09-19T18:28:25.558862Z",
     "shell.execute_reply.started": "2023-09-19T18:28:25.553041Z"
    }
   },
   "outputs": [],
   "source": [
    "pd.Series([1, 2, 3, 4, 5])"
   ]
  },
  {
   "cell_type": "markdown",
   "id": "48262bfd",
   "metadata": {},
   "source": [
    "### Lendo e selecionando"
   ]
  },
  {
   "cell_type": "markdown",
   "id": "3e001fd0",
   "metadata": {
    "ExecuteTime": {
     "end_time": "2023-09-12T23:41:31.317391Z",
     "start_time": "2023-09-12T23:41:31.313104Z"
    }
   },
   "source": [
    "Agora, vamos ler nossos dados, que estão contidos num arquivo *.csv*. O arquivo *.csv* (Comma-Separated Values) é um formato de arquivo de texto onde os dados são armazenados em linhas, com valores separados por vírgulas, sendo muito comum usado para representar dados tabulares. \n",
    "```\n",
    "Renda,Idade,Gasto,\n",
    "1000,21,500,\n",
    "2000,34,300,\n",
    "5000,50,200\n",
    "````\n",
    "Para leitura, usaremos a função *read_csv()* e vamos inserir o endereço do nosso arquivo como string \"*../input/customer-segmentation-tutorial-in-python/Mall_Customers.csv*\"\n"
   ]
  },
  {
   "cell_type": "code",
   "execution_count": null,
   "id": "cde53702",
   "metadata": {
    "execution": {
     "iopub.execute_input": "2023-09-19T18:28:26.022147Z",
     "iopub.status.busy": "2023-09-19T18:28:26.021519Z",
     "iopub.status.idle": "2023-09-19T18:28:26.043509Z",
     "shell.execute_reply": "2023-09-19T18:28:26.042592Z",
     "shell.execute_reply.started": "2023-09-19T18:28:26.022117Z"
    }
   },
   "outputs": [],
   "source": [
    "\n",
    "data = "
   ]
  },
  {
   "cell_type": "markdown",
   "id": "2d0ac1a2",
   "metadata": {},
   "source": [
    "## Análise exploratória de dados (EDA)\n",
    "\n",
    "A Análise Exploratória de Dados (EDA) é uma abordagem fundamental na área de ciência de dados e análise de dados. Ela envolve o processo de investigação, resumo e visualização de dados para entender suas principais características, identificar tendências, padrões, anomalias e insights preliminares. A principal finalidade da análise exploratória de dados é obter uma compreensão mais profunda dos dados antes de aplicar técnicas estatísticas ou algoritmos de aprendizado de máquina. Também é possível encontrar insights valiosos durante esta análise."
   ]
  },
  {
   "cell_type": "markdown",
   "id": "1d688c39",
   "metadata": {
    "ExecuteTime": {
     "end_time": "2023-09-13T00:08:53.196566Z",
     "start_time": "2023-09-13T00:08:53.194037Z"
    }
   },
   "source": [
    "#### Tarefa: Descubra a quantidade de linhas e colunas da sua base com .shape"
   ]
  },
  {
   "cell_type": "code",
   "execution_count": null,
   "id": "4f893081",
   "metadata": {
    "execution": {
     "iopub.execute_input": "2023-09-19T18:28:26.558053Z",
     "iopub.status.busy": "2023-09-19T18:28:26.557445Z",
     "iopub.status.idle": "2023-09-19T18:28:26.564040Z",
     "shell.execute_reply": "2023-09-19T18:28:26.562819Z",
     "shell.execute_reply.started": "2023-09-19T18:28:26.558023Z"
    }
   },
   "outputs": [],
   "source": []
  },
  {
   "cell_type": "markdown",
   "id": "1c7b1c18",
   "metadata": {},
   "source": [
    "#### Tarefa: Liste as colunas do seu DataFrame com .columns"
   ]
  },
  {
   "cell_type": "code",
   "execution_count": null,
   "id": "7b6a2f1b",
   "metadata": {
    "execution": {
     "iopub.execute_input": "2023-09-19T18:28:26.936356Z",
     "iopub.status.busy": "2023-09-19T18:28:26.935767Z",
     "iopub.status.idle": "2023-09-19T18:28:26.944717Z",
     "shell.execute_reply": "2023-09-19T18:28:26.942848Z",
     "shell.execute_reply.started": "2023-09-19T18:28:26.936325Z"
    }
   },
   "outputs": [],
   "source": []
  },
  {
   "cell_type": "markdown",
   "id": "12575de5",
   "metadata": {},
   "source": [
    "#### Tarefa: Verifique os tipos de cada variável usando *.dtypes*"
   ]
  },
  {
   "cell_type": "code",
   "execution_count": null,
   "id": "a717ebc3",
   "metadata": {
    "execution": {
     "iopub.execute_input": "2023-09-19T18:28:27.286940Z",
     "iopub.status.busy": "2023-09-19T18:28:27.285679Z",
     "iopub.status.idle": "2023-09-19T18:28:27.295984Z",
     "shell.execute_reply": "2023-09-19T18:28:27.294246Z",
     "shell.execute_reply.started": "2023-09-19T18:28:27.286885Z"
    }
   },
   "outputs": [],
   "source": []
  },
  {
   "cell_type": "markdown",
   "id": "02b52ab1",
   "metadata": {},
   "source": [
    "#### Tarefa: Selecione a primeira coluna da sua base de dados com .iloc e .loc\n"
   ]
  },
  {
   "cell_type": "code",
   "execution_count": null,
   "id": "a6febe4d",
   "metadata": {
    "execution": {
     "iopub.execute_input": "2023-09-19T18:28:27.628504Z",
     "iopub.status.busy": "2023-09-19T18:28:27.628113Z",
     "iopub.status.idle": "2023-09-19T18:28:27.637762Z",
     "shell.execute_reply": "2023-09-19T18:28:27.636536Z",
     "shell.execute_reply.started": "2023-09-19T18:28:27.628477Z"
    }
   },
   "outputs": [],
   "source": []
  },
  {
   "cell_type": "code",
   "execution_count": null,
   "id": "6bf99926",
   "metadata": {
    "execution": {
     "iopub.execute_input": "2023-09-19T18:28:27.795527Z",
     "iopub.status.busy": "2023-09-19T18:28:27.795200Z",
     "iopub.status.idle": "2023-09-19T18:28:27.805101Z",
     "shell.execute_reply": "2023-09-19T18:28:27.803648Z",
     "shell.execute_reply.started": "2023-09-19T18:28:27.795503Z"
    }
   },
   "outputs": [],
   "source": []
  },
  {
   "cell_type": "markdown",
   "id": "a81613d8",
   "metadata": {},
   "source": [
    "#### Tarefa: Visualize as primeiras 5 linhas do conjunto de dados"
   ]
  },
  {
   "cell_type": "code",
   "execution_count": null,
   "id": "4de6d1ee",
   "metadata": {
    "ExecuteTime": {
     "end_time": "2023-09-13T00:07:51.651445Z",
     "start_time": "2023-09-13T00:07:51.599543Z"
    },
    "execution": {
     "iopub.execute_input": "2023-09-19T18:28:28.194144Z",
     "iopub.status.busy": "2023-09-19T18:28:28.193780Z",
     "iopub.status.idle": "2023-09-19T18:28:28.204823Z",
     "shell.execute_reply": "2023-09-19T18:28:28.203672Z",
     "shell.execute_reply.started": "2023-09-19T18:28:28.194114Z"
    }
   },
   "outputs": [],
   "source": [
    "\n"
   ]
  },
  {
   "cell_type": "markdown",
   "id": "6f700747",
   "metadata": {},
   "source": [
    "#### Tarefa: Visualize as últimas 5 linhas do conjunto de dados"
   ]
  },
  {
   "cell_type": "code",
   "execution_count": null,
   "id": "875d06a2",
   "metadata": {
    "execution": {
     "iopub.execute_input": "2023-09-19T18:28:28.562188Z",
     "iopub.status.busy": "2023-09-19T18:28:28.561766Z",
     "iopub.status.idle": "2023-09-19T18:28:28.573016Z",
     "shell.execute_reply": "2023-09-19T18:28:28.571762Z",
     "shell.execute_reply.started": "2023-09-19T18:28:28.562141Z"
    }
   },
   "outputs": [],
   "source": []
  },
  {
   "cell_type": "markdown",
   "id": "deaaf28e",
   "metadata": {},
   "source": [
    "#### Tarefa: Garanta que há apenas uma coluna por CustomerID, utilizando o .drop_duplicates() e coloque o CustomerID com índice, uma vez que esta variável apenas identifica cada customer."
   ]
  },
  {
   "cell_type": "code",
   "execution_count": null,
   "id": "cd1657d6",
   "metadata": {
    "execution": {
     "iopub.execute_input": "2023-09-19T18:28:28.923045Z",
     "iopub.status.busy": "2023-09-19T18:28:28.922087Z",
     "iopub.status.idle": "2023-09-19T18:28:28.933400Z",
     "shell.execute_reply": "2023-09-19T18:28:28.932218Z",
     "shell.execute_reply.started": "2023-09-19T18:28:28.923008Z"
    }
   },
   "outputs": [],
   "source": []
  },
  {
   "cell_type": "code",
   "execution_count": null,
   "id": "9012747b",
   "metadata": {
    "execution": {
     "iopub.execute_input": "2023-09-19T18:28:29.111437Z",
     "iopub.status.busy": "2023-09-19T18:28:29.110922Z",
     "iopub.status.idle": "2023-09-19T18:28:29.123413Z",
     "shell.execute_reply": "2023-09-19T18:28:29.122165Z",
     "shell.execute_reply.started": "2023-09-19T18:28:29.111405Z"
    }
   },
   "outputs": [],
   "source": []
  },
  {
   "cell_type": "markdown",
   "id": "71f4c25c",
   "metadata": {},
   "source": [
    "### Resumo estatístico\n",
    "Agora, vamos obter algumas métricas estatísticas básicas para entender melhor com o que estamos lidando."
   ]
  },
  {
   "cell_type": "markdown",
   "id": "ce45c9de",
   "metadata": {},
   "source": [
    "#### Tarefa: Verifique a média e a mediana da coluna \"Age\" com as funções *.mean()* e *.median()*"
   ]
  },
  {
   "cell_type": "code",
   "execution_count": null,
   "id": "89bac458",
   "metadata": {
    "execution": {
     "iopub.execute_input": "2023-09-19T18:28:29.714589Z",
     "iopub.status.busy": "2023-09-19T18:28:29.714204Z",
     "iopub.status.idle": "2023-09-19T18:28:29.722919Z",
     "shell.execute_reply": "2023-09-19T18:28:29.721506Z",
     "shell.execute_reply.started": "2023-09-19T18:28:29.714559Z"
    }
   },
   "outputs": [],
   "source": []
  },
  {
   "cell_type": "code",
   "execution_count": null,
   "id": "2e1e852d",
   "metadata": {
    "execution": {
     "iopub.execute_input": "2023-09-19T18:28:29.922712Z",
     "iopub.status.busy": "2023-09-19T18:28:29.922354Z",
     "iopub.status.idle": "2023-09-19T18:28:29.931950Z",
     "shell.execute_reply": "2023-09-19T18:28:29.930664Z",
     "shell.execute_reply.started": "2023-09-19T18:28:29.922686Z"
    }
   },
   "outputs": [],
   "source": []
  },
  {
   "cell_type": "markdown",
   "id": "78f7ffa5",
   "metadata": {},
   "source": [
    "#### Tarefa: Obtenha uma sumarização geral de todas as colunas com .describe()"
   ]
  },
  {
   "cell_type": "code",
   "execution_count": null,
   "id": "756eaf11",
   "metadata": {
    "execution": {
     "iopub.execute_input": "2023-09-19T18:28:30.625828Z",
     "iopub.status.busy": "2023-09-19T18:28:30.625516Z",
     "iopub.status.idle": "2023-09-19T18:28:30.644505Z",
     "shell.execute_reply": "2023-09-19T18:28:30.643486Z",
     "shell.execute_reply.started": "2023-09-19T18:28:30.625805Z"
    }
   },
   "outputs": [],
   "source": []
  },
  {
   "cell_type": "markdown",
   "id": "d83fad44",
   "metadata": {},
   "source": [
    "#### Tarefa: Conte quantas amostras há em cada categoria de \"Gender\" com *.value_counts()*"
   ]
  },
  {
   "cell_type": "code",
   "execution_count": null,
   "id": "749c80f9",
   "metadata": {
    "execution": {
     "iopub.execute_input": "2023-09-19T18:28:31.342361Z",
     "iopub.status.busy": "2023-09-19T18:28:31.341946Z",
     "iopub.status.idle": "2023-09-19T18:28:31.351862Z",
     "shell.execute_reply": "2023-09-19T18:28:31.350923Z",
     "shell.execute_reply.started": "2023-09-19T18:28:31.342325Z"
    }
   },
   "outputs": [],
   "source": []
  },
  {
   "cell_type": "markdown",
   "id": "ffb2bd5c",
   "metadata": {},
   "source": [
    "#### Tarefa: Vamos contar quantos NaNs há por coluna para averiguar se é necessário algum tratamento"
   ]
  },
  {
   "cell_type": "code",
   "execution_count": null,
   "id": "df0b3247",
   "metadata": {
    "execution": {
     "iopub.execute_input": "2023-09-19T18:28:31.790494Z",
     "iopub.status.busy": "2023-09-19T18:28:31.789888Z",
     "iopub.status.idle": "2023-09-19T18:28:31.798632Z",
     "shell.execute_reply": "2023-09-19T18:28:31.797509Z",
     "shell.execute_reply.started": "2023-09-19T18:28:31.790465Z"
    }
   },
   "outputs": [],
   "source": []
  },
  {
   "cell_type": "markdown",
   "id": "a2f12915",
   "metadata": {},
   "source": [
    "### Análise por grupos e interação entre variáveis\n",
    "Agora vamos analisar como as variáveis se comportam umas com relação às outras."
   ]
  },
  {
   "cell_type": "markdown",
   "id": "6d2f46a9",
   "metadata": {},
   "source": [
    "#### Tarefa: Vamos verificar as características dos 5 clientes com maior \"Annual Income\" usando *.sort_values(ascending=False)* e *.head()*"
   ]
  },
  {
   "cell_type": "code",
   "execution_count": null,
   "id": "bf40e4ea",
   "metadata": {
    "execution": {
     "iopub.execute_input": "2023-09-19T18:28:33.131815Z",
     "iopub.status.busy": "2023-09-19T18:28:33.131454Z",
     "iopub.status.idle": "2023-09-19T18:28:33.146135Z",
     "shell.execute_reply": "2023-09-19T18:28:33.144655Z",
     "shell.execute_reply.started": "2023-09-19T18:28:33.131779Z"
    }
   },
   "outputs": [],
   "source": []
  },
  {
   "cell_type": "markdown",
   "id": "96ae5b74",
   "metadata": {},
   "source": [
    "#### Tarefa: Vamos verificar a média de \"Annual Income\" para cada categoria de \"Gender\" usando *.groupby()*"
   ]
  },
  {
   "cell_type": "code",
   "execution_count": null,
   "id": "c422cb3f",
   "metadata": {
    "execution": {
     "iopub.execute_input": "2023-09-19T18:28:34.016371Z",
     "iopub.status.busy": "2023-09-19T18:28:34.016038Z",
     "iopub.status.idle": "2023-09-19T18:28:34.033671Z",
     "shell.execute_reply": "2023-09-19T18:28:34.032417Z",
     "shell.execute_reply.started": "2023-09-19T18:28:34.016346Z"
    }
   },
   "outputs": [],
   "source": []
  },
  {
   "cell_type": "markdown",
   "id": "f18764ed",
   "metadata": {},
   "source": [
    "#### Tarefa: Vamos verificar a média de \"Spending Score\" para cada categoria de \"Gender\" usando *.groupby()*"
   ]
  },
  {
   "cell_type": "code",
   "execution_count": null,
   "id": "5dc76059",
   "metadata": {
    "execution": {
     "iopub.execute_input": "2023-09-19T18:28:34.935008Z",
     "iopub.status.busy": "2023-09-19T18:28:34.934661Z",
     "iopub.status.idle": "2023-09-19T18:28:34.944208Z",
     "shell.execute_reply": "2023-09-19T18:28:34.943014Z",
     "shell.execute_reply.started": "2023-09-19T18:28:34.934982Z"
    }
   },
   "outputs": [],
   "source": []
  },
  {
   "cell_type": "markdown",
   "id": "6c0cae21",
   "metadata": {},
   "source": [
    "#### **Pergunta**: O que podemos inferir dos dados acima?\n"
   ]
  },
  {
   "cell_type": "markdown",
   "id": "e2ac2c0f",
   "metadata": {},
   "source": [
    "### Visualização de dados\n",
    "Na maioria das vezes, conseguimos inferir muitas coisas a partir da visualização de dados. Na análise exploratória, essa visualização consiste em histogramas, boxplots, gráficos de dispersão e assim por diante. Uma boa análise exploratória por visualização pode tomar tempo, já que é importante ter cuidado ao extrair diferentes informações dos dados, com a consciência de que, em alguns casos, os plots podem estar enviesados. \n",
    "\n",
    "Aqui, vamos usar aqui a biblioteca **Seaborn** para a visualização por sua simplicidade.\n",
    "\n"
   ]
  },
  {
   "cell_type": "markdown",
   "id": "eb298305",
   "metadata": {},
   "source": [
    "#### Tarefa: Visualize o histograma de \"Age\" usando pandas e seaborn\n",
    "\n",
    "**Revisão de histograma**\n",
    "\n",
    "Um histograma é uma representação gráfica que permite visualizar a distribuição de frequência de um conjunto de dados. Ele consiste em um gráfico de barras, no qual o eixo horizontal representa diferentes intervalos ou categorias de valores, enquanto o eixo vertical indica a frequência com que esses valores ocorrem no conjunto de dados. Cada barra no histograma representa a contagem ou proporção de dados que se enquadram em um determinado intervalo. Isso possibilita a identificação de tendências, padrões e insights sobre como os dados estão distribuídos, como a presença de picos, assimetrias ou concentrações em determinadas faixas de valores."
   ]
  },
  {
   "cell_type": "code",
   "execution_count": null,
   "id": "cac41d26",
   "metadata": {
    "execution": {
     "iopub.execute_input": "2023-09-19T18:28:36.053586Z",
     "iopub.status.busy": "2023-09-19T18:28:36.053200Z",
     "iopub.status.idle": "2023-09-19T18:28:36.360606Z",
     "shell.execute_reply": "2023-09-19T18:28:36.359294Z",
     "shell.execute_reply.started": "2023-09-19T18:28:36.053557Z"
    }
   },
   "outputs": [],
   "source": [
    "# Pandas"
   ]
  },
  {
   "cell_type": "code",
   "execution_count": null,
   "id": "491781e5",
   "metadata": {
    "execution": {
     "iopub.execute_input": "2023-09-19T18:28:36.363072Z",
     "iopub.status.busy": "2023-09-19T18:28:36.362501Z",
     "iopub.status.idle": "2023-09-19T18:28:37.035132Z",
     "shell.execute_reply": "2023-09-19T18:28:37.033326Z",
     "shell.execute_reply.started": "2023-09-19T18:28:36.363042Z"
    }
   },
   "outputs": [],
   "source": [
    "# Seaborn"
   ]
  },
  {
   "cell_type": "markdown",
   "id": "ca48b6de",
   "metadata": {},
   "source": [
    "#### Tarefa: Visualize o gráfico de dispersão entre \"Age\" e \"Annual income\" com sns.scatterplot() com Gender como hue"
   ]
  },
  {
   "cell_type": "code",
   "execution_count": null,
   "id": "79cf372f",
   "metadata": {
    "execution": {
     "iopub.execute_input": "2023-09-19T18:28:37.039209Z",
     "iopub.status.busy": "2023-09-19T18:28:37.038882Z",
     "iopub.status.idle": "2023-09-19T18:28:37.333781Z",
     "shell.execute_reply": "2023-09-19T18:28:37.333095Z",
     "shell.execute_reply.started": "2023-09-19T18:28:37.039186Z"
    }
   },
   "outputs": [],
   "source": [
    "sns.scatterplot(data, x=\"Age\", y=\"Annual Incom (k$)\", hue=\"Gender\")"
   ]
  },
  {
   "cell_type": "markdown",
   "id": "e997f96f",
   "metadata": {},
   "source": [
    "#### Tarefa: Utilize a função sns.pairplot com hue=\"Gender\" para visualizar as variáveis numéricas em histogramas e gráficos de dispersão de uma só ves"
   ]
  },
  {
   "cell_type": "code",
   "execution_count": null,
   "id": "bcb0d94c",
   "metadata": {
    "execution": {
     "iopub.execute_input": "2023-09-19T18:28:37.335445Z",
     "iopub.status.busy": "2023-09-19T18:28:37.334635Z",
     "iopub.status.idle": "2023-09-19T18:28:40.399966Z",
     "shell.execute_reply": "2023-09-19T18:28:40.399015Z",
     "shell.execute_reply.started": "2023-09-19T18:28:37.335422Z"
    }
   },
   "outputs": [],
   "source": []
  },
  {
   "cell_type": "markdown",
   "id": "439ec085",
   "metadata": {},
   "source": [
    "#### Pergunta: O que você infere dos gráficos acima?\n"
   ]
  },
  {
   "cell_type": "markdown",
   "id": "3aa9ea29",
   "metadata": {},
   "source": [
    "#### Resposta:\n",
    "Observamos que as variávies não possuem um claro comportamento diferente com relação a Gender. Parecem existir grupos melhores definidos entre as variáveis Spending Score, Annual Income e Age. Em alguns casos, a separação chega a ser visual, o que nos dá uma hipótese de que podemos obter uma clusterização bem sucedida apenas com essas variáveis."
   ]
  },
  {
   "cell_type": "markdown",
   "id": "e7b5896d",
   "metadata": {},
   "source": [
    "#### Tarefa: Vamos remover a variável \"Gender\" da base seja selecionando as colunas de interesse ou utilizando .drop(columns=)"
   ]
  },
  {
   "cell_type": "code",
   "execution_count": null,
   "id": "9432ade5",
   "metadata": {
    "execution": {
     "iopub.execute_input": "2023-09-19T18:28:40.402423Z",
     "iopub.status.busy": "2023-09-19T18:28:40.401787Z",
     "iopub.status.idle": "2023-09-19T18:28:40.411093Z",
     "shell.execute_reply": "2023-09-19T18:28:40.409293Z",
     "shell.execute_reply.started": "2023-09-19T18:28:40.402389Z"
    }
   },
   "outputs": [],
   "source": []
  },
  {
   "cell_type": "markdown",
   "id": "92521a27",
   "metadata": {},
   "source": [
    "#### Tarefa: Verifique a dependência linear entre as variáveis remanescentes, ajustando uma curva de regressão linear a elas com a função *sns.regplot()*"
   ]
  },
  {
   "cell_type": "markdown",
   "id": "462b4cf5",
   "metadata": {},
   "source": [
    "Variáveis altamente dependentes devem ser removidas, deixando apenas uma delas como representante, para evitar problemas como o de multicolinearidade.\n"
   ]
  },
  {
   "cell_type": "code",
   "execution_count": null,
   "id": "dc66cab8",
   "metadata": {
    "execution": {
     "iopub.execute_input": "2023-09-19T18:28:40.414606Z",
     "iopub.status.busy": "2023-09-19T18:28:40.413017Z",
     "iopub.status.idle": "2023-09-19T18:28:41.237338Z",
     "shell.execute_reply": "2023-09-19T18:28:41.236123Z",
     "shell.execute_reply.started": "2023-09-19T18:28:40.414549Z"
    }
   },
   "outputs": [],
   "source": []
  },
  {
   "cell_type": "markdown",
   "id": "c83f9125",
   "metadata": {},
   "source": [
    "#### **Pergunta**: O que inferimos das curvas acima?"
   ]
  },
  {
   "cell_type": "markdown",
   "id": "5fda79b9",
   "metadata": {},
   "source": [
    "#### **Resposta**:"
   ]
  },
  {
   "cell_type": "markdown",
   "id": "d2da1a07",
   "metadata": {},
   "source": [
    "#### **Tarefa**: Calcule o grau de dependência linear entre as variáveis com a função .corr()"
   ]
  },
  {
   "cell_type": "code",
   "execution_count": null,
   "id": "317090a5",
   "metadata": {
    "execution": {
     "iopub.execute_input": "2023-09-19T18:28:41.239900Z",
     "iopub.status.busy": "2023-09-19T18:28:41.239316Z",
     "iopub.status.idle": "2023-09-19T18:28:41.254313Z",
     "shell.execute_reply": "2023-09-19T18:28:41.252878Z",
     "shell.execute_reply.started": "2023-09-19T18:28:41.239872Z"
    }
   },
   "outputs": [],
   "source": []
  },
  {
   "cell_type": "markdown",
   "id": "fe389b6d",
   "metadata": {},
   "source": [
    "#### **Pergunta**: O que observamos a partir da correlação?"
   ]
  },
  {
   "cell_type": "markdown",
   "id": "37ff5ed3",
   "metadata": {},
   "source": [
    "#### **Resposta**:"
   ]
  },
  {
   "cell_type": "markdown",
   "id": "d87f6052",
   "metadata": {
    "tags": []
   },
   "source": [
    "## Pré-processamento"
   ]
  },
  {
   "cell_type": "markdown",
   "id": "0dccb880",
   "metadata": {},
   "source": [
    "### Normalização ou _scaling_ das features\n",
    "\n",
    "\n",
    "\n",
    "Scaling é um processo utilizado na análise de dados para normalizar as variáveis, ou seja, colocá-las em uma escala comum para que possam ser comparadas de forma adequada. Isso é necessário porque as variáveis muitas vezes possuem escalas diferentes e podem ter uma influência desproporcional na clusterização. \n",
    "\n",
    "Existem várias formas de se escalar, sendo os dois dos mais comuns tipos encontrados:\n",
    "\n",
    "1) Escala Min-Max\n",
    "\n",
    "2) Z-score ([StandardScaler](https://scikit-learn.org/stable/modules/generated/sklearn.preprocessing.StandardScaler.html))\n",
    "\n",
    "Aqui aplicaremos o segundo para padronizar as variáveis. Acesse o link para entender como realizar essa aplicação."
   ]
  },
  {
   "cell_type": "code",
   "execution_count": null,
   "id": "1e53a042",
   "metadata": {
    "execution": {
     "iopub.execute_input": "2023-09-19T18:30:32.832564Z",
     "iopub.status.busy": "2023-09-19T18:30:32.832093Z",
     "iopub.status.idle": "2023-09-19T18:30:32.843039Z",
     "shell.execute_reply": "2023-09-19T18:30:32.841750Z",
     "shell.execute_reply.started": "2023-09-19T18:30:32.832533Z"
    }
   },
   "outputs": [],
   "source": []
  },
  {
   "cell_type": "markdown",
   "id": "44d2b2ee",
   "metadata": {},
   "source": [
    "## Clusterização\n",
    "\n",
    "A clusterização é uma técnica de aprendizado de máquina não supervisionado que visa agrupar dados semelhantes em conjuntos distintos chamados de clusters. O objetivo da clusterização é descobrir padrões intrínsecos nos dados, identificando grupos naturalmente existentes sem a necessidade de rótulos ou informações prévias. O método de clusterização que iremos aplicar é o K-means.\n",
    "\n",
    "### K-means\n",
    "\n",
    "O algoritmo K-means é um método popular de clusterização que agrupa dados em K clusters. Ele demanda do usuário apenas uma informação prévia, que é o número K de clusters a serem obtidos. Uma vez esse número determinado, o algoritmo consiste em:\n",
    "\n",
    "- Inicializar os centroides dos clusters. Os centroides são pontos no espaço de características que representam o centro dos clusters. Eles podem ser inicializados de diferentes maneiras, como aleatoriamente ou com base em algum critério específico.\n",
    "\n",
    "- Atribuir cada ponto de dados ao centroide mais próximo. Isso é feito calculando a distância entre cada ponto e os centroides e atribuindo o ponto ao centroide com a menor distância. A distância mais comumente usada é a **distância euclidiana**.\n",
    "\n",
    "- Recalcular os centroides dos clusters. Após cada ponto ser atribuído a um cluster, os centroides são recalculados, atualizando suas posições. Isso é feito calculando a média das coordenadas dos pontos atribuídos a cada centroide.\n",
    "\n",
    "- Repitir iterativamente os passos 3 e 4 até que ocorra convergência, ou seja, até que não haja mais alteração nas atribuições dos pontos aos clusters ou nas posições dos centroides. O critério de parada pode ser definido com base em um número máximo de iterações ou quando uma mudança mínima nas atribuições ou posições é alcançada.\n",
    "\n",
    "<img src=\"https://miro.medium.com/v2/resize:fit:1400/1*b2sO2f--yfZiJazc5rYSpg.gif\" width=\"400\" height=\"400\">\n",
    "\n",
    "Os clusters resultantes são representados pelos centroides finais. Cada ponto de dados é atribuído a um cluster com base na proximidade do centroide."
   ]
  },
  {
   "cell_type": "markdown",
   "id": "32a35d48",
   "metadata": {},
   "source": [
    "### Método da Silhoueta\n",
    "\n",
    "O método Kmeans tem como parâmetro fundamental o número de clusters. Uma boa prática para determinar o número de clusters é utilizar o método  da silhueta (Silhouette Method). Ele mede a qualidade da clusterização atribuindo um valor de silhueta a cada ponto de dados em relação ao cluster ao qual ele pertence e aos clusters vizinhos mais próximos. \n",
    "\n",
    "O valor de silhueta varia de -1 a 1 e fornece uma medida da coesão dentro do cluster em comparação com a separação entre os clusters. Os valores de silhueta indicam o quão semelhantes os pontos de um cluster são entre si em comparação com os pontos dos clusters vizinhos. \n",
    "\n",
    "Em termos gerais:\n",
    "- Um valor de silhueta próximo a 1 indica que o ponto está bem dentro do seu cluster e longe de outros clusters, o que é desejável.\n",
    "- Um valor de silhueta próximo a 0 indica que o ponto está próximo ou em uma fronteira entre clusters, o que é menos desejável.\n",
    "- Um valor de silhueta próximo a -1 indica que o ponto pode ter sido atribuído ao cluster errado.\n",
    "\n",
    "Ao calcular o valor médio da silhueta para diferentes números de clusters, é possível identificar o número ideal de clusters, aquele que maximiza a coesão intra-cluster e minimiza a separação entre clusters.\n",
    "\n",
    "\n",
    "[Sklearn Kmeans](https://scikit-learn.org/stable/modules/generated/sklearn.cluster.KMeans.html)\n",
    "\n",
    "[Kmeans Silhouette score](https://scikit-learn.org/stable/modules/generated/sklearn.metrics.silhouette_score.html)"
   ]
  },
  {
   "cell_type": "code",
   "execution_count": null,
   "id": "6d2b3ff9",
   "metadata": {
    "execution": {
     "iopub.execute_input": "2023-09-19T18:55:25.892417Z",
     "iopub.status.busy": "2023-09-19T18:55:25.891042Z",
     "iopub.status.idle": "2023-09-19T18:55:26.446729Z",
     "shell.execute_reply": "2023-09-19T18:55:26.445320Z",
     "shell.execute_reply.started": "2023-09-19T18:55:25.892358Z"
    }
   },
   "outputs": [],
   "source": [
    "from sklearn.cluster import KMeans \n",
    "from sklearn.metrics import silhouette_score"
   ]
  },
  {
   "cell_type": "code",
   "execution_count": null,
   "id": "ff4f88d8",
   "metadata": {
    "execution": {
     "iopub.execute_input": "2023-09-19T18:55:26.449498Z",
     "iopub.status.busy": "2023-09-19T18:55:26.448989Z",
     "iopub.status.idle": "2023-09-19T18:55:27.413620Z",
     "shell.execute_reply": "2023-09-19T18:55:27.411631Z",
     "shell.execute_reply.started": "2023-09-19T18:55:26.449459Z"
    }
   },
   "outputs": [],
   "source": []
  },
  {
   "cell_type": "markdown",
   "id": "6c811fac",
   "metadata": {},
   "source": [
    "#### **Pergunta**: Dos valores testados no gráfico acima, qual parece fornecer o melhor score?"
   ]
  },
  {
   "cell_type": "markdown",
   "id": "d3002762",
   "metadata": {},
   "source": [
    "#### **Resposta**:"
   ]
  },
  {
   "cell_type": "markdown",
   "id": "f3787f57",
   "metadata": {},
   "source": [
    "#### **Tarefa**: Gere um modelo com a quantidade de clusters inferida acima e infira os clusters para cada amostra de dados"
   ]
  },
  {
   "cell_type": "code",
   "execution_count": null,
   "id": "3424d222",
   "metadata": {
    "execution": {
     "iopub.execute_input": "2023-09-19T18:58:34.884607Z",
     "iopub.status.busy": "2023-09-19T18:58:34.884222Z",
     "iopub.status.idle": "2023-09-19T18:58:34.918266Z",
     "shell.execute_reply": "2023-09-19T18:58:34.917515Z",
     "shell.execute_reply.started": "2023-09-19T18:58:34.884578Z"
    }
   },
   "outputs": [],
   "source": []
  },
  {
   "cell_type": "markdown",
   "id": "195cb651",
   "metadata": {},
   "source": [
    "#### **Tarefa**: Use a função .scatterplot() do Seaborn com os clusters como \"hue\" e apresente os gráficos de todas as variáveis umas contra as outras. Adicione também os centróides de cada cluster com um marcador com a função [scatter](https://matplotlib.org/stable/api/_as_gen/matplotlib.pyplot.scatter.html) e markers='s'."
   ]
  },
  {
   "cell_type": "code",
   "execution_count": null,
   "id": "2f68eadb",
   "metadata": {
    "execution": {
     "iopub.execute_input": "2023-09-19T19:00:37.510269Z",
     "iopub.status.busy": "2023-09-19T19:00:37.509892Z",
     "iopub.status.idle": "2023-09-19T19:00:38.353583Z",
     "shell.execute_reply": "2023-09-19T19:00:38.351516Z",
     "shell.execute_reply.started": "2023-09-19T19:00:37.510240Z"
    }
   },
   "outputs": [],
   "source": []
  },
  {
   "cell_type": "markdown",
   "id": "1b085a28",
   "metadata": {},
   "source": [
    "#### **Tarefa**: Trace o perfil dos consumidores a partir dos clusters acima"
   ]
  },
  {
   "cell_type": "markdown",
   "id": "79cbe9cf",
   "metadata": {},
   "source": [
    "#### **Resposta**:"
   ]
  },
  {
   "cell_type": "markdown",
   "id": "2aeafd5e",
   "metadata": {},
   "source": [
    "## Conclusão\n",
    "\n",
    "### O que podemos inferir dos achados acima? Que estratégia podemos recomendar ao shopping a partir disso?"
   ]
  },
  {
   "cell_type": "markdown",
   "id": "f5dd985e",
   "metadata": {},
   "source": []
  },
  {
   "cell_type": "code",
   "execution_count": null,
   "id": "212492be",
   "metadata": {},
   "outputs": [],
   "source": []
  }
 ],
 "metadata": {
  "environment": {
   "kernel": "python3",
   "name": "common-cpu.m103",
   "type": "gcloud",
   "uri": "gcr.io/deeplearning-platform-release/base-cpu:m103"
  },
  "kernelspec": {
   "display_name": "Python 3 (ipykernel)",
   "language": "python",
   "name": "python3"
  },
  "language_info": {
   "codemirror_mode": {
    "name": "ipython",
    "version": 3
   },
   "file_extension": ".py",
   "mimetype": "text/x-python",
   "name": "python",
   "nbconvert_exporter": "python",
   "pygments_lexer": "ipython3",
   "version": "3.7.12"
  },
  "toc": {
   "base_numbering": 1,
   "nav_menu": {},
   "number_sections": false,
   "sideBar": true,
   "skip_h1_title": false,
   "title_cell": "Table of Contents",
   "title_sidebar": "Contents",
   "toc_cell": true,
   "toc_position": {
    "height": "calc(100% - 180px)",
    "left": "10px",
    "top": "150px",
    "width": "165px"
   },
   "toc_section_display": true,
   "toc_window_display": true
  },
  "toc-autonumbering": false,
  "toc-showcode": true,
  "toc-showmarkdowntxt": true,
  "varInspector": {
   "cols": {
    "lenName": 16,
    "lenType": 16,
    "lenVar": 40
   },
   "kernels_config": {
    "python": {
     "delete_cmd_postfix": "",
     "delete_cmd_prefix": "del ",
     "library": "var_list.py",
     "varRefreshCmd": "print(var_dic_list())"
    },
    "r": {
     "delete_cmd_postfix": ") ",
     "delete_cmd_prefix": "rm(",
     "library": "var_list.r",
     "varRefreshCmd": "cat(var_dic_list()) "
    }
   },
   "types_to_exclude": [
    "module",
    "function",
    "builtin_function_or_method",
    "instance",
    "_Feature"
   ],
   "window_display": false
  }
 },
 "nbformat": 4,
 "nbformat_minor": 5
}
