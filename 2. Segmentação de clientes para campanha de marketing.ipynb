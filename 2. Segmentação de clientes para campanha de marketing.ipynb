{
 "cells": [
  {
   "cell_type": "markdown",
   "metadata": {},
   "source": [
    "# Bootcamp: Construa seu Portfólio em Ciência de Dados\n",
    "\n",
    "**Autora**: Yanna Cavalcanti\n",
    "\n",
    "**Data**: Junho 2023\n",
    "\n",
    "---\n",
    "\n",
    "## Projeto: Segmentação de clientes para campanha de marketing\n",
    "\n",
    "#### Indústria e mercado\n",
    "\n",
    "Esse projeto se enquadra na indústria automobilística. Empresas conhecidas nesse setor com time de ciência de dados no Brasil incluem **Ford**, **Fiat** e **Jeep** (da Fiat).\n",
    "\n",
    "#### Contexto\n",
    "\n",
    "Uma empresa automobilística tem planos de entrar em novos mercados com seus produtos existentes (C1, C2, C3, C4). Eles acreditam que o comportamento do novo mercado é semelhante ao seu mercado existente e, por isso, vão se basear nas informações que já possuem para criar estratégias de vendas. A equipe de marketing da empresa está buscando criar \"personas\" ou \"avatares\", ou seja, representações fictícias de clientes ideais para direcionar suas estratégias de marketing. Para isso, eles necessitam de uma segmentação de clientes utilizando a base de dados que eles adquiriram através de pesquisa. Para cada _avatar_, eles vão propor uma comunicação e um produto específico de acordo com o portfólio atual da empresa, que é o seguinte:\n",
    "\n",
    "- **Carro C1**: Sedan espaçoso e confiável com aparência elegante que oferece um equilíbrio entre conforto, desempenho e economia. Possui reputação de confiabilidade e durabilidade, que o torna uma escolha sólida para as demandas do dia a dia. Além disso, ele possui um interior espaçoso, com assentos confortáveis e recursos de segurança avançados, proporcionando tranquilidade para o motorista e a família. \n",
    "- **Carro C2**: Hatchback compacto e moderno, que combina estilo, eficiência e acessibilidade. Oferece um equilíbrio ideal entre praticidade e elegância. Com um orçamento baixo, ele proporciona economia de combustível e manutenção acessível. Além disso, possui design contemporâneo e recursos tecnológicos avançados. Seu tamanho compacto também facilita a condução em áreas urbanas movimentadas.\n",
    "- **Carro C3**: Compacto econômico e versátil, com um orçamento baixo, esse veículo oferece eficiência de combustível e custos de manutenção acessíveis. Ele é ideal para deslocamentos diários e oferece praticidade em ambientes urbanos. Além disso, esse carro possui espaço suficiente para acomodar uma família grande, garantindo conforto e segurança para todos os ocupantes.\n",
    "- **Carro C4**: SUV de luxo espaçoso e elegante, com um design sofisticado e tecnologia avançada. Combinando conforto e estilo,é para quem valoriza qualidade e prestígio. Possui assentos confortáveis e recursos de segurança de última geração.\n",
    "\n",
    "#### Objetivo\n",
    "\n",
    "Sua tarefa é desenvolver uma clusterização a partir dos dados existentes que forneça características significativas para cada cluster ou segmento de maneira que a equipe de marketing consiga construir os avatares e as melhores estratégias para cada um. É importante que você consiga enxergar e propor sugestões de avatares e produtos para garantir que os clusters estão fazendo sentido não apenas do ponto de vista técnico, mas também de negócio.\n",
    "\n",
    "Além disso, após a clusterização e criação de avatares, você deve verificar nos dados não-vistos ou de teste se de fato as características se mantém para o novo público.\n",
    "\n",
    "**ATENÇÃO**: Tenha em mente que a clusterização é um processo bastante iterativo e pode ser necessário que você teste diferentes técnicas de pré-processamento e combinação de features até chegar a um resultado relevante. Além disso, seus avatares não precisam ser construídos apenas a partir das features utilizadas nos clusters, mas você pode descrever cada cluster com todas as features, mesmo as que não permanecerem no seu processo de clusterização.\n",
    "\n",
    "#### Dataset\n",
    "\n",
    "- **Dataset Source:** [Kaggle](https://www.kaggle.com/datasets/vetrirah/customer)\n"
   ]
  },
  {
   "cell_type": "markdown",
   "metadata": {
    "toc": true
   },
   "source": [
    "<h1>Table of Contents<span class=\"tocSkip\"></span></h1>\n",
    "<div class=\"toc\"><ul class=\"toc-item\"><li><span><a href=\"#Bootcamp:-Construa-seu-Portfólio-em-Ciência-de-Dados\" data-toc-modified-id=\"Bootcamp:-Construa-seu-Portfólio-em-Ciência-de-Dados-1\"><span class=\"toc-item-num\">1&nbsp;&nbsp;</span>Bootcamp: Construa seu Portfólio em Ciência de Dados</a></span><ul class=\"toc-item\"><li><span><a href=\"#Projeto:-Segmentação-de-clientes-para-campanha-de-marketing\" data-toc-modified-id=\"Projeto:-Segmentação-de-clientes-para-campanha-de-marketing-1.1\"><span class=\"toc-item-num\">1.1&nbsp;&nbsp;</span>Projeto: Segmentação de clientes para campanha de marketing</a></span><ul class=\"toc-item\"><li><ul class=\"toc-item\"><li><span><a href=\"#Indústria-e-mercado\" data-toc-modified-id=\"Indústria-e-mercado-1.1.0.1\"><span class=\"toc-item-num\">1.1.0.1&nbsp;&nbsp;</span>Indústria e mercado</a></span></li><li><span><a href=\"#Contexto\" data-toc-modified-id=\"Contexto-1.1.0.2\"><span class=\"toc-item-num\">1.1.0.2&nbsp;&nbsp;</span>Contexto</a></span></li><li><span><a href=\"#Objetivo\" data-toc-modified-id=\"Objetivo-1.1.0.3\"><span class=\"toc-item-num\">1.1.0.3&nbsp;&nbsp;</span>Objetivo</a></span></li><li><span><a href=\"#Dataset\" data-toc-modified-id=\"Dataset-1.1.0.4\"><span class=\"toc-item-num\">1.1.0.4&nbsp;&nbsp;</span>Dataset</a></span></li></ul></li></ul></li><li><span><a href=\"#EDA-e-pré-processamento\" data-toc-modified-id=\"EDA-e-pré-processamento-1.2\"><span class=\"toc-item-num\">1.2&nbsp;&nbsp;</span>EDA e pré-processamento</a></span><ul class=\"toc-item\"><li><span><a href=\"#EDA-de-variáveis-numéricas\" data-toc-modified-id=\"EDA-de-variáveis-numéricas-1.2.1\"><span class=\"toc-item-num\">1.2.1&nbsp;&nbsp;</span>EDA de variáveis numéricas</a></span><ul class=\"toc-item\"><li><span><a href=\"#Tarefa:-Selecione-as-variáveis-numéricas--.select_dtypes()\" data-toc-modified-id=\"Tarefa:-Selecione-as-variáveis-numéricas--.select_dtypes()-1.2.1.1\"><span class=\"toc-item-num\">1.2.1.1&nbsp;&nbsp;</span><strong>Tarefa</strong>: Selecione as variáveis numéricas  <em>.select_dtypes()</em></a></span></li><li><span><a href=\"#Tarefa:-Visualize-os-gráficos-de-dispersão-e-histograma-dessas-variáveis-conjuntamente-com\" data-toc-modified-id=\"Tarefa:-Visualize-os-gráficos-de-dispersão-e-histograma-dessas-variáveis-conjuntamente-com-1.2.1.2\"><span class=\"toc-item-num\">1.2.1.2&nbsp;&nbsp;</span><strong>Tarefa</strong>: Visualize os gráficos de dispersão e histograma dessas variáveis conjuntamente com</a></span></li></ul></li><li><span><a href=\"#EDA-de-variáveis-categóricas\" data-toc-modified-id=\"EDA-de-variáveis-categóricas-1.2.2\"><span class=\"toc-item-num\">1.2.2&nbsp;&nbsp;</span>EDA de variáveis categóricas</a></span><ul class=\"toc-item\"><li><span><a href=\"#Tarefa:-Selecione-as-variáveis-categóricas-com--.select_dtypes()\" data-toc-modified-id=\"Tarefa:-Selecione-as-variáveis-categóricas-com--.select_dtypes()-1.2.2.1\"><span class=\"toc-item-num\">1.2.2.1&nbsp;&nbsp;</span><strong>Tarefa</strong>: Selecione as variáveis categóricas com  <em>.select_dtypes()</em></a></span></li><li><span><a href=\"#Tarefa:-Utilize--.map()-para-mapear-as-categorias-de-&quot;Spending-Score&quot;-para-números-inteiros-de-0-a-2\" data-toc-modified-id=\"Tarefa:-Utilize--.map()-para-mapear-as-categorias-de-&quot;Spending-Score&quot;-para-números-inteiros-de-0-a-2-1.2.2.2\"><span class=\"toc-item-num\">1.2.2.2&nbsp;&nbsp;</span><strong>Tarefa</strong>: Utilize  <em>.map()</em> para mapear as categorias de \"Spending Score\" para números inteiros de 0 a 2</a></span></li><li><span><a href=\"#Tarefa:-Visualize-como-o-&quot;Spending-Score&quot;-se-comporta-para-cada-&quot;Profession&quot;-utilizando-.groupby()-e-.describe()\" data-toc-modified-id=\"Tarefa:-Visualize-como-o-&quot;Spending-Score&quot;-se-comporta-para-cada-&quot;Profession&quot;-utilizando-.groupby()-e-.describe()-1.2.2.3\"><span class=\"toc-item-num\">1.2.2.3&nbsp;&nbsp;</span><strong>Tarefa</strong>: Visualize como o \"Spending Score\" se comporta para cada \"Profession\" utilizando <em>.groupby()</em> e <em>.describe()</em></a></span></li><li><span><a href=\"#Tarefa:-Crie-um-plot-com-barras-com-o-count()-por-categoria-para-cada-variável-categórica-que-você-selecionou-lá-em-cima-e-coloque-as-todas-na-mesma-figura-através-de-subplots-e-utilizando-um-loop-for\" data-toc-modified-id=\"Tarefa:-Crie-um-plot-com-barras-com-o-count()-por-categoria-para-cada-variável-categórica-que-você-selecionou-lá-em-cima-e-coloque-as-todas-na-mesma-figura-através-de-subplots-e-utilizando-um-loop-for-1.2.2.4\"><span class=\"toc-item-num\">1.2.2.4&nbsp;&nbsp;</span><strong>Tarefa</strong>: Crie um plot com barras com o count() por categoria para cada variável categórica que você selecionou lá em cima e coloque-as todas na mesma figura através de subplots e utilizando um loop <strong>for</strong></a></span></li></ul></li><li><span><a href=\"#Transformação-de-variáveis-categóricas-para-numéricas\" data-toc-modified-id=\"Transformação-de-variáveis-categóricas-para-numéricas-1.2.3\"><span class=\"toc-item-num\">1.2.3&nbsp;&nbsp;</span>Transformação de variáveis categóricas para numéricas</a></span><ul class=\"toc-item\"><li><span><a href=\"#Pergunta:-Em-que-situação-devemos-utilizar-one-hot-encoding-e-em-que-situações-podemos-usar-o-label-encoding?\" data-toc-modified-id=\"Pergunta:-Em-que-situação-devemos-utilizar-one-hot-encoding-e-em-que-situações-podemos-usar-o-label-encoding?-1.2.3.1\"><span class=\"toc-item-num\">1.2.3.1&nbsp;&nbsp;</span><strong>Pergunta</strong>: Em que situação devemos utilizar one-hot encoding e em que situações podemos usar o label encoding?</a></span></li><li><span><a href=\"#Resposta:\" data-toc-modified-id=\"Resposta:-1.2.3.2\"><span class=\"toc-item-num\">1.2.3.2&nbsp;&nbsp;</span><strong>Resposta</strong>:</a></span></li><li><span><a href=\"#Tarefa:-Visualize-um-heatmap-com-a-correlação-das-colunas-de-profissão\" data-toc-modified-id=\"Tarefa:-Visualize-um-heatmap-com-a-correlação-das-colunas-de-profissão-1.2.3.3\"><span class=\"toc-item-num\">1.2.3.3&nbsp;&nbsp;</span><strong>Tarefa</strong>: Visualize um heatmap com a correlação das colunas de profissão</a></span></li><li><span><a href=\"#Pergunta:-Alguma-dessas-variáveis-está-trazendo-informação-repetida-e-deve-ser-dropada?\" data-toc-modified-id=\"Pergunta:-Alguma-dessas-variáveis-está-trazendo-informação-repetida-e-deve-ser-dropada?-1.2.3.4\"><span class=\"toc-item-num\">1.2.3.4&nbsp;&nbsp;</span><strong>Pergunta</strong>: Alguma dessas variáveis está trazendo informação repetida e deve ser dropada?</a></span></li><li><span><a href=\"#Resposta:\" data-toc-modified-id=\"Resposta:-1.2.3.5\"><span class=\"toc-item-num\">1.2.3.5&nbsp;&nbsp;</span><strong>Resposta</strong>:</a></span></li></ul></li><li><span><a href=\"#Limpeza-de-dados\" data-toc-modified-id=\"Limpeza-de-dados-1.2.4\"><span class=\"toc-item-num\">1.2.4&nbsp;&nbsp;</span>Limpeza de dados</a></span><ul class=\"toc-item\"><li><span><a href=\"#Tarefa:-Verifique-se-há-duplicatas-nos-dados-com-.drop_duplicates()\" data-toc-modified-id=\"Tarefa:-Verifique-se-há-duplicatas-nos-dados-com-.drop_duplicates()-1.2.4.1\"><span class=\"toc-item-num\">1.2.4.1&nbsp;&nbsp;</span><strong>Tarefa</strong>: Verifique se há duplicatas nos dados com <strong>.drop_duplicates()</strong></a></span></li><li><span><a href=\"#Tarefa:-Conte-quantos-NaNs-há-por-coluna\" data-toc-modified-id=\"Tarefa:-Conte-quantos-NaNs-há-por-coluna-1.2.4.2\"><span class=\"toc-item-num\">1.2.4.2&nbsp;&nbsp;</span><strong>Tarefa</strong>: Conte quantos NaNs há por coluna</a></span></li><li><span><a href=\"#Tarefa:-Remova-as-linhas-que-possuem-mais-de-3-colunas-com-NaNs\" data-toc-modified-id=\"Tarefa:-Remova-as-linhas-que-possuem-mais-de-3-colunas-com-NaNs-1.2.4.3\"><span class=\"toc-item-num\">1.2.4.3&nbsp;&nbsp;</span><strong>Tarefa</strong>: Remova as linhas que possuem mais de 3 colunas com NaNs</a></span></li></ul></li><li><span><a href=\"#Imputando-valores-faltantes\" data-toc-modified-id=\"Imputando-valores-faltantes-1.2.5\"><span class=\"toc-item-num\">1.2.5&nbsp;&nbsp;</span>Imputando valores faltantes</a></span><ul class=\"toc-item\"><li><span><a href=\"#Tarefa:-Crie-uma-função-de-imputação-utilizando-ou-a-média-.mean()-ou-a-mediana-.median()\" data-toc-modified-id=\"Tarefa:-Crie-uma-função-de-imputação-utilizando-ou-a-média-.mean()-ou-a-mediana-.median()-1.2.5.1\"><span class=\"toc-item-num\">1.2.5.1&nbsp;&nbsp;</span><strong>Tarefa</strong>: Crie uma função de imputação utilizando ou a média <strong>.mean()</strong> ou a mediana <strong>.median()</strong></a></span></li><li><span><a href=\"#Tarefa:-Crie-uma-função-de-imputação-utilizando-KNN\" data-toc-modified-id=\"Tarefa:-Crie-uma-função-de-imputação-utilizando-KNN-1.2.5.2\"><span class=\"toc-item-num\">1.2.5.2&nbsp;&nbsp;</span><strong>Tarefa</strong>: Crie uma função de imputação utilizando KNN</a></span></li></ul></li><li><span><a href=\"#Normalização-ou-scaling-das-features\" data-toc-modified-id=\"Normalização-ou-scaling-das-features-1.2.6\"><span class=\"toc-item-num\">1.2.6&nbsp;&nbsp;</span>Normalização ou <em>scaling</em> das features</a></span><ul class=\"toc-item\"><li><span><a href=\"#Min-max\" data-toc-modified-id=\"Min-max-1.2.6.1\"><span class=\"toc-item-num\">1.2.6.1&nbsp;&nbsp;</span><strong>Min-max</strong></a></span></li><li><span><a href=\"#Z-score\" data-toc-modified-id=\"Z-score-1.2.6.2\"><span class=\"toc-item-num\">1.2.6.2&nbsp;&nbsp;</span><strong>Z-score</strong></a></span></li><li><span><a href=\"#Tarefa:-Aplique-o-MinMaxScaler-e-o-StandardScaler-aos-dados-(um-de-cada-vez)\" data-toc-modified-id=\"Tarefa:-Aplique-o-MinMaxScaler-e-o-StandardScaler-aos-dados-(um-de-cada-vez)-1.2.6.3\"><span class=\"toc-item-num\">1.2.6.3&nbsp;&nbsp;</span><strong>Tarefa</strong>: Aplique o <a href=\"https://scikit-learn.org/stable/modules/generated/sklearn.preprocessing.MinMaxScaler.html\" rel=\"nofollow\" target=\"_blank\">MinMaxScaler</a> e o <a href=\"https://scikit-learn.org/stable/modules/generated/sklearn.preprocessing.StandardScaler.html\" rel=\"nofollow\" target=\"_blank\">StandardScaler</a> aos dados (um de cada vez)</a></span></li></ul></li></ul></li><li><span><a href=\"#Clusterização\" data-toc-modified-id=\"Clusterização-1.3\"><span class=\"toc-item-num\">1.3&nbsp;&nbsp;</span>Clusterização</a></span><ul class=\"toc-item\"><li><span><a href=\"#K-means\" data-toc-modified-id=\"K-means-1.3.1\"><span class=\"toc-item-num\">1.3.1&nbsp;&nbsp;</span>K-means</a></span></li><li><span><a href=\"#Curva-de-Elbow\" data-toc-modified-id=\"Curva-de-Elbow-1.3.2\"><span class=\"toc-item-num\">1.3.2&nbsp;&nbsp;</span>Curva de Elbow</a></span><ul class=\"toc-item\"><li><span><a href=\"#Atenção:-A-clusterização-é-um-processo-iterativo-e-pode-precisar-de-diversas-iterações-até-chegar-ao-objetivo-de-negócio-desejado.-É-recomendável-que-você-chegue-a-um-número-de-clusters-entre-3-e-5.-As-seguintes-iterações-são-altamente-recomendadas-para-te-ajudar-a-atingir-esse-objetivo:\" data-toc-modified-id=\"Atenção:-A-clusterização-é-um-processo-iterativo-e-pode-precisar-de-diversas-iterações-até-chegar-ao-objetivo-de-negócio-desejado.-É-recomendável-que-você-chegue-a-um-número-de-clusters-entre-3-e-5.-As-seguintes-iterações-são-altamente-recomendadas-para-te-ajudar-a-atingir-esse-objetivo:-1.3.2.1\"><span class=\"toc-item-num\">1.3.2.1&nbsp;&nbsp;</span><strong>Atenção</strong>: A clusterização é um processo iterativo e pode precisar de diversas iterações até chegar ao objetivo de negócio desejado. É recomendável que você chegue a um número de clusters entre 3 e 5. As seguintes iterações são altamente recomendadas para te ajudar a atingir esse objetivo:</a></span></li><li><span><a href=\"#Tarefa:-Construa-uma-curva-de-Elbow-a-partir-dos-resultados-do-K-means\" data-toc-modified-id=\"Tarefa:-Construa-uma-curva-de-Elbow-a-partir-dos-resultados-do-K-means-1.3.2.2\"><span class=\"toc-item-num\">1.3.2.2&nbsp;&nbsp;</span><strong>Tarefa</strong>: Construa uma curva de Elbow a partir dos resultados do K-means</a></span></li><li><span><a href=\"#Tarefa:-Faça-um-plot-da-curva-de-Elbow\" data-toc-modified-id=\"Tarefa:-Faça-um-plot-da-curva-de-Elbow-1.3.2.3\"><span class=\"toc-item-num\">1.3.2.3&nbsp;&nbsp;</span><strong>Tarefa</strong>: Faça um plot da curva de Elbow</a></span></li><li><span><a href=\"#Pergunta:-Qual-o-número-de-clusters-ideal-segundo-essa-curva?\" data-toc-modified-id=\"Pergunta:-Qual-o-número-de-clusters-ideal-segundo-essa-curva?-1.3.2.4\"><span class=\"toc-item-num\">1.3.2.4&nbsp;&nbsp;</span><strong>Pergunta</strong>: Qual o número de clusters ideal segundo essa curva?</a></span></li><li><span><a href=\"#Resposta:\" data-toc-modified-id=\"Resposta:-1.3.2.5\"><span class=\"toc-item-num\">1.3.2.5&nbsp;&nbsp;</span><strong>Resposta</strong>:</a></span></li></ul></li><li><span><a href=\"#PCA\" data-toc-modified-id=\"PCA-1.3.3\"><span class=\"toc-item-num\">1.3.3&nbsp;&nbsp;</span>PCA</a></span><ul class=\"toc-item\"><li><span><a href=\"#Tarefa:-Aplique-PCA-com-2-componentes-principais-às-features\" data-toc-modified-id=\"Tarefa:-Aplique-PCA-com-2-componentes-principais-às-features-1.3.3.1\"><span class=\"toc-item-num\">1.3.3.1&nbsp;&nbsp;</span><strong>Tarefa</strong>: Aplique PCA com 2 componentes principais às features</a></span></li><li><span><a href=\"#Tarefa:-Construa-um-gráfico-de-dispersão-das-componentes-principais\" data-toc-modified-id=\"Tarefa:-Construa-um-gráfico-de-dispersão-das-componentes-principais-1.3.3.2\"><span class=\"toc-item-num\">1.3.3.2&nbsp;&nbsp;</span><strong>Tarefa</strong>: Construa um gráfico de dispersão das componentes principais</a></span></li><li><span><a href=\"#Tarefa:-Construa-um-modelo-K-means-a-partir-do-número-de-clusters-ideal-previamente-encontrado\" data-toc-modified-id=\"Tarefa:-Construa-um-modelo-K-means-a-partir-do-número-de-clusters-ideal-previamente-encontrado-1.3.3.3\"><span class=\"toc-item-num\">1.3.3.3&nbsp;&nbsp;</span><strong>Tarefa</strong>: Construa um modelo K-means a partir do número de clusters ideal previamente encontrado</a></span></li><li><span><a href=\"#Tarefa:-Construa-novamente-um-gráfico-de-dispersão-das-componentes-principais,-colorindo-as-amostras-com-as-classes\" data-toc-modified-id=\"Tarefa:-Construa-novamente-um-gráfico-de-dispersão-das-componentes-principais,-colorindo-as-amostras-com-as-classes-1.3.3.4\"><span class=\"toc-item-num\">1.3.3.4&nbsp;&nbsp;</span><strong>Tarefa</strong>: Construa novamente um gráfico de dispersão das componentes principais, colorindo as amostras com as classes</a></span></li><li><span><a href=\"#Tarefa:-Una-os-IDs-e-predições-com-as-tabelas-iniciais-para-extrair-as-informações-por-cluster-usando-.merge()\" data-toc-modified-id=\"Tarefa:-Una-os-IDs-e-predições-com-as-tabelas-iniciais-para-extrair-as-informações-por-cluster-usando-.merge()-1.3.3.5\"><span class=\"toc-item-num\">1.3.3.5&nbsp;&nbsp;</span><strong>Tarefa</strong>: Una os IDs e predições com as tabelas iniciais para extrair as informações por cluster usando <strong>.merge()</strong></a></span></li><li><span><a href=\"#Tarefa:-Verifique-quantas-amostras-há-por-cluster-usando-.groupby()-e-.count()\" data-toc-modified-id=\"Tarefa:-Verifique-quantas-amostras-há-por-cluster-usando-.groupby()-e-.count()-1.3.3.6\"><span class=\"toc-item-num\">1.3.3.6&nbsp;&nbsp;</span><strong>Tarefa</strong>: Verifique quantas amostras há por cluster usando <strong>.groupby()</strong> e <strong>.count()</strong></a></span></li><li><span><a href=\"#Tarefa:-Plote-um-gráfico-de-barras-para-cada-variável-com-as-classes-no-eixo-x,-a-variável-categórica-de-interesse-como-&quot;hue&quot;-e-a-contagem-de-clientes-no-eixo-y\" data-toc-modified-id=\"Tarefa:-Plote-um-gráfico-de-barras-para-cada-variável-com-as-classes-no-eixo-x,-a-variável-categórica-de-interesse-como-&quot;hue&quot;-e-a-contagem-de-clientes-no-eixo-y-1.3.3.7\"><span class=\"toc-item-num\">1.3.3.7&nbsp;&nbsp;</span><strong>Tarefa</strong>: Plote um gráfico de barras para cada variável com as classes no eixo x, a variável categórica de interesse como \"hue\" e a contagem de clientes no eixo y</a></span></li><li><span><a href=\"#Tarefa:-Plot-um-histograma-de-idade-por-classe.-Faça-o-mesmo-para-Family-Size-e-Work-Experience\" data-toc-modified-id=\"Tarefa:-Plot-um-histograma-de-idade-por-classe.-Faça-o-mesmo-para-Family-Size-e-Work-Experience-1.3.3.8\"><span class=\"toc-item-num\">1.3.3.8&nbsp;&nbsp;</span><strong>Tarefa</strong>: Plot um histograma de idade por classe. Faça o mesmo para Family Size e Work Experience</a></span></li></ul></li></ul></li><li><span><a href=\"#Criação-de-avatares\" data-toc-modified-id=\"Criação-de-avatares-1.4\"><span class=\"toc-item-num\">1.4&nbsp;&nbsp;</span>Criação de avatares</a></span><ul class=\"toc-item\"><li><ul class=\"toc-item\"><li><span><a href=\"#Tarefa:-Sugira-o-carro-ideal-para-cada-avatar\" data-toc-modified-id=\"Tarefa:-Sugira-o-carro-ideal-para-cada-avatar-1.4.0.1\"><span class=\"toc-item-num\">1.4.0.1&nbsp;&nbsp;</span><strong>Tarefa</strong>: Sugira o carro ideal para cada avatar</a></span></li></ul></li></ul></li><li><span><a href=\"#Teste-do-modelo-nos-dados-não-vistos\" data-toc-modified-id=\"Teste-do-modelo-nos-dados-não-vistos-1.5\"><span class=\"toc-item-num\">1.5&nbsp;&nbsp;</span>Teste do modelo nos dados não-vistos</a></span><ul class=\"toc-item\"><li><ul class=\"toc-item\"><li><span><a href=\"#Tarefa:-Faça-a-predição-do-modelo-para-os-dados-de-teste-e-crie-o-mesmo-dataframe-de-visualizações-de-antes-para-o-teste\" data-toc-modified-id=\"Tarefa:-Faça-a-predição-do-modelo-para-os-dados-de-teste-e-crie-o-mesmo-dataframe-de-visualizações-de-antes-para-o-teste-1.5.0.1\"><span class=\"toc-item-num\">1.5.0.1&nbsp;&nbsp;</span><strong>Tarefa</strong>: Faça a predição do modelo para os dados de teste e crie o mesmo dataframe de visualizações de antes para o teste</a></span></li><li><span><a href=\"#Tarefa:-Plote-os-mesmos-gráficos-anteriores-para-o-teste-e-verifique-se-os-avatares-se-mantém\" data-toc-modified-id=\"Tarefa:-Plote-os-mesmos-gráficos-anteriores-para-o-teste-e-verifique-se-os-avatares-se-mantém-1.5.0.2\"><span class=\"toc-item-num\">1.5.0.2&nbsp;&nbsp;</span><strong>Tarefa</strong>: Plote os mesmos gráficos anteriores para o teste e verifique se os avatares se mantém</a></span></li></ul></li></ul></li></ul></li><li><span><a href=\"#Conclusão\" data-toc-modified-id=\"Conclusão-2\"><span class=\"toc-item-num\">2&nbsp;&nbsp;</span>Conclusão</a></span><ul class=\"toc-item\"><li><ul class=\"toc-item\"><li><span><a href=\"#Como-podemos-direcionar-as-estratégias-de-negócio-a-partir-dos-resultados-criados?\" data-toc-modified-id=\"Como-podemos-direcionar-as-estratégias-de-negócio-a-partir-dos-resultados-criados?-2.0.1\"><span class=\"toc-item-num\">2.0.1&nbsp;&nbsp;</span>Como podemos direcionar as estratégias de negócio a partir dos resultados criados?</a></span></li><li><span><a href=\"#De-fato-podemos-considerar-que-a-subpopulação-inicial-é-equivalente-para-o-novo-mercado?\" data-toc-modified-id=\"De-fato-podemos-considerar-que-a-subpopulação-inicial-é-equivalente-para-o-novo-mercado?-2.0.2\"><span class=\"toc-item-num\">2.0.2&nbsp;&nbsp;</span>De fato podemos considerar que a subpopulação inicial é equivalente para o novo mercado?</a></span></li></ul></li></ul></li></ul></div>"
   ]
  },
  {
   "cell_type": "markdown",
   "metadata": {},
   "source": [
    "## EDA e pré-processamento"
   ]
  },
  {
   "cell_type": "markdown",
   "metadata": {},
   "source": [
    "Primeiro, vamos ler o dataset. O dataset original possui uma segmentação inerente que não vamos utilizar, pois nosso objetivo é criar nossa própria segmentação."
   ]
  },
  {
   "cell_type": "code",
   "execution_count": null,
   "metadata": {
    "execution": {
     "iopub.execute_input": "2023-07-07T14:51:38.733855Z",
     "iopub.status.busy": "2023-07-07T14:51:38.733154Z",
     "iopub.status.idle": "2023-07-07T14:51:38.809709Z",
     "shell.execute_reply": "2023-07-07T14:51:38.808440Z",
     "shell.execute_reply.started": "2023-07-07T14:51:38.733812Z"
    }
   },
   "outputs": [],
   "source": [
    "import pandas as pd\n",
    "\n",
    "# Removemos a coluna de segmentação, pois não vamos utilizar\n",
    "df_train = pd.read_csv(\"/kaggle/input/customer/Train.csv\").drop(columns = [\"Segmentation\"])\n",
    "df_test = pd.read_csv(\"/kaggle/input/customer/Test.csv\")\n",
    "\n",
    "# Primeiras linhas do dataset de treino\n",
    "df_train.head(3)"
   ]
  },
  {
   "cell_type": "markdown",
   "metadata": {},
   "source": [
    "### EDA de variáveis numéricas"
   ]
  },
  {
   "cell_type": "markdown",
   "metadata": {},
   "source": [
    "#### **Tarefa**: Selecione as variáveis numéricas  *.select_dtypes()*\n",
    "[Pandas select_dtypes](https://pandas.pydata.org/docs/reference/api/pandas.DataFrame.select_dtypes.html)"
   ]
  },
  {
   "cell_type": "code",
   "execution_count": null,
   "metadata": {
    "execution": {
     "iopub.execute_input": "2023-07-07T14:51:38.815795Z",
     "iopub.status.busy": "2023-07-07T14:51:38.815437Z",
     "iopub.status.idle": "2023-07-07T14:51:38.822754Z",
     "shell.execute_reply": "2023-07-07T14:51:38.821438Z",
     "shell.execute_reply.started": "2023-07-07T14:51:38.815764Z"
    }
   },
   "outputs": [],
   "source": []
  },
  {
   "cell_type": "markdown",
   "metadata": {},
   "source": [
    "#### **Tarefa**: Visualize os gráficos de dispersão e histograma dessas variáveis conjuntamente com\n",
    "[Seaborn pairplot](https://seaborn.pydata.org/generated/seaborn.pairplot.html)\n"
   ]
  },
  {
   "cell_type": "code",
   "execution_count": null,
   "metadata": {
    "execution": {
     "iopub.execute_input": "2023-07-07T14:51:38.824941Z",
     "iopub.status.busy": "2023-07-07T14:51:38.824266Z",
     "iopub.status.idle": "2023-07-07T14:51:43.226415Z",
     "shell.execute_reply": "2023-07-07T14:51:43.225228Z",
     "shell.execute_reply.started": "2023-07-07T14:51:38.824886Z"
    }
   },
   "outputs": [],
   "source": []
  },
  {
   "cell_type": "markdown",
   "metadata": {},
   "source": [
    "### EDA de variáveis categóricas"
   ]
  },
  {
   "cell_type": "markdown",
   "metadata": {},
   "source": [
    "#### **Tarefa**: Selecione as variáveis categóricas com  *.select_dtypes()*\n",
    "[Pandas select_dtypes](https://pandas.pydata.org/docs/reference/api/pandas.DataFrame.select_dtypes.html)"
   ]
  },
  {
   "cell_type": "code",
   "execution_count": null,
   "metadata": {
    "execution": {
     "iopub.execute_input": "2023-07-07T14:51:43.230199Z",
     "iopub.status.busy": "2023-07-07T14:51:43.229514Z",
     "iopub.status.idle": "2023-07-07T14:51:43.247593Z",
     "shell.execute_reply": "2023-07-07T14:51:43.246296Z",
     "shell.execute_reply.started": "2023-07-07T14:51:43.230162Z"
    }
   },
   "outputs": [],
   "source": []
  },
  {
   "cell_type": "markdown",
   "metadata": {},
   "source": [
    "#### **Tarefa**: Utilize  *.map()* para mapear as categorias de \"Spending Score\" para números inteiros de 0 a 2\n",
    "[Pandas map](https://pandas.pydata.org/docs/reference/api/pandas.Series.map.html)"
   ]
  },
  {
   "cell_type": "code",
   "execution_count": null,
   "metadata": {
    "execution": {
     "iopub.execute_input": "2023-07-07T14:51:43.249797Z",
     "iopub.status.busy": "2023-07-07T14:51:43.249398Z",
     "iopub.status.idle": "2023-07-07T14:51:43.265249Z",
     "shell.execute_reply": "2023-07-07T14:51:43.264122Z",
     "shell.execute_reply.started": "2023-07-07T14:51:43.249765Z"
    }
   },
   "outputs": [],
   "source": []
  },
  {
   "cell_type": "markdown",
   "metadata": {},
   "source": [
    "#### **Tarefa**: Visualize como o \"Spending Score\" se comporta para cada \"Profession\" utilizando *.groupby()* e *.describe()*"
   ]
  },
  {
   "cell_type": "code",
   "execution_count": null,
   "metadata": {
    "execution": {
     "iopub.execute_input": "2023-07-07T14:51:43.267825Z",
     "iopub.status.busy": "2023-07-07T14:51:43.267107Z",
     "iopub.status.idle": "2023-07-07T14:51:43.321557Z",
     "shell.execute_reply": "2023-07-07T14:51:43.320381Z",
     "shell.execute_reply.started": "2023-07-07T14:51:43.267778Z"
    }
   },
   "outputs": [],
   "source": []
  },
  {
   "cell_type": "markdown",
   "metadata": {},
   "source": [
    "#### **Tarefa**: Crie um plot com barras com o count() por categoria para cada variável categórica que você selecionou lá em cima e coloque-as todas na mesma figura através de subplots e utilizando um loop **for**\n",
    "\n",
    "Existem muitas maneiras de chegar a esse plot. Em uma delas, você pode utilizar as seguintes funções:\n",
    "\n",
    "[Pandas Values count](https://pandas.pydata.org/docs/reference/api/pandas.DataFrame.value_counts.html)\n",
    "\n",
    "[Exemplo: Iterating Through Each Figure](https://napsterinblue.github.io/notes/python/viz/subplots/)"
   ]
  },
  {
   "cell_type": "code",
   "execution_count": null,
   "metadata": {
    "execution": {
     "iopub.execute_input": "2023-07-07T14:51:43.323728Z",
     "iopub.status.busy": "2023-07-07T14:51:43.323195Z",
     "iopub.status.idle": "2023-07-07T14:51:44.675463Z",
     "shell.execute_reply": "2023-07-07T14:51:44.674067Z",
     "shell.execute_reply.started": "2023-07-07T14:51:43.323681Z"
    }
   },
   "outputs": [],
   "source": []
  },
  {
   "cell_type": "markdown",
   "metadata": {},
   "source": [
    "### Transformação de variáveis categóricas para numéricas\n",
    "\n",
    "Vamos implementar 3 formas de fazer encoding:\n",
    "- **Manual**: Para as variáveis binárias, utilize **.map()** ou **.replace** para transformá-las em 0 ou 1\n",
    "- **Pandas one-hot-encoding**: Utilize [pd.get_dummies](https://pandas.pydata.org/docs/reference/api/pandas.get_dummies.html) para transformar variáveis de múltiplas categorias em colunas\n",
    "- **Label encoding**: Criar um dicionário relacionando as categorias da variável de interesse a números ordinais (similar ao **manual** mas para múltiplas classes) e substituir na variável original. Aplique à variável anonimizada **Var_1** e quaisquer outras que ache devido."
   ]
  },
  {
   "cell_type": "code",
   "execution_count": null,
   "metadata": {
    "execution": {
     "iopub.execute_input": "2023-07-07T14:51:44.711498Z",
     "iopub.status.busy": "2023-07-07T14:51:44.710548Z",
     "iopub.status.idle": "2023-07-07T14:51:44.748316Z",
     "shell.execute_reply": "2023-07-07T14:51:44.747341Z",
     "shell.execute_reply.started": "2023-07-07T14:51:44.711449Z"
    }
   },
   "outputs": [],
   "source": []
  },
  {
   "cell_type": "markdown",
   "metadata": {},
   "source": [
    "#### **Pergunta**: Em que situação devemos utilizar one-hot encoding e em que situações podemos usar o label encoding?"
   ]
  },
  {
   "cell_type": "markdown",
   "metadata": {},
   "source": [
    "#### **Resposta**:\n"
   ]
  },
  {
   "cell_type": "markdown",
   "metadata": {},
   "source": [
    "### Limpeza de dados"
   ]
  },
  {
   "cell_type": "markdown",
   "metadata": {},
   "source": [
    "#### **Tarefa**: Verifique se há duplicatas nos dados com **.drop_duplicates()**"
   ]
  },
  {
   "cell_type": "code",
   "execution_count": null,
   "metadata": {
    "execution": {
     "iopub.execute_input": "2023-07-07T14:51:45.284818Z",
     "iopub.status.busy": "2023-07-07T14:51:45.284083Z",
     "iopub.status.idle": "2023-07-07T14:51:45.300430Z",
     "shell.execute_reply": "2023-07-07T14:51:45.298713Z",
     "shell.execute_reply.started": "2023-07-07T14:51:45.284773Z"
    }
   },
   "outputs": [],
   "source": []
  },
  {
   "cell_type": "markdown",
   "metadata": {},
   "source": [
    "#### **Tarefa**: Conte quantos NaNs há por coluna"
   ]
  },
  {
   "cell_type": "code",
   "execution_count": null,
   "metadata": {
    "execution": {
     "iopub.execute_input": "2023-07-07T14:51:45.302930Z",
     "iopub.status.busy": "2023-07-07T14:51:45.302209Z",
     "iopub.status.idle": "2023-07-07T14:51:45.315499Z",
     "shell.execute_reply": "2023-07-07T14:51:45.313911Z",
     "shell.execute_reply.started": "2023-07-07T14:51:45.302884Z"
    }
   },
   "outputs": [],
   "source": []
  },
  {
   "cell_type": "markdown",
   "metadata": {},
   "source": [
    "#### **Tarefa**: Remova as linhas que possuem mais de 3 colunas com NaNs\n",
    "\n",
    "**Dica**: você pode somar na dimensão das linhas utilizando **.sum(axis=1)**"
   ]
  },
  {
   "cell_type": "code",
   "execution_count": null,
   "metadata": {
    "execution": {
     "iopub.execute_input": "2023-07-07T14:51:45.321546Z",
     "iopub.status.busy": "2023-07-07T14:51:45.320684Z",
     "iopub.status.idle": "2023-07-07T14:51:45.335515Z",
     "shell.execute_reply": "2023-07-07T14:51:45.334154Z",
     "shell.execute_reply.started": "2023-07-07T14:51:45.321505Z"
    }
   },
   "outputs": [],
   "source": []
  },
  {
   "cell_type": "markdown",
   "metadata": {},
   "source": [
    "### Imputando valores faltantes\n",
    "\n",
    "A imputação é uma técnica utilizada para tratar valores ausentes em conjuntos de dados. Quando temos dados incompletos, seja por falhas na coleta ou por outros motivos, a imputação pode ser aplicada para preencher esses valores faltantes de forma a manter a integridade e a qualidade dos dados. Existem várias abordagens para a imputação, mas aqui você vai aplicar e testar as seguintes:\n",
    "- a substituição por estatísticas descritivas, como a média ou a mediana dos valores existentes\n",
    "- o uso de modelos estatísticos mais avançados para estimar os valores ausentes com base em outras variáveis, como KNN.\n",
    "\n"
   ]
  },
  {
   "cell_type": "markdown",
   "metadata": {},
   "source": [
    "#### **Tarefa**: Crie uma função de imputação utilizando ou a média **.mean()** ou a mediana **.median()**"
   ]
  },
  {
   "cell_type": "code",
   "execution_count": null,
   "metadata": {
    "execution": {
     "iopub.execute_input": "2023-07-07T14:51:45.337478Z",
     "iopub.status.busy": "2023-07-07T14:51:45.336988Z",
     "iopub.status.idle": "2023-07-07T14:51:45.344915Z",
     "shell.execute_reply": "2023-07-07T14:51:45.343431Z",
     "shell.execute_reply.started": "2023-07-07T14:51:45.337432Z"
    }
   },
   "outputs": [],
   "source": []
  },
  {
   "cell_type": "markdown",
   "metadata": {},
   "source": [
    "#### **Tarefa**: Crie uma função de imputação utilizando KNN\n",
    "\n",
    "**Revisão de KNN**\n",
    "\n",
    "O algoritmo de KNN (K-Nearest Neighbors) pode ser utilizado para imputação de valores faltantes em conjuntos de dados. Nesse contexto, o KNN é usado como uma abordagem de imputação baseada em vizinhos próximos.\n",
    "\n",
    "\n",
    "![KNN](https://pub.mdpi-res.com/energies/energies-12-00916/article_deploy/html/images/energies-12-00916-g001-550.jpg?1571205932)\n",
    "\n",
    "\n",
    "A ideia básica é identificar os K vizinhos mais próximos de uma amostra $k$ com valor ausente e utilizar os valores desses vizinhos para preencher o valor faltante. A distância entre as amostras é calculada usando alguma métrica de similaridade, como a **distância euclidiana**:\n",
    "$$ d = \\sqrt{{(x_2 - x_1)^2 + (y_2 - y_1)^2}}, $$\n",
    "\n",
    "onde $x_k$ e $y_k$ são as componentes ou variáveis da amostra $k$.\n",
    "\n",
    "O processo de imputação usando o KNN envolve os seguintes passos:\n",
    "1. Identificar as amostras que possuem valores ausentes.\n",
    "2. Para cada amostra com valor ausente, calcular a distância em relação a todas as outras amostras.\n",
    "3. Selecionar os K vizinhos mais próximos da amostra com valor ausente.\n",
    "4. Utilizar os valores desses vizinhos para imputar o valor faltante na amostra.\n",
    "\n",
    "A escolha do valor a ser imputado pode variar de acordo com o problema em questão. Pode-se utilizar a média, a mediana ou até mesmo o valor mais frequente entre os vizinhos mais próximos.\n",
    "\n",
    "Uma consideração importante na imputação usando o KNN é a escolha adequada do valor de K. Um valor muito baixo pode levar a uma imputação mais sensível a outliers, enquanto um valor muito alto pode resultar em uma imputação menos precisa.\n",
    "\n",
    "É importante ressaltar que a imputação usando o KNN tem suas limitações. Em conjuntos de dados com muitos valores ausentes, a imputação pode ser menos precisa devido à falta de informações suficientes para encontrar vizinhos próximos. Além disso, é essencial avaliar a qualidade da imputação e considerar o impacto dela nos resultados finais.\n",
    "\n",
    "Em conjunto de dados muito grandes, essa abordagem poder ser muito lenta e tornar-se inviável.\n",
    "\n",
    "[Sklearn KNN imputer](https://scikit-learn.org/stable/modules/generated/sklearn.impute.KNNImputer.html)"
   ]
  },
  {
   "cell_type": "code",
   "execution_count": null,
   "metadata": {
    "execution": {
     "iopub.execute_input": "2023-07-07T14:53:10.006411Z",
     "iopub.status.busy": "2023-07-07T14:53:10.005975Z",
     "iopub.status.idle": "2023-07-07T14:53:10.918519Z",
     "shell.execute_reply": "2023-07-07T14:53:10.916406Z",
     "shell.execute_reply.started": "2023-07-07T14:53:10.006378Z"
    }
   },
   "outputs": [],
   "source": []
  },
  {
   "cell_type": "markdown",
   "metadata": {},
   "source": [
    "### Normalização ou _scaling_ das features\n",
    "\n",
    "\n",
    "\n",
    "Scaling é um processo utilizado na análise de dados para normalizar as variáveis, ou seja, colocá-las em uma escala comum para que possam ser comparadas de forma adequada. Isso é necessário porque as variáveis muitas vezes possuem escalas diferentes e podem ter uma influência desproporcional na clusterização. Aqui vamos explorar duas técnicas de scaling:\n",
    "\n",
    "#### **Min-max**\n",
    "O Min-Max Scaler uma técnica de scaling que transforma os dados para que eles fiquem dentro de um intervalo específico, geralmente entre 0 e 1, usando a seguinte fórmula:\n",
    "$$ x_{\\text{scaled}} = \\frac{x - \\text{min}(x)}{\\text{max}(x) - \\text{min}(x)} \\times (\\text{max}_{\\text{new}} - \\text{min}_{\\text{new}}) + \\text{min}_{\\text{new}},\n",
    "$$\n",
    "onde:\n",
    "- $x$: Valor original da característica.\n",
    "- $x_{\\text{scaled}}$: Valor escalonado da característica após a aplicação do Min-Max Scaling.\n",
    "- $min_{\\text{new}}$: Valor mínimo desejado para a nova escala.\n",
    "- $max_{\\text{new}}$: Valor máximo desejado para a nova escala.\n",
    "\n",
    "O Min-Max Scaler é útil quando queremos manter a informação relativa da escala original dos dados e garantir que eles estejam em um intervalo específico.\n",
    "\n",
    "#### **Z-score**\n",
    "O Z-score é uma técnica de scaling que transforma os dados de forma que a média seja igual a zero e o desvio padrão seja igual a um. O Z-score é útil quando queremos comparar os valores em termos de desvios padrão da média.\n",
    "\n",
    "A fórmula para calcular o Z-score é dada por:\n",
    "\n",
    "$$Z = \\frac{(X - \\mu)}{\\sigma},$$\n",
    "onde:\n",
    "-  $Z$ é o Z-score do valor  $X$ ;\n",
    "-  $X$ é o valor específico que estamos analisando;\n",
    "-  $\\mu$ é a média dos dados;\n",
    "-  $\\sigma$ é o desvio padrão dos dados.\n",
    "\n",
    "Um Z-score positivo indica que o valor está acima da média, enquanto um Z-score negativo indica que o valor está abaixo da média. Um Z-score próximo de zero significa que o valor está próximo da média.\n",
    "\n",
    "\n",
    "\n",
    "A escolha entre o Z-score e o Min-Max Scaler depende do contexto e das características dos dados. O Z-score é mais adequado quando queremos remover a influência da média e do desvio padrão, e quando estamos interessados em analisar a posição relativa dos valores. Por outro lado, o Min-Max Scaler é mais adequado quando queremos manter a informação relativa da escala original dos dados e quando estamos interessados em preservar as diferenças proporcionais entre os valores."
   ]
  },
  {
   "cell_type": "markdown",
   "metadata": {},
   "source": [
    "#### **Tarefa**: Aplique o [MinMaxScaler](https://scikit-learn.org/stable/modules/generated/sklearn.preprocessing.MinMaxScaler.html) e o [StandardScaler](https://scikit-learn.org/stable/modules/generated/sklearn.preprocessing.StandardScaler.html) aos dados (um de cada vez) "
   ]
  },
  {
   "cell_type": "code",
   "execution_count": null,
   "metadata": {
    "execution": {
     "iopub.execute_input": "2023-07-07T14:53:15.574674Z",
     "iopub.status.busy": "2023-07-07T14:53:15.574168Z",
     "iopub.status.idle": "2023-07-07T14:53:15.596766Z",
     "shell.execute_reply": "2023-07-07T14:53:15.595241Z",
     "shell.execute_reply.started": "2023-07-07T14:53:15.574640Z"
    }
   },
   "outputs": [],
   "source": []
  },
  {
   "cell_type": "markdown",
   "metadata": {},
   "source": [
    "##### **Pergunta**: O que acontece quando aplicamos MinMax às colunas binárias? E o z-score?"
   ]
  },
  {
   "cell_type": "markdown",
   "metadata": {},
   "source": [
    "##### Resposta: \n"
   ]
  },
  {
   "cell_type": "markdown",
   "metadata": {},
   "source": [
    "## Clusterização\n",
    "\n",
    "A clusterização é uma técnica de aprendizado de máquina não supervisionado que visa agrupar dados semelhantes em conjuntos distintos chamados de clusters. O objetivo da clusterização é descobrir padrões intrínsecos nos dados, identificando grupos naturalmente existentes sem a necessidade de rótulos ou informações prévias. O método de clusterização que iremos aplicar é o K-means.\n",
    "\n",
    "### K-means\n",
    "\n",
    "O algoritmo K-means é um método popular de clusterização que agrupa dados em K clusters. Ele demanda do usuário apenas uma informação prévia, que é o número K de clusters a serem obtidos. Uma vez esse número determinado, o algoritmo consiste em:\n",
    "\n",
    "- Inicializar os centroides dos clusters. Os centroides são pontos no espaço de características que representam o centro dos clusters. Eles podem ser inicializados de diferentes maneiras, como aleatoriamente ou com base em algum critério específico.\n",
    "\n",
    "- Atribuir cada ponto de dados ao centroide mais próximo. Isso é feito calculando a distância entre cada ponto e os centroides e atribuindo o ponto ao centroide com a menor distância. A distância mais comumente usada é a **distância euclidiana**, vista acima.\n",
    "\n",
    "- Recalcular os centroides dos clusters. Após cada ponto ser atribuído a um cluster, os centroides são recalculados, atualizando suas posições. Isso é feito calculando a média das coordenadas dos pontos atribuídos a cada centroide.\n",
    "\n",
    "- Repitir iterativamente os passos 3 e 4 até que ocorra convergência, ou seja, até que não haja mais alteração nas atribuições dos pontos aos clusters ou nas posições dos centroides. O critério de parada pode ser definido com base em um número máximo de iterações ou quando uma mudança mínima nas atribuições ou posições é alcançada.\n",
    "\n",
    "<img src=\"https://miro.medium.com/v2/resize:fit:1400/1*b2sO2f--yfZiJazc5rYSpg.gif\" width=\"400\" height=\"400\">\n",
    "\n",
    "Os clusters resultantes são representados pelos centroides finais. Cada ponto de dados é atribuído a um cluster com base na proximidade do centroide.\n",
    "\n",
    "### Curva de Elbow\n",
    "\n",
    "A curva de elbow, ou curva do cotovelo, é uma técnica utilizada para determinar o número ideal de clusters (K) em um algoritmo de clusterização, como o K-means. A ideia por trás dessa técnica é observar a relação entre o número de clusters e a variância explicada pelos clusters.\n",
    "\n",
    "O procedimento para usar a curva de elbow no K-means é o seguinte:\n",
    "\n",
    "1. Execute o algoritmo K-means para diferentes valores de K, começando a partir de um valor mínimo até um valor máximo que você deseja explorar.\n",
    "2. Para cada valor de K, calcule a métrica de avaliação interna, geralmente a soma dos erros quadráticos dentro do cluster (SSE) ou a variância explicada.\n",
    "3. Plote os valores de K no eixo x e as métricas de avaliação interna no eixo y.\n",
    "4. Analise o gráfico resultante e observe o ponto onde a adição de mais clusters não resulta em uma melhora significativa na métrica de avaliação. Esse ponto é conhecido como \"cotovelo\".\n",
    "5. Escolha o valor de K correspondente ao cotovelo como o número ideal de clusters.\n",
    "\n",
    "A curva de elbow é chamada assim devido à sua forma que se assemelha a um cotovelo. O objetivo é encontrar o ponto em que o ganho adicional na variação explicada diminui significativamente, indicando que adicionar mais clusters não traz benefícios substanciais.\n",
    "\n",
    "No entanto, é importante observar que a interpretação da curva de elbow é subjetiva e depende do contexto e dos dados específicos. Portanto, é recomendado realizar análises adicionais e considerar outras métricas de avaliação, bem como o conhecimento do domínio, para tomar a decisão final sobre o número ideal de clusters."
   ]
  },
  {
   "cell_type": "markdown",
   "metadata": {},
   "source": [
    "#### **Atenção**: A clusterização é um processo iterativo e pode precisar de diversas iterações até chegar ao objetivo de negócio desejado. É recomendável que você chegue a um número de clusters entre 3 e 5. As seguintes iterações são altamente recomendadas para te ajudar a atingir esse objetivo:\n",
    "- Rodar com todas as variáveis\n",
    "- Remover algumas variáveis, como as relacionadas a Gender e Profession\n",
    "- Rodar com diferentes técnicas de Scaling\n",
    "- Rodar com diferentes técnicas de imputation"
   ]
  },
  {
   "cell_type": "markdown",
   "metadata": {},
   "source": [
    "#### **Tarefa**: Construa uma curva de Elbow a partir dos resultados do K-means\n",
    "[Exemplo de implementação](https://predictivehacks.com/k-means-elbow-method-code-for-python/)"
   ]
  },
  {
   "cell_type": "code",
   "execution_count": null,
   "metadata": {
    "execution": {
     "iopub.execute_input": "2023-07-07T14:53:19.114895Z",
     "iopub.status.busy": "2023-07-07T14:53:19.114509Z",
     "iopub.status.idle": "2023-07-07T14:53:29.743251Z",
     "shell.execute_reply": "2023-07-07T14:53:29.741854Z",
     "shell.execute_reply.started": "2023-07-07T14:53:19.114865Z"
    }
   },
   "outputs": [],
   "source": []
  },
  {
   "cell_type": "markdown",
   "metadata": {},
   "source": [
    "#### **Tarefa**: Faça um plot da curva de Elbow"
   ]
  },
  {
   "cell_type": "code",
   "execution_count": null,
   "metadata": {
    "execution": {
     "iopub.execute_input": "2023-07-07T14:53:29.749664Z",
     "iopub.status.busy": "2023-07-07T14:53:29.749229Z",
     "iopub.status.idle": "2023-07-07T14:53:30.097703Z",
     "shell.execute_reply": "2023-07-07T14:53:30.096398Z",
     "shell.execute_reply.started": "2023-07-07T14:53:29.749632Z"
    }
   },
   "outputs": [],
   "source": []
  },
  {
   "cell_type": "markdown",
   "metadata": {},
   "source": [
    "#### **Pergunta**: Qual o número de clusters ideal segundo essa curva?"
   ]
  },
  {
   "cell_type": "markdown",
   "metadata": {
    "execution": {
     "iopub.execute_input": "2023-07-07T11:59:42.897728Z",
     "iopub.status.busy": "2023-07-07T11:59:42.897280Z",
     "iopub.status.idle": "2023-07-07T11:59:44.718912Z",
     "shell.execute_reply": "2023-07-07T11:59:44.717735Z",
     "shell.execute_reply.started": "2023-07-07T11:59:42.897695Z"
    }
   },
   "source": [
    "#### **Resposta**:\n"
   ]
  },
  {
   "cell_type": "markdown",
   "metadata": {},
   "source": [
    "### PCA\n",
    "\n",
    "Um método muito comumente utilizado para a redução de dimensionalidade das features antes da aplicacão da clusterização é a Análise de Componentes Principais (PCA - Principal Component Analysis). PCA é uma técnica de redução de dimensionalidade que busca capturar a maior parte da variabilidade dos dados em um número menor de dimensões, chamadas de componentes principais. \n",
    "\n",
    "O PCA é aplicado a conjuntos de dados multidimensionais, nos quais cada amostra é descrita por várias variáveis (ou features). O objetivo é transformar essas variáveis originais em um novo conjunto de variáveis, chamadas de componentes principais, que são combinações lineares das variáveis originais. Os componentes principais são ordenados de forma que o primeiro componente principal capture a maior variação dos dados, o segundo componente principal capture a segunda maior variação e assim por diante.\n",
    "\n",
    "O processo do PCA pode ser resumido nos seguintes passos:\n",
    "\n",
    "1. Padronização dos dados: É importante padronizar as variáveis originais para que elas tenham a mesma escala. Isso é feito subtraindo a média e dividindo pelo desvio padrão de cada variável.\n",
    "\n",
    "2. Cálculo das matriz de covariância: A matriz de covariância é calculada a partir dos dados padronizados. Ela mede as relações lineares entre as variáveis originais.\n",
    "$$ C = \\frac{1}{n-1} \\sum_{i=1}^{n} (z_i - \\bar{z})(z_i - \\bar{z})^T, $$\n",
    "onde $n$ é o número de amostras, $z_i$ é o vetor de variáveis padronizadas para a amostra $i$ e $\\bar{z}$ é o vetor médio das variáveis padronizadas.\n",
    "\n",
    "3. Decomposição da matriz de covariância: A matriz de covariância é decomposta em autovetores e autovalores. Os autovetores representam as direções principais do espaço dos dados, e os autovalores representam a variância capturada por cada componente principal.\n",
    "$$CV=\\lambda V,$$\n",
    "onde $V$ é uma matriz cujas colunas são os autovetores e $\\lambda$ é um vetor contendo os autovalores correspondentes.\n",
    "\n",
    "4. Seleção dos componentes principais: Os componentes principais são selecionados com base nos autovalores, ordenando-os do maior para o menor. Geralmente, escolhe-se um número de componentes principais que capture uma porcentagem significativa da variância total dos dados.\n",
    "\n",
    "5. Projeção dos dados: Os dados originais são projetados nos componentes principais selecionados. Isso resulta em um novo conjunto de dados com menos dimensões, onde cada amostra é representada por seus valores nos componentes principais.\n",
    "\n",
    "O PCA é amplamente utilizado em diversas áreas, como análise de dados, reconhecimento de padrões, visualização de dados e compressão de imagens. Ele permite reduzir a dimensionalidade dos dados, eliminar a multicolinearidade entre as variáveis e identificar padrões ocultos nos dados. Além disso, o PCA também pode ser utilizado para visualizar os dados em um espaço de menor dimensão, facilitando a interpretação e análise dos mesmos."
   ]
  },
  {
   "cell_type": "markdown",
   "metadata": {},
   "source": [
    "#### **Tarefa**: Aplique PCA com 2 componentes principais às features \n",
    "[Sklearn PCA](https://scikit-learn.org/stable/modules/generated/sklearn.decomposition.PCA.html)"
   ]
  },
  {
   "cell_type": "code",
   "execution_count": null,
   "metadata": {
    "execution": {
     "iopub.execute_input": "2023-07-07T14:53:30.099651Z",
     "iopub.status.busy": "2023-07-07T14:53:30.099152Z",
     "iopub.status.idle": "2023-07-07T14:53:30.155322Z",
     "shell.execute_reply": "2023-07-07T14:53:30.153507Z",
     "shell.execute_reply.started": "2023-07-07T14:53:30.099606Z"
    }
   },
   "outputs": [],
   "source": []
  },
  {
   "cell_type": "markdown",
   "metadata": {},
   "source": [
    "#### **Tarefa**: Construa um gráfico de dispersão das componentes principais"
   ]
  },
  {
   "cell_type": "code",
   "execution_count": null,
   "metadata": {
    "execution": {
     "iopub.execute_input": "2023-07-07T14:53:30.159667Z",
     "iopub.status.busy": "2023-07-07T14:53:30.159148Z",
     "iopub.status.idle": "2023-07-07T14:53:30.564237Z",
     "shell.execute_reply": "2023-07-07T14:53:30.562591Z",
     "shell.execute_reply.started": "2023-07-07T14:53:30.159620Z"
    }
   },
   "outputs": [],
   "source": []
  },
  {
   "cell_type": "markdown",
   "metadata": {},
   "source": [
    "#### **Tarefa**: Construa um modelo K-means a partir do número de clusters ideal previamente encontrado\n",
    "\n",
    "Lembre-se que o ideal é que você consiga chegar a um valor entre 3 e 6."
   ]
  },
  {
   "cell_type": "code",
   "execution_count": null,
   "metadata": {
    "execution": {
     "iopub.execute_input": "2023-07-07T14:53:30.567128Z",
     "iopub.status.busy": "2023-07-07T14:53:30.566167Z",
     "iopub.status.idle": "2023-07-07T14:53:31.456076Z",
     "shell.execute_reply": "2023-07-07T14:53:31.454510Z",
     "shell.execute_reply.started": "2023-07-07T14:53:30.567079Z"
    }
   },
   "outputs": [],
   "source": []
  },
  {
   "cell_type": "markdown",
   "metadata": {},
   "source": [
    "#### **Tarefa**: Construa novamente um gráfico de dispersão das componentes principais, colorindo as amostras com as classes"
   ]
  },
  {
   "cell_type": "code",
   "execution_count": null,
   "metadata": {
    "execution": {
     "iopub.execute_input": "2023-07-07T14:53:31.458851Z",
     "iopub.status.busy": "2023-07-07T14:53:31.458205Z",
     "iopub.status.idle": "2023-07-07T14:53:32.618940Z",
     "shell.execute_reply": "2023-07-07T14:53:32.617246Z",
     "shell.execute_reply.started": "2023-07-07T14:53:31.458784Z"
    }
   },
   "outputs": [],
   "source": []
  },
  {
   "cell_type": "markdown",
   "metadata": {},
   "source": [
    "#### **Tarefa**: Una os IDs e predições com as tabelas iniciais para extrair as informações por cluster usando **.merge()**"
   ]
  },
  {
   "cell_type": "code",
   "execution_count": null,
   "metadata": {
    "execution": {
     "iopub.execute_input": "2023-07-07T14:53:32.620632Z",
     "iopub.status.busy": "2023-07-07T14:53:32.620278Z",
     "iopub.status.idle": "2023-07-07T14:53:32.638849Z",
     "shell.execute_reply": "2023-07-07T14:53:32.637583Z",
     "shell.execute_reply.started": "2023-07-07T14:53:32.620603Z"
    }
   },
   "outputs": [],
   "source": []
  },
  {
   "cell_type": "markdown",
   "metadata": {},
   "source": [
    "#### **Tarefa**: Verifique quantas amostras há por cluster usando **.groupby()** e **.count()**"
   ]
  },
  {
   "cell_type": "code",
   "execution_count": null,
   "metadata": {
    "execution": {
     "iopub.execute_input": "2023-07-07T14:53:32.643500Z",
     "iopub.status.busy": "2023-07-07T14:53:32.642818Z",
     "iopub.status.idle": "2023-07-07T14:53:32.652056Z",
     "shell.execute_reply": "2023-07-07T14:53:32.650849Z",
     "shell.execute_reply.started": "2023-07-07T14:53:32.643462Z"
    }
   },
   "outputs": [],
   "source": []
  },
  {
   "cell_type": "markdown",
   "metadata": {},
   "source": [
    "#### **Tarefa**: Plote um gráfico de barras para cada variável com as classes no eixo x, a variável categórica de interesse como \"hue\" e a contagem de clientes no eixo y"
   ]
  },
  {
   "cell_type": "code",
   "execution_count": null,
   "metadata": {
    "execution": {
     "iopub.execute_input": "2023-07-07T14:53:32.653766Z",
     "iopub.status.busy": "2023-07-07T14:53:32.653396Z",
     "iopub.status.idle": "2023-07-07T14:53:35.465822Z",
     "shell.execute_reply": "2023-07-07T14:53:35.464394Z",
     "shell.execute_reply.started": "2023-07-07T14:53:32.653735Z"
    }
   },
   "outputs": [],
   "source": []
  },
  {
   "cell_type": "markdown",
   "metadata": {},
   "source": [
    "#### **Tarefa**: Plot um histograma de idade por classe. Faça o mesmo para Family Size e Work Experience"
   ]
  },
  {
   "cell_type": "markdown",
   "metadata": {},
   "source": [
    "Idade"
   ]
  },
  {
   "cell_type": "code",
   "execution_count": null,
   "metadata": {
    "execution": {
     "iopub.execute_input": "2023-07-07T14:53:35.470420Z",
     "iopub.status.busy": "2023-07-07T14:53:35.469918Z",
     "iopub.status.idle": "2023-07-07T14:53:36.792513Z",
     "shell.execute_reply": "2023-07-07T14:53:36.791228Z",
     "shell.execute_reply.started": "2023-07-07T14:53:35.470375Z"
    }
   },
   "outputs": [],
   "source": []
  },
  {
   "cell_type": "markdown",
   "metadata": {},
   "source": [
    "Tamanho da família"
   ]
  },
  {
   "cell_type": "code",
   "execution_count": null,
   "metadata": {
    "execution": {
     "iopub.execute_input": "2023-07-07T14:53:36.794429Z",
     "iopub.status.busy": "2023-07-07T14:53:36.794029Z",
     "iopub.status.idle": "2023-07-07T14:53:37.783175Z",
     "shell.execute_reply": "2023-07-07T14:53:37.781837Z",
     "shell.execute_reply.started": "2023-07-07T14:53:36.794396Z"
    }
   },
   "outputs": [],
   "source": []
  },
  {
   "cell_type": "markdown",
   "metadata": {},
   "source": [
    "Experiência de trabalho"
   ]
  },
  {
   "cell_type": "code",
   "execution_count": null,
   "metadata": {
    "execution": {
     "iopub.execute_input": "2023-07-07T14:53:37.785437Z",
     "iopub.status.busy": "2023-07-07T14:53:37.784941Z",
     "iopub.status.idle": "2023-07-07T14:53:38.727487Z",
     "shell.execute_reply": "2023-07-07T14:53:38.725516Z",
     "shell.execute_reply.started": "2023-07-07T14:53:37.785393Z"
    }
   },
   "outputs": [],
   "source": []
  },
  {
   "cell_type": "markdown",
   "metadata": {},
   "source": [
    "## Criação de avatares\n",
    "\n",
    "A partir das análises feitas anteriormente, vamos criar os avatares ou personas identificados em cada cluster e sugerir o produto ideal para cada um."
   ]
  },
  {
   "cell_type": "markdown",
   "metadata": {
    "execution": {
     "iopub.execute_input": "2023-07-07T13:49:20.046505Z",
     "iopub.status.busy": "2023-07-07T13:49:20.046014Z",
     "iopub.status.idle": "2023-07-07T13:49:20.055953Z",
     "shell.execute_reply": "2023-07-07T13:49:20.054615Z",
     "shell.execute_reply.started": "2023-07-07T13:49:20.046471Z"
    }
   },
   "source": [
    "- **Avatar 1**: [Complete]\n",
    "- **Avatar 2**: [Complete]\n",
    "- **Avatar 3**: ...\n",
    "- ...\n"
   ]
  },
  {
   "cell_type": "markdown",
   "metadata": {},
   "source": [
    "#### **Tarefa**: Sugira o carro ideal para cada avatar"
   ]
  },
  {
   "cell_type": "markdown",
   "metadata": {
    "execution": {
     "iopub.execute_input": "2023-07-07T13:51:26.421848Z",
     "iopub.status.busy": "2023-07-07T13:51:26.421431Z",
     "iopub.status.idle": "2023-07-07T13:51:26.430039Z",
     "shell.execute_reply": "2023-07-07T13:51:26.428389Z",
     "shell.execute_reply.started": "2023-07-07T13:51:26.421817Z"
    }
   },
   "source": [
    "- **Avatar 1**: Carro CX\n",
    "- **Avatar 2**: Carro CY\n",
    "- **Avatar 3**: Carro CZ\n",
    "- ..."
   ]
  },
  {
   "cell_type": "markdown",
   "metadata": {},
   "source": [
    "## Teste do modelo nos dados não-vistos"
   ]
  },
  {
   "cell_type": "markdown",
   "metadata": {},
   "source": [
    "#### **Tarefa**: Faça a predição do modelo para os dados de teste e crie o mesmo dataframe de visualizações de antes para o teste"
   ]
  },
  {
   "cell_type": "code",
   "execution_count": null,
   "metadata": {
    "execution": {
     "iopub.execute_input": "2023-07-07T14:53:38.729894Z",
     "iopub.status.busy": "2023-07-07T14:53:38.729374Z",
     "iopub.status.idle": "2023-07-07T14:53:38.752551Z",
     "shell.execute_reply": "2023-07-07T14:53:38.751374Z",
     "shell.execute_reply.started": "2023-07-07T14:53:38.729828Z"
    }
   },
   "outputs": [],
   "source": []
  },
  {
   "cell_type": "markdown",
   "metadata": {},
   "source": [
    "#### **Tarefa**: Plote os mesmos gráficos anteriores para o teste e verifique se os avatares se mantém\n"
   ]
  },
  {
   "cell_type": "code",
   "execution_count": null,
   "metadata": {
    "execution": {
     "iopub.execute_input": "2023-07-07T14:55:43.646480Z",
     "iopub.status.busy": "2023-07-07T14:55:43.646025Z",
     "iopub.status.idle": "2023-07-07T14:55:46.318378Z",
     "shell.execute_reply": "2023-07-07T14:55:46.317122Z",
     "shell.execute_reply.started": "2023-07-07T14:55:43.646447Z"
    }
   },
   "outputs": [],
   "source": []
  },
  {
   "cell_type": "markdown",
   "metadata": {},
   "source": [
    "# Conclusão\n",
    "\n",
    "### Como podemos direcionar as estratégias de negócio a partir dos resultados criados?\n",
    "\n",
    "### De fato podemos considerar que a subpopulação inicial é equivalente para o novo mercado?\n",
    "\n",
    "**ATENÇÃO**: Você achou esse case difícil, extremamente manual e em alguns momentos não sabia se estava indo pelo caminho certo? Parabéns! Você passou pelo processo REALÍSTICO de criar um modelo de clusterização alinhado ao negócio. Num cenário real, você teria diversas iterações com os analistas de negócio para encontrar segmentos significativos e valorosos e, obviamente, não teria que fazer tudo sozinho. O principal em cases assim é garantir uma comunicação constante e alinhar o passo a passo com os \"stakeholders\" que vão receber ou se utilizar do seu resultado."
   ]
  },
  {
   "cell_type": "code",
   "execution_count": null,
   "metadata": {},
   "outputs": [],
   "source": []
  }
 ],
 "metadata": {
  "kernelspec": {
   "display_name": "Python 3 (ipykernel)",
   "language": "python",
   "name": "python3"
  },
  "language_info": {
   "codemirror_mode": {
    "name": "ipython",
    "version": 3
   },
   "file_extension": ".py",
   "mimetype": "text/x-python",
   "name": "python",
   "nbconvert_exporter": "python",
   "pygments_lexer": "ipython3",
   "version": "3.7.12"
  },
  "toc": {
   "base_numbering": 1,
   "nav_menu": {},
   "number_sections": true,
   "sideBar": true,
   "skip_h1_title": false,
   "title_cell": "Table of Contents",
   "title_sidebar": "Contents",
   "toc_cell": true,
   "toc_position": {
    "height": "calc(100% - 180px)",
    "left": "10px",
    "top": "150px",
    "width": "165px"
   },
   "toc_section_display": true,
   "toc_window_display": true
  },
  "varInspector": {
   "cols": {
    "lenName": 16,
    "lenType": 16,
    "lenVar": 40
   },
   "kernels_config": {
    "python": {
     "delete_cmd_postfix": "",
     "delete_cmd_prefix": "del ",
     "library": "var_list.py",
     "varRefreshCmd": "print(var_dic_list())"
    },
    "r": {
     "delete_cmd_postfix": ") ",
     "delete_cmd_prefix": "rm(",
     "library": "var_list.r",
     "varRefreshCmd": "cat(var_dic_list()) "
    }
   },
   "types_to_exclude": [
    "module",
    "function",
    "builtin_function_or_method",
    "instance",
    "_Feature"
   ],
   "window_display": false
  }
 },
 "nbformat": 4,
 "nbformat_minor": 4
}
